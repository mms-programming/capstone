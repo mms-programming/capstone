{
 "cells": [
  {
   "cell_type": "markdown",
   "metadata": {},
   "source": [
    "# Intro \n",
    "\n",
    "This notebook was used for the final sections of the capstone project including portions of the Result and Conclusion"
   ]
  },
  {
   "cell_type": "markdown",
   "metadata": {},
   "source": [
    "# Robustness analysis\n",
    "\n",
    "The first thing to identify is how robust my model is to small pertubations in the input data. To do this, I decided to make small tweaks to the final input test data and see how this influenced the final test predictions."
   ]
  },
  {
   "cell_type": "markdown",
   "metadata": {},
   "source": [
    "## Model setup\n",
    "\n",
    "Before we can do any analysis, the first thing we need is set up the model from before. "
   ]
  },
  {
   "cell_type": "code",
   "execution_count": 1,
   "metadata": {
    "collapsed": true
   },
   "outputs": [],
   "source": [
    "import pandas as pd\n",
    "import numpy as np\n",
    "import matplotlib.pyplot as plt\n",
    "import seaborn as sns\n",
    "\n",
    "from sklearn.ensemble import GradientBoostingRegressor\n",
    "\n",
    "%matplotlib inline"
   ]
  },
  {
   "cell_type": "code",
   "execution_count": 2,
   "metadata": {
    "collapsed": true
   },
   "outputs": [],
   "source": [
    "# Helper function to make splitting features and target easy!\n",
    "def split_features_target(data): \n",
    "    return data.drop('SalePrice', axis=1), data['SalePrice']\n",
    "\n",
    "def log_transform_features(data, columns, add_value=False): \n",
    "    value = 1 if add_value else 0\n",
    "    \n",
    "    for c in columns: \n",
    "        data['Log'+c] = data[c].apply(lambda x: np.log(x + value))\n",
    "        data = data.drop(c, axis=1)\n",
    "        \n",
    "    return data"
   ]
  },
  {
   "cell_type": "code",
   "execution_count": 3,
   "metadata": {
    "collapsed": true
   },
   "outputs": [],
   "source": [
    "train_data = pd.read_csv('./data/train.csv')\n",
    "test_data = pd.read_csv('./data/test.csv')"
   ]
  },
  {
   "cell_type": "code",
   "execution_count": 4,
   "metadata": {
    "collapsed": true
   },
   "outputs": [],
   "source": [
    "final_model_data = train_data[['LotArea', 'BedroomAbvGr', 'MoSold', 'YrSold', \n",
    "                               'OverallQual', 'GrLivArea', 'Neighborhood', \n",
    "                               'TotalBsmtSF', 'GarageCars', 'ExterQual', \n",
    "                               'BsmtQual', 'KitchenQual', 'SalePrice']]\n",
    "final_model_features, final_model_target = split_features_target(final_model_data)"
   ]
  },
  {
   "cell_type": "code",
   "execution_count": 5,
   "metadata": {},
   "outputs": [
    {
     "data": {
      "text/html": [
       "<div>\n",
       "<style>\n",
       "    .dataframe thead tr:only-child th {\n",
       "        text-align: right;\n",
       "    }\n",
       "\n",
       "    .dataframe thead th {\n",
       "        text-align: left;\n",
       "    }\n",
       "\n",
       "    .dataframe tbody tr th {\n",
       "        vertical-align: top;\n",
       "    }\n",
       "</style>\n",
       "<table border=\"1\" class=\"dataframe\">\n",
       "  <thead>\n",
       "    <tr style=\"text-align: right;\">\n",
       "      <th></th>\n",
       "      <th>BedroomAbvGr</th>\n",
       "      <th>MoSold</th>\n",
       "      <th>YrSold</th>\n",
       "      <th>OverallQual</th>\n",
       "      <th>GarageCars</th>\n",
       "      <th>LogLotArea</th>\n",
       "      <th>LogGrLivArea</th>\n",
       "      <th>LogTotalBsmtSF</th>\n",
       "      <th>Neighborhood_Blmngtn</th>\n",
       "      <th>Neighborhood_Blueste</th>\n",
       "      <th>...</th>\n",
       "      <th>ExterQual_Gd</th>\n",
       "      <th>ExterQual_TA</th>\n",
       "      <th>BsmtQual_Ex</th>\n",
       "      <th>BsmtQual_Fa</th>\n",
       "      <th>BsmtQual_Gd</th>\n",
       "      <th>BsmtQual_TA</th>\n",
       "      <th>KitchenQual_Ex</th>\n",
       "      <th>KitchenQual_Fa</th>\n",
       "      <th>KitchenQual_Gd</th>\n",
       "      <th>KitchenQual_TA</th>\n",
       "    </tr>\n",
       "  </thead>\n",
       "  <tbody>\n",
       "    <tr>\n",
       "      <th>0</th>\n",
       "      <td>3</td>\n",
       "      <td>2</td>\n",
       "      <td>2008</td>\n",
       "      <td>7</td>\n",
       "      <td>2</td>\n",
       "      <td>9.042040</td>\n",
       "      <td>7.444833</td>\n",
       "      <td>6.753438</td>\n",
       "      <td>0</td>\n",
       "      <td>0</td>\n",
       "      <td>...</td>\n",
       "      <td>1</td>\n",
       "      <td>0</td>\n",
       "      <td>0</td>\n",
       "      <td>0</td>\n",
       "      <td>1</td>\n",
       "      <td>0</td>\n",
       "      <td>0</td>\n",
       "      <td>0</td>\n",
       "      <td>1</td>\n",
       "      <td>0</td>\n",
       "    </tr>\n",
       "    <tr>\n",
       "      <th>1</th>\n",
       "      <td>3</td>\n",
       "      <td>5</td>\n",
       "      <td>2007</td>\n",
       "      <td>6</td>\n",
       "      <td>2</td>\n",
       "      <td>9.169623</td>\n",
       "      <td>7.141245</td>\n",
       "      <td>7.141245</td>\n",
       "      <td>0</td>\n",
       "      <td>0</td>\n",
       "      <td>...</td>\n",
       "      <td>0</td>\n",
       "      <td>1</td>\n",
       "      <td>0</td>\n",
       "      <td>0</td>\n",
       "      <td>1</td>\n",
       "      <td>0</td>\n",
       "      <td>0</td>\n",
       "      <td>0</td>\n",
       "      <td>0</td>\n",
       "      <td>1</td>\n",
       "    </tr>\n",
       "    <tr>\n",
       "      <th>2</th>\n",
       "      <td>3</td>\n",
       "      <td>9</td>\n",
       "      <td>2008</td>\n",
       "      <td>7</td>\n",
       "      <td>2</td>\n",
       "      <td>9.328212</td>\n",
       "      <td>7.488294</td>\n",
       "      <td>6.825460</td>\n",
       "      <td>0</td>\n",
       "      <td>0</td>\n",
       "      <td>...</td>\n",
       "      <td>1</td>\n",
       "      <td>0</td>\n",
       "      <td>0</td>\n",
       "      <td>0</td>\n",
       "      <td>1</td>\n",
       "      <td>0</td>\n",
       "      <td>0</td>\n",
       "      <td>0</td>\n",
       "      <td>1</td>\n",
       "      <td>0</td>\n",
       "    </tr>\n",
       "    <tr>\n",
       "      <th>3</th>\n",
       "      <td>3</td>\n",
       "      <td>2</td>\n",
       "      <td>2006</td>\n",
       "      <td>7</td>\n",
       "      <td>3</td>\n",
       "      <td>9.164401</td>\n",
       "      <td>7.448916</td>\n",
       "      <td>6.629363</td>\n",
       "      <td>0</td>\n",
       "      <td>0</td>\n",
       "      <td>...</td>\n",
       "      <td>0</td>\n",
       "      <td>1</td>\n",
       "      <td>0</td>\n",
       "      <td>0</td>\n",
       "      <td>0</td>\n",
       "      <td>1</td>\n",
       "      <td>0</td>\n",
       "      <td>0</td>\n",
       "      <td>1</td>\n",
       "      <td>0</td>\n",
       "    </tr>\n",
       "    <tr>\n",
       "      <th>4</th>\n",
       "      <td>4</td>\n",
       "      <td>12</td>\n",
       "      <td>2008</td>\n",
       "      <td>8</td>\n",
       "      <td>3</td>\n",
       "      <td>9.565284</td>\n",
       "      <td>7.695758</td>\n",
       "      <td>7.044033</td>\n",
       "      <td>0</td>\n",
       "      <td>0</td>\n",
       "      <td>...</td>\n",
       "      <td>1</td>\n",
       "      <td>0</td>\n",
       "      <td>0</td>\n",
       "      <td>0</td>\n",
       "      <td>1</td>\n",
       "      <td>0</td>\n",
       "      <td>0</td>\n",
       "      <td>0</td>\n",
       "      <td>1</td>\n",
       "      <td>0</td>\n",
       "    </tr>\n",
       "  </tbody>\n",
       "</table>\n",
       "<p>5 rows × 45 columns</p>\n",
       "</div>"
      ],
      "text/plain": [
       "   BedroomAbvGr  MoSold  YrSold  OverallQual  GarageCars  LogLotArea  \\\n",
       "0             3       2    2008            7           2    9.042040   \n",
       "1             3       5    2007            6           2    9.169623   \n",
       "2             3       9    2008            7           2    9.328212   \n",
       "3             3       2    2006            7           3    9.164401   \n",
       "4             4      12    2008            8           3    9.565284   \n",
       "\n",
       "   LogGrLivArea  LogTotalBsmtSF  Neighborhood_Blmngtn  Neighborhood_Blueste  \\\n",
       "0      7.444833        6.753438                     0                     0   \n",
       "1      7.141245        7.141245                     0                     0   \n",
       "2      7.488294        6.825460                     0                     0   \n",
       "3      7.448916        6.629363                     0                     0   \n",
       "4      7.695758        7.044033                     0                     0   \n",
       "\n",
       "        ...        ExterQual_Gd  ExterQual_TA  BsmtQual_Ex  BsmtQual_Fa  \\\n",
       "0       ...                   1             0            0            0   \n",
       "1       ...                   0             1            0            0   \n",
       "2       ...                   1             0            0            0   \n",
       "3       ...                   0             1            0            0   \n",
       "4       ...                   1             0            0            0   \n",
       "\n",
       "   BsmtQual_Gd  BsmtQual_TA  KitchenQual_Ex  KitchenQual_Fa  KitchenQual_Gd  \\\n",
       "0            1            0               0               0               1   \n",
       "1            1            0               0               0               0   \n",
       "2            1            0               0               0               1   \n",
       "3            0            1               0               0               1   \n",
       "4            1            0               0               0               1   \n",
       "\n",
       "   KitchenQual_TA  \n",
       "0               0  \n",
       "1               1  \n",
       "2               0  \n",
       "3               0  \n",
       "4               0  \n",
       "\n",
       "[5 rows x 45 columns]"
      ]
     },
     "execution_count": 5,
     "metadata": {},
     "output_type": "execute_result"
    }
   ],
   "source": [
    "final_model_processed_continuous_features = log_transform_features(final_model_features, \n",
    "                                                                   ['LotArea', 'GrLivArea', 'TotalBsmtSF'], add_value=True)\n",
    "final_model_processed_features = pd.get_dummies(final_model_processed_continuous_features)\n",
    "final_model_processed_features.head()"
   ]
  },
  {
   "cell_type": "code",
   "execution_count": 6,
   "metadata": {},
   "outputs": [
    {
     "data": {
      "text/plain": [
       "0    12.247694\n",
       "1    12.109011\n",
       "2    12.317167\n",
       "3    11.849398\n",
       "4    12.429216\n",
       "Name: SalePrice, dtype: float64"
      ]
     },
     "execution_count": 6,
     "metadata": {},
     "output_type": "execute_result"
    }
   ],
   "source": [
    "final_model_processed_target = np.log(final_model_target)\n",
    "final_model_processed_target.head()"
   ]
  },
  {
   "cell_type": "code",
   "execution_count": 7,
   "metadata": {},
   "outputs": [
    {
     "data": {
      "text/plain": [
       "GradientBoostingRegressor(alpha=0.9, criterion='friedman_mse', init=None,\n",
       "             learning_rate=0.1, loss='lad', max_depth=3, max_features=None,\n",
       "             max_leaf_nodes=None, min_impurity_decrease=0.0,\n",
       "             min_impurity_split=None, min_samples_leaf=1,\n",
       "             min_samples_split=2, min_weight_fraction_leaf=0.0,\n",
       "             n_estimators=700, presort='auto', random_state=39,\n",
       "             subsample=1.0, verbose=0, warm_start=False)"
      ]
     },
     "execution_count": 7,
     "metadata": {},
     "output_type": "execute_result"
    }
   ],
   "source": [
    "final_gb_model = GradientBoostingRegressor(loss='lad', max_depth=3, min_samples_leaf=1, \n",
    "                                     learning_rate=0.1, random_state=39, n_estimators=700)\n",
    "final_gb_model.fit(final_model_processed_features, final_model_processed_target)"
   ]
  },
  {
   "cell_type": "markdown",
   "metadata": {},
   "source": [
    "Now we can begin to measure robustness. As it turns out, there are two we can do that. One way to do that is by seeing how different methods of imputations can influence final outcomes. If you remember from before, the test set had three different features that had one missing value each. They were:  `GarageCars`, `TotalBsmtSF`, and `KitchenQual`. The first two were continuous while the last one was categorical. In the previous notebook, I used the mean of the column to fill in the missing data. But what happens if we used a different value (such as the median or the min value of the feature). By using a different value we can get a sense of the robustness of the model. \n",
    "\n",
    "To make things easier to understand, I am going to focus solely on the continuous features as those are easier to measure percent difference. "
   ]
  },
  {
   "cell_type": "markdown",
   "metadata": {},
   "source": [
    "## Null Fill test\n",
    "\n",
    "The first thing I had to do was identify the null rows. One caveat to this process is that I had to run one-hot encoding first; if we ran one-hot encoding afterward, we wouldn't get all of the necessary columns for the categorical variable.  "
   ]
  },
  {
   "cell_type": "code",
   "execution_count": 8,
   "metadata": {
    "collapsed": true
   },
   "outputs": [],
   "source": [
    "final_model_test_features = test_data[['LotArea', 'BedroomAbvGr', 'MoSold', 'YrSold', \n",
    "                                       'OverallQual', 'GrLivArea', 'Neighborhood', \n",
    "                                       'TotalBsmtSF', 'GarageCars', 'ExterQual', \n",
    "                                       'BsmtQual', 'KitchenQual']]\n",
    "\n",
    "final_model_test_ohe_features = pd.get_dummies(final_model_test_features)"
   ]
  },
  {
   "cell_type": "code",
   "execution_count": 9,
   "metadata": {
    "collapsed": true
   },
   "outputs": [],
   "source": [
    "null_garage_row = final_model_test_ohe_features[final_model_test_ohe_features['GarageCars'].isnull()]\n",
    "null_bsmtsf_row = final_model_test_ohe_features[final_model_test_ohe_features['TotalBsmtSF'].isnull()]"
   ]
  },
  {
   "cell_type": "markdown",
   "metadata": {},
   "source": [
    "From there I created a helper function that took that null row and applied different imputation calculation (i.e. min, max, median, mean) to fill that na. Those modified rows were all returned as one giant dataframe. "
   ]
  },
  {
   "cell_type": "code",
   "execution_count": 10,
   "metadata": {
    "collapsed": true
   },
   "outputs": [],
   "source": [
    "def create_different_fill_cases_df(row, df):\n",
    "    min_fix = row.fillna(df.min())\n",
    "    mean_fix = row.fillna(df.mean())\n",
    "    median_fix = row.fillna(df.median())\n",
    "    max_fix = row.fillna(df.max())\n",
    "    \n",
    "    return pd.concat([min_fix, mean_fix, median_fix, max_fix])"
   ]
  },
  {
   "cell_type": "code",
   "execution_count": 11,
   "metadata": {
    "collapsed": true
   },
   "outputs": [],
   "source": [
    "garage_fix_df = create_different_fill_cases_df(null_garage_row, final_model_test_ohe_features)\n",
    "bsmtsf_fix_df = create_different_fill_cases_df(null_bsmtsf_row, final_model_test_ohe_features)"
   ]
  },
  {
   "cell_type": "markdown",
   "metadata": {
    "collapsed": true
   },
   "source": [
    "Here are the results of the two different dataframes"
   ]
  },
  {
   "cell_type": "code",
   "execution_count": 12,
   "metadata": {},
   "outputs": [
    {
     "data": {
      "text/html": [
       "<div>\n",
       "<style>\n",
       "    .dataframe thead tr:only-child th {\n",
       "        text-align: right;\n",
       "    }\n",
       "\n",
       "    .dataframe thead th {\n",
       "        text-align: left;\n",
       "    }\n",
       "\n",
       "    .dataframe tbody tr th {\n",
       "        vertical-align: top;\n",
       "    }\n",
       "</style>\n",
       "<table border=\"1\" class=\"dataframe\">\n",
       "  <thead>\n",
       "    <tr style=\"text-align: right;\">\n",
       "      <th></th>\n",
       "      <th>LotArea</th>\n",
       "      <th>BedroomAbvGr</th>\n",
       "      <th>MoSold</th>\n",
       "      <th>YrSold</th>\n",
       "      <th>OverallQual</th>\n",
       "      <th>GrLivArea</th>\n",
       "      <th>TotalBsmtSF</th>\n",
       "      <th>GarageCars</th>\n",
       "      <th>Neighborhood_Blmngtn</th>\n",
       "      <th>Neighborhood_Blueste</th>\n",
       "      <th>...</th>\n",
       "      <th>ExterQual_Gd</th>\n",
       "      <th>ExterQual_TA</th>\n",
       "      <th>BsmtQual_Ex</th>\n",
       "      <th>BsmtQual_Fa</th>\n",
       "      <th>BsmtQual_Gd</th>\n",
       "      <th>BsmtQual_TA</th>\n",
       "      <th>KitchenQual_Ex</th>\n",
       "      <th>KitchenQual_Fa</th>\n",
       "      <th>KitchenQual_Gd</th>\n",
       "      <th>KitchenQual_TA</th>\n",
       "    </tr>\n",
       "  </thead>\n",
       "  <tbody>\n",
       "    <tr>\n",
       "      <th>1116</th>\n",
       "      <td>9060</td>\n",
       "      <td>3</td>\n",
       "      <td>3</td>\n",
       "      <td>2007</td>\n",
       "      <td>5</td>\n",
       "      <td>1828</td>\n",
       "      <td>859.0</td>\n",
       "      <td>0.000000</td>\n",
       "      <td>0</td>\n",
       "      <td>0</td>\n",
       "      <td>...</td>\n",
       "      <td>0</td>\n",
       "      <td>1</td>\n",
       "      <td>0</td>\n",
       "      <td>0</td>\n",
       "      <td>1</td>\n",
       "      <td>0</td>\n",
       "      <td>0</td>\n",
       "      <td>0</td>\n",
       "      <td>1</td>\n",
       "      <td>0</td>\n",
       "    </tr>\n",
       "    <tr>\n",
       "      <th>1116</th>\n",
       "      <td>9060</td>\n",
       "      <td>3</td>\n",
       "      <td>3</td>\n",
       "      <td>2007</td>\n",
       "      <td>5</td>\n",
       "      <td>1828</td>\n",
       "      <td>859.0</td>\n",
       "      <td>1.766118</td>\n",
       "      <td>0</td>\n",
       "      <td>0</td>\n",
       "      <td>...</td>\n",
       "      <td>0</td>\n",
       "      <td>1</td>\n",
       "      <td>0</td>\n",
       "      <td>0</td>\n",
       "      <td>1</td>\n",
       "      <td>0</td>\n",
       "      <td>0</td>\n",
       "      <td>0</td>\n",
       "      <td>1</td>\n",
       "      <td>0</td>\n",
       "    </tr>\n",
       "    <tr>\n",
       "      <th>1116</th>\n",
       "      <td>9060</td>\n",
       "      <td>3</td>\n",
       "      <td>3</td>\n",
       "      <td>2007</td>\n",
       "      <td>5</td>\n",
       "      <td>1828</td>\n",
       "      <td>859.0</td>\n",
       "      <td>2.000000</td>\n",
       "      <td>0</td>\n",
       "      <td>0</td>\n",
       "      <td>...</td>\n",
       "      <td>0</td>\n",
       "      <td>1</td>\n",
       "      <td>0</td>\n",
       "      <td>0</td>\n",
       "      <td>1</td>\n",
       "      <td>0</td>\n",
       "      <td>0</td>\n",
       "      <td>0</td>\n",
       "      <td>1</td>\n",
       "      <td>0</td>\n",
       "    </tr>\n",
       "    <tr>\n",
       "      <th>1116</th>\n",
       "      <td>9060</td>\n",
       "      <td>3</td>\n",
       "      <td>3</td>\n",
       "      <td>2007</td>\n",
       "      <td>5</td>\n",
       "      <td>1828</td>\n",
       "      <td>859.0</td>\n",
       "      <td>5.000000</td>\n",
       "      <td>0</td>\n",
       "      <td>0</td>\n",
       "      <td>...</td>\n",
       "      <td>0</td>\n",
       "      <td>1</td>\n",
       "      <td>0</td>\n",
       "      <td>0</td>\n",
       "      <td>1</td>\n",
       "      <td>0</td>\n",
       "      <td>0</td>\n",
       "      <td>0</td>\n",
       "      <td>1</td>\n",
       "      <td>0</td>\n",
       "    </tr>\n",
       "  </tbody>\n",
       "</table>\n",
       "<p>4 rows × 45 columns</p>\n",
       "</div>"
      ],
      "text/plain": [
       "      LotArea  BedroomAbvGr  MoSold  YrSold  OverallQual  GrLivArea  \\\n",
       "1116     9060             3       3    2007            5       1828   \n",
       "1116     9060             3       3    2007            5       1828   \n",
       "1116     9060             3       3    2007            5       1828   \n",
       "1116     9060             3       3    2007            5       1828   \n",
       "\n",
       "      TotalBsmtSF  GarageCars  Neighborhood_Blmngtn  Neighborhood_Blueste  \\\n",
       "1116        859.0    0.000000                     0                     0   \n",
       "1116        859.0    1.766118                     0                     0   \n",
       "1116        859.0    2.000000                     0                     0   \n",
       "1116        859.0    5.000000                     0                     0   \n",
       "\n",
       "           ...        ExterQual_Gd  ExterQual_TA  BsmtQual_Ex  BsmtQual_Fa  \\\n",
       "1116       ...                   0             1            0            0   \n",
       "1116       ...                   0             1            0            0   \n",
       "1116       ...                   0             1            0            0   \n",
       "1116       ...                   0             1            0            0   \n",
       "\n",
       "      BsmtQual_Gd  BsmtQual_TA  KitchenQual_Ex  KitchenQual_Fa  \\\n",
       "1116            1            0               0               0   \n",
       "1116            1            0               0               0   \n",
       "1116            1            0               0               0   \n",
       "1116            1            0               0               0   \n",
       "\n",
       "      KitchenQual_Gd  KitchenQual_TA  \n",
       "1116               1               0  \n",
       "1116               1               0  \n",
       "1116               1               0  \n",
       "1116               1               0  \n",
       "\n",
       "[4 rows x 45 columns]"
      ]
     },
     "execution_count": 12,
     "metadata": {},
     "output_type": "execute_result"
    }
   ],
   "source": [
    "garage_fix_df"
   ]
  },
  {
   "cell_type": "code",
   "execution_count": 13,
   "metadata": {},
   "outputs": [
    {
     "data": {
      "text/html": [
       "<div>\n",
       "<style>\n",
       "    .dataframe thead tr:only-child th {\n",
       "        text-align: right;\n",
       "    }\n",
       "\n",
       "    .dataframe thead th {\n",
       "        text-align: left;\n",
       "    }\n",
       "\n",
       "    .dataframe tbody tr th {\n",
       "        vertical-align: top;\n",
       "    }\n",
       "</style>\n",
       "<table border=\"1\" class=\"dataframe\">\n",
       "  <thead>\n",
       "    <tr style=\"text-align: right;\">\n",
       "      <th></th>\n",
       "      <th>LotArea</th>\n",
       "      <th>BedroomAbvGr</th>\n",
       "      <th>MoSold</th>\n",
       "      <th>YrSold</th>\n",
       "      <th>OverallQual</th>\n",
       "      <th>GrLivArea</th>\n",
       "      <th>TotalBsmtSF</th>\n",
       "      <th>GarageCars</th>\n",
       "      <th>Neighborhood_Blmngtn</th>\n",
       "      <th>Neighborhood_Blueste</th>\n",
       "      <th>...</th>\n",
       "      <th>ExterQual_Gd</th>\n",
       "      <th>ExterQual_TA</th>\n",
       "      <th>BsmtQual_Ex</th>\n",
       "      <th>BsmtQual_Fa</th>\n",
       "      <th>BsmtQual_Gd</th>\n",
       "      <th>BsmtQual_TA</th>\n",
       "      <th>KitchenQual_Ex</th>\n",
       "      <th>KitchenQual_Fa</th>\n",
       "      <th>KitchenQual_Gd</th>\n",
       "      <th>KitchenQual_TA</th>\n",
       "    </tr>\n",
       "  </thead>\n",
       "  <tbody>\n",
       "    <tr>\n",
       "      <th>660</th>\n",
       "      <td>5940</td>\n",
       "      <td>2</td>\n",
       "      <td>4</td>\n",
       "      <td>2008</td>\n",
       "      <td>4</td>\n",
       "      <td>896</td>\n",
       "      <td>0.00000</td>\n",
       "      <td>1.0</td>\n",
       "      <td>0</td>\n",
       "      <td>0</td>\n",
       "      <td>...</td>\n",
       "      <td>0</td>\n",
       "      <td>1</td>\n",
       "      <td>0</td>\n",
       "      <td>0</td>\n",
       "      <td>0</td>\n",
       "      <td>0</td>\n",
       "      <td>0</td>\n",
       "      <td>0</td>\n",
       "      <td>0</td>\n",
       "      <td>1</td>\n",
       "    </tr>\n",
       "    <tr>\n",
       "      <th>660</th>\n",
       "      <td>5940</td>\n",
       "      <td>2</td>\n",
       "      <td>4</td>\n",
       "      <td>2008</td>\n",
       "      <td>4</td>\n",
       "      <td>896</td>\n",
       "      <td>1046.11797</td>\n",
       "      <td>1.0</td>\n",
       "      <td>0</td>\n",
       "      <td>0</td>\n",
       "      <td>...</td>\n",
       "      <td>0</td>\n",
       "      <td>1</td>\n",
       "      <td>0</td>\n",
       "      <td>0</td>\n",
       "      <td>0</td>\n",
       "      <td>0</td>\n",
       "      <td>0</td>\n",
       "      <td>0</td>\n",
       "      <td>0</td>\n",
       "      <td>1</td>\n",
       "    </tr>\n",
       "    <tr>\n",
       "      <th>660</th>\n",
       "      <td>5940</td>\n",
       "      <td>2</td>\n",
       "      <td>4</td>\n",
       "      <td>2008</td>\n",
       "      <td>4</td>\n",
       "      <td>896</td>\n",
       "      <td>988.00000</td>\n",
       "      <td>1.0</td>\n",
       "      <td>0</td>\n",
       "      <td>0</td>\n",
       "      <td>...</td>\n",
       "      <td>0</td>\n",
       "      <td>1</td>\n",
       "      <td>0</td>\n",
       "      <td>0</td>\n",
       "      <td>0</td>\n",
       "      <td>0</td>\n",
       "      <td>0</td>\n",
       "      <td>0</td>\n",
       "      <td>0</td>\n",
       "      <td>1</td>\n",
       "    </tr>\n",
       "    <tr>\n",
       "      <th>660</th>\n",
       "      <td>5940</td>\n",
       "      <td>2</td>\n",
       "      <td>4</td>\n",
       "      <td>2008</td>\n",
       "      <td>4</td>\n",
       "      <td>896</td>\n",
       "      <td>5095.00000</td>\n",
       "      <td>1.0</td>\n",
       "      <td>0</td>\n",
       "      <td>0</td>\n",
       "      <td>...</td>\n",
       "      <td>0</td>\n",
       "      <td>1</td>\n",
       "      <td>0</td>\n",
       "      <td>0</td>\n",
       "      <td>0</td>\n",
       "      <td>0</td>\n",
       "      <td>0</td>\n",
       "      <td>0</td>\n",
       "      <td>0</td>\n",
       "      <td>1</td>\n",
       "    </tr>\n",
       "  </tbody>\n",
       "</table>\n",
       "<p>4 rows × 45 columns</p>\n",
       "</div>"
      ],
      "text/plain": [
       "     LotArea  BedroomAbvGr  MoSold  YrSold  OverallQual  GrLivArea  \\\n",
       "660     5940             2       4    2008            4        896   \n",
       "660     5940             2       4    2008            4        896   \n",
       "660     5940             2       4    2008            4        896   \n",
       "660     5940             2       4    2008            4        896   \n",
       "\n",
       "     TotalBsmtSF  GarageCars  Neighborhood_Blmngtn  Neighborhood_Blueste  \\\n",
       "660      0.00000         1.0                     0                     0   \n",
       "660   1046.11797         1.0                     0                     0   \n",
       "660    988.00000         1.0                     0                     0   \n",
       "660   5095.00000         1.0                     0                     0   \n",
       "\n",
       "          ...        ExterQual_Gd  ExterQual_TA  BsmtQual_Ex  BsmtQual_Fa  \\\n",
       "660       ...                   0             1            0            0   \n",
       "660       ...                   0             1            0            0   \n",
       "660       ...                   0             1            0            0   \n",
       "660       ...                   0             1            0            0   \n",
       "\n",
       "     BsmtQual_Gd  BsmtQual_TA  KitchenQual_Ex  KitchenQual_Fa  KitchenQual_Gd  \\\n",
       "660            0            0               0               0               0   \n",
       "660            0            0               0               0               0   \n",
       "660            0            0               0               0               0   \n",
       "660            0            0               0               0               0   \n",
       "\n",
       "     KitchenQual_TA  \n",
       "660               1  \n",
       "660               1  \n",
       "660               1  \n",
       "660               1  \n",
       "\n",
       "[4 rows x 45 columns]"
      ]
     },
     "execution_count": 13,
     "metadata": {},
     "output_type": "execute_result"
    }
   ],
   "source": [
    "bsmtsf_fix_df"
   ]
  },
  {
   "cell_type": "markdown",
   "metadata": {},
   "source": [
    "As you can see, the only thing different between the rows was how the missing value was filled in. After having these two dataframes, it was time to logTransform the original varaiables and put the columns in the right order. "
   ]
  },
  {
   "cell_type": "code",
   "execution_count": 14,
   "metadata": {
    "collapsed": true
   },
   "outputs": [],
   "source": [
    "def final_transformations(df, column_order): \n",
    "    log_transform_df = log_transform_features(df, ['LotArea', 'GrLivArea', 'TotalBsmtSF'], add_value=True)\n",
    "    return log_transform_df[column_order]"
   ]
  },
  {
   "cell_type": "code",
   "execution_count": 15,
   "metadata": {
    "collapsed": true
   },
   "outputs": [],
   "source": [
    "final_garage_fillna_df = final_transformations(garage_fix_df, final_model_processed_features.columns)\n",
    "final_bmstsf_fillna_df = final_transformations(bsmtsf_fix_df, final_model_processed_features.columns)"
   ]
  },
  {
   "cell_type": "markdown",
   "metadata": {},
   "source": [
    "Here's the final result for our `GarageCars` imputation dataframe"
   ]
  },
  {
   "cell_type": "code",
   "execution_count": 16,
   "metadata": {},
   "outputs": [
    {
     "data": {
      "text/html": [
       "<div>\n",
       "<style>\n",
       "    .dataframe thead tr:only-child th {\n",
       "        text-align: right;\n",
       "    }\n",
       "\n",
       "    .dataframe thead th {\n",
       "        text-align: left;\n",
       "    }\n",
       "\n",
       "    .dataframe tbody tr th {\n",
       "        vertical-align: top;\n",
       "    }\n",
       "</style>\n",
       "<table border=\"1\" class=\"dataframe\">\n",
       "  <thead>\n",
       "    <tr style=\"text-align: right;\">\n",
       "      <th></th>\n",
       "      <th>BedroomAbvGr</th>\n",
       "      <th>MoSold</th>\n",
       "      <th>YrSold</th>\n",
       "      <th>OverallQual</th>\n",
       "      <th>GarageCars</th>\n",
       "      <th>LogLotArea</th>\n",
       "      <th>LogGrLivArea</th>\n",
       "      <th>LogTotalBsmtSF</th>\n",
       "      <th>Neighborhood_Blmngtn</th>\n",
       "      <th>Neighborhood_Blueste</th>\n",
       "      <th>...</th>\n",
       "      <th>ExterQual_Gd</th>\n",
       "      <th>ExterQual_TA</th>\n",
       "      <th>BsmtQual_Ex</th>\n",
       "      <th>BsmtQual_Fa</th>\n",
       "      <th>BsmtQual_Gd</th>\n",
       "      <th>BsmtQual_TA</th>\n",
       "      <th>KitchenQual_Ex</th>\n",
       "      <th>KitchenQual_Fa</th>\n",
       "      <th>KitchenQual_Gd</th>\n",
       "      <th>KitchenQual_TA</th>\n",
       "    </tr>\n",
       "  </thead>\n",
       "  <tbody>\n",
       "    <tr>\n",
       "      <th>1116</th>\n",
       "      <td>3</td>\n",
       "      <td>3</td>\n",
       "      <td>2007</td>\n",
       "      <td>5</td>\n",
       "      <td>0.000000</td>\n",
       "      <td>9.111735</td>\n",
       "      <td>7.511525</td>\n",
       "      <td>6.756932</td>\n",
       "      <td>0</td>\n",
       "      <td>0</td>\n",
       "      <td>...</td>\n",
       "      <td>0</td>\n",
       "      <td>1</td>\n",
       "      <td>0</td>\n",
       "      <td>0</td>\n",
       "      <td>1</td>\n",
       "      <td>0</td>\n",
       "      <td>0</td>\n",
       "      <td>0</td>\n",
       "      <td>1</td>\n",
       "      <td>0</td>\n",
       "    </tr>\n",
       "    <tr>\n",
       "      <th>1116</th>\n",
       "      <td>3</td>\n",
       "      <td>3</td>\n",
       "      <td>2007</td>\n",
       "      <td>5</td>\n",
       "      <td>1.766118</td>\n",
       "      <td>9.111735</td>\n",
       "      <td>7.511525</td>\n",
       "      <td>6.756932</td>\n",
       "      <td>0</td>\n",
       "      <td>0</td>\n",
       "      <td>...</td>\n",
       "      <td>0</td>\n",
       "      <td>1</td>\n",
       "      <td>0</td>\n",
       "      <td>0</td>\n",
       "      <td>1</td>\n",
       "      <td>0</td>\n",
       "      <td>0</td>\n",
       "      <td>0</td>\n",
       "      <td>1</td>\n",
       "      <td>0</td>\n",
       "    </tr>\n",
       "    <tr>\n",
       "      <th>1116</th>\n",
       "      <td>3</td>\n",
       "      <td>3</td>\n",
       "      <td>2007</td>\n",
       "      <td>5</td>\n",
       "      <td>2.000000</td>\n",
       "      <td>9.111735</td>\n",
       "      <td>7.511525</td>\n",
       "      <td>6.756932</td>\n",
       "      <td>0</td>\n",
       "      <td>0</td>\n",
       "      <td>...</td>\n",
       "      <td>0</td>\n",
       "      <td>1</td>\n",
       "      <td>0</td>\n",
       "      <td>0</td>\n",
       "      <td>1</td>\n",
       "      <td>0</td>\n",
       "      <td>0</td>\n",
       "      <td>0</td>\n",
       "      <td>1</td>\n",
       "      <td>0</td>\n",
       "    </tr>\n",
       "    <tr>\n",
       "      <th>1116</th>\n",
       "      <td>3</td>\n",
       "      <td>3</td>\n",
       "      <td>2007</td>\n",
       "      <td>5</td>\n",
       "      <td>5.000000</td>\n",
       "      <td>9.111735</td>\n",
       "      <td>7.511525</td>\n",
       "      <td>6.756932</td>\n",
       "      <td>0</td>\n",
       "      <td>0</td>\n",
       "      <td>...</td>\n",
       "      <td>0</td>\n",
       "      <td>1</td>\n",
       "      <td>0</td>\n",
       "      <td>0</td>\n",
       "      <td>1</td>\n",
       "      <td>0</td>\n",
       "      <td>0</td>\n",
       "      <td>0</td>\n",
       "      <td>1</td>\n",
       "      <td>0</td>\n",
       "    </tr>\n",
       "  </tbody>\n",
       "</table>\n",
       "<p>4 rows × 45 columns</p>\n",
       "</div>"
      ],
      "text/plain": [
       "      BedroomAbvGr  MoSold  YrSold  OverallQual  GarageCars  LogLotArea  \\\n",
       "1116             3       3    2007            5    0.000000    9.111735   \n",
       "1116             3       3    2007            5    1.766118    9.111735   \n",
       "1116             3       3    2007            5    2.000000    9.111735   \n",
       "1116             3       3    2007            5    5.000000    9.111735   \n",
       "\n",
       "      LogGrLivArea  LogTotalBsmtSF  Neighborhood_Blmngtn  \\\n",
       "1116      7.511525        6.756932                     0   \n",
       "1116      7.511525        6.756932                     0   \n",
       "1116      7.511525        6.756932                     0   \n",
       "1116      7.511525        6.756932                     0   \n",
       "\n",
       "      Neighborhood_Blueste       ...        ExterQual_Gd  ExterQual_TA  \\\n",
       "1116                     0       ...                   0             1   \n",
       "1116                     0       ...                   0             1   \n",
       "1116                     0       ...                   0             1   \n",
       "1116                     0       ...                   0             1   \n",
       "\n",
       "      BsmtQual_Ex  BsmtQual_Fa  BsmtQual_Gd  BsmtQual_TA  KitchenQual_Ex  \\\n",
       "1116            0            0            1            0               0   \n",
       "1116            0            0            1            0               0   \n",
       "1116            0            0            1            0               0   \n",
       "1116            0            0            1            0               0   \n",
       "\n",
       "      KitchenQual_Fa  KitchenQual_Gd  KitchenQual_TA  \n",
       "1116               0               1               0  \n",
       "1116               0               1               0  \n",
       "1116               0               1               0  \n",
       "1116               0               1               0  \n",
       "\n",
       "[4 rows x 45 columns]"
      ]
     },
     "execution_count": 16,
     "metadata": {},
     "output_type": "execute_result"
    }
   ],
   "source": [
    "final_garage_fillna_df"
   ]
  },
  {
   "cell_type": "markdown",
   "metadata": {},
   "source": [
    "Now that we have the correct input, let's see how different values in each feature lead to different predictions."
   ]
  },
  {
   "cell_type": "markdown",
   "metadata": {},
   "source": [
    "### `GarageCars` Analysis\n",
    "\n",
    "Let's start with how different imputation in `GarageCar` leads to different predictions. \n",
    "\n",
    "First, let's examine the different values for this feature and the summary statistics across the board. "
   ]
  },
  {
   "cell_type": "code",
   "execution_count": 17,
   "metadata": {},
   "outputs": [
    {
     "data": {
      "text/plain": [
       "1116    0.000000\n",
       "1116    1.766118\n",
       "1116    2.000000\n",
       "1116    5.000000\n",
       "Name: GarageCars, dtype: float64"
      ]
     },
     "execution_count": 17,
     "metadata": {},
     "output_type": "execute_result"
    }
   ],
   "source": [
    "final_garage_fillna_df['GarageCars']"
   ]
  },
  {
   "cell_type": "code",
   "execution_count": 18,
   "metadata": {},
   "outputs": [
    {
     "data": {
      "text/plain": [
       "count    4.000000\n",
       "mean     2.191529\n",
       "std      2.074284\n",
       "min      0.000000\n",
       "25%      1.324588\n",
       "50%      1.883059\n",
       "75%      2.750000\n",
       "max      5.000000\n",
       "Name: GarageCars, dtype: float64"
      ]
     },
     "execution_count": 18,
     "metadata": {},
     "output_type": "execute_result"
    }
   ],
   "source": [
    "final_garage_fillna_df['GarageCars'].describe()"
   ]
  },
  {
   "cell_type": "markdown",
   "metadata": {},
   "source": [
    "Nothing too crazy. Now let's have our model predict final log(`SalePrice`) as well as convert them into the original saleprice. "
   ]
  },
  {
   "cell_type": "code",
   "execution_count": 19,
   "metadata": {},
   "outputs": [
    {
     "data": {
      "text/plain": [
       "array([ 11.86572962,  12.01482126,  12.01482126,  12.03870777])"
      ]
     },
     "execution_count": 19,
     "metadata": {},
     "output_type": "execute_result"
    }
   ],
   "source": [
    "garage_predict = final_gb_model.predict(final_garage_fillna_df)\n",
    "garage_predict"
   ]
  },
  {
   "cell_type": "code",
   "execution_count": 20,
   "metadata": {},
   "outputs": [
    {
     "data": {
      "text/plain": [
       "array([ 142305.24199147,  165184.98670012,  165184.98670012,\n",
       "        169178.18156323])"
      ]
     },
     "execution_count": 20,
     "metadata": {},
     "output_type": "execute_result"
    }
   ],
   "source": [
    "orig_garage_saleprice = np.exp(garage_predict)\n",
    "orig_garage_saleprice"
   ]
  },
  {
   "cell_type": "markdown",
   "metadata": {},
   "source": [
    "Interestingly, either using the mean or the median resulted in the same final prediction! \n",
    "\n",
    "Let's look at these results more closely by plotting different statistics across these predictions"
   ]
  },
  {
   "cell_type": "code",
   "execution_count": 21,
   "metadata": {},
   "outputs": [
    {
     "data": {
      "text/plain": [
       "[11.865729621006423,\n",
       " 11.983519975268484,\n",
       " 12.014821256400005,\n",
       " 12.038707767267503,\n",
       " 0.068701892884872204]"
      ]
     },
     "execution_count": 21,
     "metadata": {},
     "output_type": "execute_result"
    }
   ],
   "source": [
    "[garage_predict.min(), garage_predict.mean(), np.median(garage_predict), \n",
    " garage_predict.max(), garage_predict.std()]"
   ]
  },
  {
   "cell_type": "code",
   "execution_count": 22,
   "metadata": {},
   "outputs": [
    {
     "data": {
      "text/plain": [
       "[142305.24199147147,\n",
       " 160463.34923873667,\n",
       " 165184.98670012178,\n",
       " 169178.18156323169,\n",
       " 10609.581540767273]"
      ]
     },
     "execution_count": 22,
     "metadata": {},
     "output_type": "execute_result"
    }
   ],
   "source": [
    "[orig_garage_saleprice.min(), orig_garage_saleprice.mean(), np.median(orig_garage_saleprice), \n",
    " orig_garage_saleprice.max(), orig_garage_saleprice.std()]"
   ]
  },
  {
   "cell_type": "markdown",
   "metadata": {},
   "source": [
    "The std doesn't appear that bad. Additionally, using the min value of the feature for imputation resulted in the lowest predicted value while using the max value of the feature for imputation resulted in the highest predicted value. This seems reasonasble. More importantly this now allows us to see the impact of a certain percent decrease in imputation value. \n",
    "\n",
    "In this case, the percent decrease is 100% between max and min feature values. What is the percent decrease in actual predictions? "
   ]
  },
  {
   "cell_type": "code",
   "execution_count": 23,
   "metadata": {},
   "outputs": [
    {
     "data": {
      "text/plain": [
       "-1.436849781596967"
      ]
     },
     "execution_count": 23,
     "metadata": {},
     "output_type": "execute_result"
    }
   ],
   "source": [
    "(garage_predict[0] - garage_predict[3]) / garage_predict[3] * 100"
   ]
  },
  {
   "cell_type": "code",
   "execution_count": 24,
   "metadata": {},
   "outputs": [
    {
     "data": {
      "text/plain": [
       "-15.884400295268714"
      ]
     },
     "execution_count": 24,
     "metadata": {},
     "output_type": "execute_result"
    }
   ],
   "source": [
    "(orig_garage_saleprice[0] - orig_garage_saleprice[3]) / orig_garage_saleprice[3] * 100"
   ]
  },
  {
   "cell_type": "markdown",
   "metadata": {},
   "source": [
    "The first tells us that the percent decrease for predicted log(`SalePrice`) is 1.44% decrease while the percent decrease in original `SalePrice` terms if 15.88%. \n",
    "\n",
    "So does this indicate our model is relatively robust? I believe the answer is yes! First, we saw that regardless whether we use the mean of `GarageCars` or the median of `GarageCars`, the predicted value is the same. Additionally, we saw that a 100% decrease in the value of `GarageCars` in this case (comparing the max value we could use [5] versus the min value [0]) lead to 1.44% decrease in predicted log(`SalePrice`) and a 15% decrease in predicted `SalePrice` (after taking the inverse log). In my mind that is not bad at all! \n",
    "\n",
    "Now that we have examined this for `GarageCars`, let's do the same analysis for `TotalBsmtSF`"
   ]
  },
  {
   "cell_type": "markdown",
   "metadata": {},
   "source": [
    "### `TotalBsmtSF` Analysis"
   ]
  },
  {
   "cell_type": "markdown",
   "metadata": {},
   "source": [
    "`TotalBsmtSF` is a little different because this column is eventually log transformed. However the imputation is done _before_ the transformation. As before, let's just quickly see the range of values we could have used for imputation. "
   ]
  },
  {
   "cell_type": "code",
   "execution_count": 25,
   "metadata": {},
   "outputs": [
    {
     "data": {
      "text/plain": [
       "660       0.00000\n",
       "660    1046.11797\n",
       "660     988.00000\n",
       "660    5095.00000\n",
       "Name: TotalBsmtSF, dtype: float64"
      ]
     },
     "execution_count": 25,
     "metadata": {},
     "output_type": "execute_result"
    }
   ],
   "source": [
    "bsmtsf_fix_df['TotalBsmtSF']"
   ]
  },
  {
   "cell_type": "code",
   "execution_count": 26,
   "metadata": {},
   "outputs": [
    {
     "data": {
      "text/plain": [
       "count       4.000000\n",
       "mean     1782.279492\n",
       "std      2260.048012\n",
       "min         0.000000\n",
       "25%       741.000000\n",
       "50%      1017.058985\n",
       "75%      2058.338477\n",
       "max      5095.000000\n",
       "Name: TotalBsmtSF, dtype: float64"
      ]
     },
     "execution_count": 26,
     "metadata": {},
     "output_type": "execute_result"
    }
   ],
   "source": [
    "bsmtsf_fix_df['TotalBsmtSF'].describe()"
   ]
  },
  {
   "cell_type": "code",
   "execution_count": 27,
   "metadata": {},
   "outputs": [
    {
     "data": {
      "text/plain": [
       "660    0.000000\n",
       "660    6.953797\n",
       "660    6.896694\n",
       "660    8.536211\n",
       "Name: LogTotalBsmtSF, dtype: float64"
      ]
     },
     "execution_count": 27,
     "metadata": {},
     "output_type": "execute_result"
    }
   ],
   "source": [
    "final_bmstsf_fillna_df['LogTotalBsmtSF']"
   ]
  },
  {
   "cell_type": "code",
   "execution_count": 28,
   "metadata": {},
   "outputs": [
    {
     "data": {
      "text/plain": [
       "count    4.000000\n",
       "mean     5.596676\n",
       "std      3.807688\n",
       "min      0.000000\n",
       "25%      5.172521\n",
       "50%      6.925246\n",
       "75%      7.349400\n",
       "max      8.536211\n",
       "Name: LogTotalBsmtSF, dtype: float64"
      ]
     },
     "execution_count": 28,
     "metadata": {},
     "output_type": "execute_result"
    }
   ],
   "source": [
    "final_bmstsf_fillna_df['LogTotalBsmtSF'].describe()"
   ]
  },
  {
   "cell_type": "markdown",
   "metadata": {},
   "source": [
    "The range here seems to be a lot bigger than `GarageCars`, which suggests we may have more variability in our final predictions. As expected, we can see how log transform made all of the values a lot smaller.  We can see how the imputed TotalBsmtSF values gets log transformed into smaller values. Of course, it is these log values that will ultimately be used by the model. \n",
    "\n",
    "Let's now examine the predictions across the different imputation values (both for log(`SalePrice`) and original `SalePrice` after taking the inverse log)"
   ]
  },
  {
   "cell_type": "code",
   "execution_count": 29,
   "metadata": {},
   "outputs": [
    {
     "data": {
      "text/plain": [
       "array([ 11.37571131,  11.64954941,  11.64954941,  11.93076127])"
      ]
     },
     "execution_count": 29,
     "metadata": {},
     "output_type": "execute_result"
    }
   ],
   "source": [
    "bsmtsf_predict = final_gb_model.predict(final_bmstsf_fillna_df)\n",
    "bsmtsf_predict"
   ]
  },
  {
   "cell_type": "code",
   "execution_count": 30,
   "metadata": {},
   "outputs": [
    {
     "data": {
      "text/plain": [
       "array([  87178.35098733,  114639.69642248,  114639.69642248,\n",
       "        151867.12945773])"
      ]
     },
     "execution_count": 30,
     "metadata": {},
     "output_type": "execute_result"
    }
   ],
   "source": [
    "orig_bsmtsf_saleprice = np.exp(bsmtsf_predict)\n",
    "orig_bsmtsf_saleprice"
   ]
  },
  {
   "cell_type": "markdown",
   "metadata": {},
   "source": [
    "Once again mean (2nd value) and median resulted in the same prediction, even though the difference between them was a lot bigger! Let's now do some summary statistics on these predictions. "
   ]
  },
  {
   "cell_type": "code",
   "execution_count": 31,
   "metadata": {},
   "outputs": [
    {
     "data": {
      "text/plain": [
       "[11.375711310579472,\n",
       " 11.651392852155443,\n",
       " 11.649549414404365,\n",
       " 11.930761269233573,\n",
       " 0.19624845308430311]"
      ]
     },
     "execution_count": 31,
     "metadata": {},
     "output_type": "execute_result"
    }
   ],
   "source": [
    "[bsmtsf_predict.min(), bsmtsf_predict.mean(), np.median(bsmtsf_predict), \n",
    " bsmtsf_predict.max(), bsmtsf_predict.std()]"
   ]
  },
  {
   "cell_type": "code",
   "execution_count": 32,
   "metadata": {},
   "outputs": [
    {
     "data": {
      "text/plain": [
       "[87178.350987334154,\n",
       " 117081.21832250748,\n",
       " 114639.696422483,\n",
       " 151867.12945772972,\n",
       " 23000.886650024782]"
      ]
     },
     "execution_count": 32,
     "metadata": {},
     "output_type": "execute_result"
    }
   ],
   "source": [
    "[orig_bsmtsf_saleprice.min(), orig_bsmtsf_saleprice.mean(), np.median(orig_bsmtsf_saleprice), \n",
    " orig_bsmtsf_saleprice.max(), orig_bsmtsf_saleprice.std()]"
   ]
  },
  {
   "cell_type": "markdown",
   "metadata": {},
   "source": [
    "The std is a lot higher than before but the same general pattern is seen again: the min imputation value leads to the small prediction while the max imputation value leads to the hgihest prediction. \n",
    "\n",
    "Let's now once again see the percent decrease in prediction between using the max imputation value and the min imputation value. From a feature standpoint, the percent decrease is once again 100%"
   ]
  },
  {
   "cell_type": "code",
   "execution_count": 33,
   "metadata": {},
   "outputs": [
    {
     "data": {
      "text/plain": [
       "-4.6522593665957794"
      ]
     },
     "execution_count": 33,
     "metadata": {},
     "output_type": "execute_result"
    }
   ],
   "source": [
    "(bsmtsf_predict[0] - bsmtsf_predict[3]) / bsmtsf_predict[3] * 100"
   ]
  },
  {
   "cell_type": "code",
   "execution_count": 34,
   "metadata": {},
   "outputs": [
    {
     "data": {
      "text/plain": [
       "-42.595641796469764"
      ]
     },
     "execution_count": 34,
     "metadata": {},
     "output_type": "execute_result"
    }
   ],
   "source": [
    "(orig_bsmtsf_saleprice[0] - orig_bsmtsf_saleprice[3]) / orig_bsmtsf_saleprice[3] * 100"
   ]
  },
  {
   "cell_type": "markdown",
   "metadata": {},
   "source": [
    "On the log(`SalePrice`) a 100% decrease in imputation value lead to a 4.65% decrease in predicted log(`SalePrice`). If we just look at original `SalePrice` the percent decrease is 42.60%. Although higiher than before, I am less bothered by this as I care more about percent decrease in log(`SalePrice`). Additionally, the percent decrease is still a lot less than the 100% decrease in input! \n",
    "\n",
    "Thus, the pattern for `TotalBsmtSF` is very similar to that of `GarageCars`. Using the mean or median of `LogTotalBsmtSF` lead to the exact same result. ADditionally, a 100% decrease in the input/imputation value for this feature (max value of 8.54 to a min value of 0) lead only to a 4.65% percent decrease in predicted log(`SalePrice`) and a 42.59% decrease in original `SalePrice`. Thus, this suggests to me once again that the model is robust. "
   ]
  },
  {
   "cell_type": "markdown",
   "metadata": {},
   "source": [
    "## Percent change test\n",
    "\n",
    "Of course, this is not the only way to measure robustness. Another, perhaps even better, way to measure robustness is to jitter individual values and see what happens. In my case, I am going to increase the value of several relevant continuous columns one at a time by a certain percentage (i.e. 1% increase the board) and see how that impact's the final predictions. If our model is robust, we should see that a small percentage impact _should not_ have a big impact on our final predictions. \n",
    "\n",
    "To make my life easier, I am going to remove all rows that had a null value so imputation isn't a confounding factor. "
   ]
  },
  {
   "cell_type": "code",
   "execution_count": 35,
   "metadata": {
    "collapsed": true
   },
   "outputs": [],
   "source": [
    "# First step, remove the row with the null value so it doesn't influence result\n",
    "predicate = final_model_test_features['GarageCars'].isnull() | \\\n",
    "            final_model_test_features['TotalBsmtSF'].isnull() | \\\n",
    "            final_model_test_features['KitchenQual'].isnull()\n",
    "        \n",
    "final_model_no_null_test_features = final_model_test_features[~predicate]"
   ]
  },
  {
   "cell_type": "markdown",
   "metadata": {},
   "source": [
    "Now we are going to need to get the original prediction values before we do any pertubations to the input values. "
   ]
  },
  {
   "cell_type": "code",
   "execution_count": 36,
   "metadata": {},
   "outputs": [
    {
     "name": "stderr",
     "output_type": "stream",
     "text": [
      "/Users/mihaimsirbu/anaconda/envs/capstone/lib/python3.6/site-packages/ipykernel_launcher.py:9: SettingWithCopyWarning: \n",
      "A value is trying to be set on a copy of a slice from a DataFrame.\n",
      "Try using .loc[row_indexer,col_indexer] = value instead\n",
      "\n",
      "See the caveats in the documentation: http://pandas.pydata.org/pandas-docs/stable/indexing.html#indexing-view-versus-copy\n",
      "  if __name__ == '__main__':\n"
     ]
    },
    {
     "data": {
      "text/html": [
       "<div>\n",
       "<style>\n",
       "    .dataframe thead tr:only-child th {\n",
       "        text-align: right;\n",
       "    }\n",
       "\n",
       "    .dataframe thead th {\n",
       "        text-align: left;\n",
       "    }\n",
       "\n",
       "    .dataframe tbody tr th {\n",
       "        vertical-align: top;\n",
       "    }\n",
       "</style>\n",
       "<table border=\"1\" class=\"dataframe\">\n",
       "  <thead>\n",
       "    <tr style=\"text-align: right;\">\n",
       "      <th></th>\n",
       "      <th>BedroomAbvGr</th>\n",
       "      <th>MoSold</th>\n",
       "      <th>YrSold</th>\n",
       "      <th>OverallQual</th>\n",
       "      <th>GarageCars</th>\n",
       "      <th>LogLotArea</th>\n",
       "      <th>LogGrLivArea</th>\n",
       "      <th>LogTotalBsmtSF</th>\n",
       "      <th>Neighborhood_Blmngtn</th>\n",
       "      <th>Neighborhood_Blueste</th>\n",
       "      <th>...</th>\n",
       "      <th>ExterQual_Gd</th>\n",
       "      <th>ExterQual_TA</th>\n",
       "      <th>BsmtQual_Ex</th>\n",
       "      <th>BsmtQual_Fa</th>\n",
       "      <th>BsmtQual_Gd</th>\n",
       "      <th>BsmtQual_TA</th>\n",
       "      <th>KitchenQual_Ex</th>\n",
       "      <th>KitchenQual_Fa</th>\n",
       "      <th>KitchenQual_Gd</th>\n",
       "      <th>KitchenQual_TA</th>\n",
       "    </tr>\n",
       "  </thead>\n",
       "  <tbody>\n",
       "    <tr>\n",
       "      <th>0</th>\n",
       "      <td>2</td>\n",
       "      <td>6</td>\n",
       "      <td>2010</td>\n",
       "      <td>5</td>\n",
       "      <td>1.0</td>\n",
       "      <td>9.360741</td>\n",
       "      <td>6.799056</td>\n",
       "      <td>6.783325</td>\n",
       "      <td>0</td>\n",
       "      <td>0</td>\n",
       "      <td>...</td>\n",
       "      <td>0</td>\n",
       "      <td>1</td>\n",
       "      <td>0</td>\n",
       "      <td>0</td>\n",
       "      <td>0</td>\n",
       "      <td>1</td>\n",
       "      <td>0</td>\n",
       "      <td>0</td>\n",
       "      <td>0</td>\n",
       "      <td>1</td>\n",
       "    </tr>\n",
       "    <tr>\n",
       "      <th>1</th>\n",
       "      <td>3</td>\n",
       "      <td>6</td>\n",
       "      <td>2010</td>\n",
       "      <td>6</td>\n",
       "      <td>1.0</td>\n",
       "      <td>9.565775</td>\n",
       "      <td>7.192934</td>\n",
       "      <td>7.192934</td>\n",
       "      <td>0</td>\n",
       "      <td>0</td>\n",
       "      <td>...</td>\n",
       "      <td>0</td>\n",
       "      <td>1</td>\n",
       "      <td>0</td>\n",
       "      <td>0</td>\n",
       "      <td>0</td>\n",
       "      <td>1</td>\n",
       "      <td>0</td>\n",
       "      <td>0</td>\n",
       "      <td>1</td>\n",
       "      <td>0</td>\n",
       "    </tr>\n",
       "    <tr>\n",
       "      <th>2</th>\n",
       "      <td>3</td>\n",
       "      <td>3</td>\n",
       "      <td>2010</td>\n",
       "      <td>5</td>\n",
       "      <td>2.0</td>\n",
       "      <td>9.534668</td>\n",
       "      <td>7.396335</td>\n",
       "      <td>6.834109</td>\n",
       "      <td>0</td>\n",
       "      <td>0</td>\n",
       "      <td>...</td>\n",
       "      <td>0</td>\n",
       "      <td>1</td>\n",
       "      <td>0</td>\n",
       "      <td>0</td>\n",
       "      <td>1</td>\n",
       "      <td>0</td>\n",
       "      <td>0</td>\n",
       "      <td>0</td>\n",
       "      <td>0</td>\n",
       "      <td>1</td>\n",
       "    </tr>\n",
       "    <tr>\n",
       "      <th>3</th>\n",
       "      <td>3</td>\n",
       "      <td>6</td>\n",
       "      <td>2010</td>\n",
       "      <td>6</td>\n",
       "      <td>2.0</td>\n",
       "      <td>9.208238</td>\n",
       "      <td>7.380879</td>\n",
       "      <td>6.831954</td>\n",
       "      <td>0</td>\n",
       "      <td>0</td>\n",
       "      <td>...</td>\n",
       "      <td>0</td>\n",
       "      <td>1</td>\n",
       "      <td>0</td>\n",
       "      <td>0</td>\n",
       "      <td>0</td>\n",
       "      <td>1</td>\n",
       "      <td>0</td>\n",
       "      <td>0</td>\n",
       "      <td>1</td>\n",
       "      <td>0</td>\n",
       "    </tr>\n",
       "    <tr>\n",
       "      <th>4</th>\n",
       "      <td>2</td>\n",
       "      <td>1</td>\n",
       "      <td>2010</td>\n",
       "      <td>8</td>\n",
       "      <td>2.0</td>\n",
       "      <td>8.518392</td>\n",
       "      <td>7.155396</td>\n",
       "      <td>7.155396</td>\n",
       "      <td>0</td>\n",
       "      <td>0</td>\n",
       "      <td>...</td>\n",
       "      <td>1</td>\n",
       "      <td>0</td>\n",
       "      <td>0</td>\n",
       "      <td>0</td>\n",
       "      <td>1</td>\n",
       "      <td>0</td>\n",
       "      <td>0</td>\n",
       "      <td>0</td>\n",
       "      <td>1</td>\n",
       "      <td>0</td>\n",
       "    </tr>\n",
       "  </tbody>\n",
       "</table>\n",
       "<p>5 rows × 45 columns</p>\n",
       "</div>"
      ],
      "text/plain": [
       "   BedroomAbvGr  MoSold  YrSold  OverallQual  GarageCars  LogLotArea  \\\n",
       "0             2       6    2010            5         1.0    9.360741   \n",
       "1             3       6    2010            6         1.0    9.565775   \n",
       "2             3       3    2010            5         2.0    9.534668   \n",
       "3             3       6    2010            6         2.0    9.208238   \n",
       "4             2       1    2010            8         2.0    8.518392   \n",
       "\n",
       "   LogGrLivArea  LogTotalBsmtSF  Neighborhood_Blmngtn  Neighborhood_Blueste  \\\n",
       "0      6.799056        6.783325                     0                     0   \n",
       "1      7.192934        7.192934                     0                     0   \n",
       "2      7.396335        6.834109                     0                     0   \n",
       "3      7.380879        6.831954                     0                     0   \n",
       "4      7.155396        7.155396                     0                     0   \n",
       "\n",
       "        ...        ExterQual_Gd  ExterQual_TA  BsmtQual_Ex  BsmtQual_Fa  \\\n",
       "0       ...                   0             1            0            0   \n",
       "1       ...                   0             1            0            0   \n",
       "2       ...                   0             1            0            0   \n",
       "3       ...                   0             1            0            0   \n",
       "4       ...                   1             0            0            0   \n",
       "\n",
       "   BsmtQual_Gd  BsmtQual_TA  KitchenQual_Ex  KitchenQual_Fa  KitchenQual_Gd  \\\n",
       "0            0            1               0               0               0   \n",
       "1            0            1               0               0               1   \n",
       "2            1            0               0               0               0   \n",
       "3            0            1               0               0               1   \n",
       "4            1            0               0               0               1   \n",
       "\n",
       "   KitchenQual_TA  \n",
       "0               1  \n",
       "1               0  \n",
       "2               1  \n",
       "3               0  \n",
       "4               0  \n",
       "\n",
       "[5 rows x 45 columns]"
      ]
     },
     "execution_count": 36,
     "metadata": {},
     "output_type": "execute_result"
    }
   ],
   "source": [
    "final_model_processed_no_null_test_continuous_features = log_transform_features(final_model_no_null_test_features, \n",
    "                                                                   ['LotArea', 'GrLivArea', 'TotalBsmtSF'], add_value=True)\n",
    "final_model_processed_no_null_test_features = pd.get_dummies(final_model_processed_no_null_test_continuous_features)\n",
    "final_model_processed_no_null_test_features.head()"
   ]
  },
  {
   "cell_type": "code",
   "execution_count": 37,
   "metadata": {
    "collapsed": true
   },
   "outputs": [],
   "source": [
    "original_predictions = final_gb_model.predict(final_model_processed_no_null_test_features)"
   ]
  },
  {
   "cell_type": "markdown",
   "metadata": {},
   "source": [
    "This variable will now serve as our baseline. If our model is robust, the predictions generated from adding a small percentage increase to a feature should be very similar to these predictions. \n",
    "\n",
    "To measure the impact of small pertubations, I created two helper functions. The first one is the most important one. The way this helper works is by doing the following for every feature column: \n",
    "\n",
    "1. Increase every value in that feature to increase or decrease by a certain constant percentage. \n",
    "2. Have the model calculate new predictions based on that updated feature. \n",
    "3. Calculate the percent difference between the original predictions and the new predictions. This percentage difference is calculated for each individual sample and _not_ on the aggregate \n",
    "4. Add these results to a dataframe that stores these percent differences for every relevant feature. \n",
    "5. Return the feature to its original value \n",
    "6. Repeat steps 1-5 for the next relevant feature \n",
    "\n",
    "By the end, I will have a dataframe where every column represents a feature that was modified and every row represents the percent change between the new predictions and the old predictions _when only that feature was modified_. To make it easy to plot, I also reshape the final dataframe. The second function is used to plot the results as boxplots.  "
   ]
  },
  {
   "cell_type": "code",
   "execution_count": 38,
   "metadata": {
    "collapsed": true
   },
   "outputs": [],
   "source": [
    "def percent_change_impact(df, columns, percent_change, model, original_values):\n",
    "    \n",
    "    pc_df = pd.DataFrame({})\n",
    "    new_df = df.copy(deep=True)\n",
    "    for c in columns: \n",
    "        # Apply percent change to column\n",
    "        new_df[c] = new_df[c].apply(lambda x: (percent_change / 100)*x + x)\n",
    "        # Calculate prediction with modified column\n",
    "        new_predictions = model.predict(new_df)\n",
    "        # calculate percent change between new predictions and original predictions\n",
    "        pc_df[c] = (model.predict(new_df) - original_values) / original_values * 100\n",
    "        # return the column to the old column\n",
    "        new_df[c] = df[c]\n",
    "    \n",
    "    # reshape the output dataset to make it easy for plotting\n",
    "    pc_df_reshaped = pc_df.melt()\n",
    "    pc_df_reshaped.columns = ['Feature', 'Percent_Change']\n",
    "    \n",
    "    return pc_df_reshaped"
   ]
  },
  {
   "cell_type": "code",
   "execution_count": 39,
   "metadata": {
    "collapsed": true
   },
   "outputs": [],
   "source": [
    "def plot_boxplot(data, change):\n",
    "    \n",
    "    title = 'Box plots of percent change in log(SalePrice) with a\\n{}nin feature value across several features'.format(change)\n",
    "    fig, ax = plt.subplots(figsize=(10,4))\n",
    "    sns.boxplot(data=data, \n",
    "            x='Feature', \n",
    "            y='Percent_Change').set_title(title)\n",
    "    plt.ylabel('Percent Change in Predictions')\n",
    "    plt.show()  "
   ]
  },
  {
   "cell_type": "markdown",
   "metadata": {
    "collapsed": true
   },
   "source": [
    "These are the columns I found easiest to run a pertubation analysis so they are considerd my relevant columns."
   ]
  },
  {
   "cell_type": "code",
   "execution_count": 40,
   "metadata": {
    "collapsed": true
   },
   "outputs": [],
   "source": [
    "relevant_columns = ['BedroomAbvGr', 'OverallQual', 'GarageCars', 'LogLotArea', 'LogGrLivArea', 'LogTotalBsmtSF']"
   ]
  },
  {
   "cell_type": "markdown",
   "metadata": {},
   "source": [
    "With these two functions testing the small pertubations becomes simple! Calculating the impact of one percent increases on these relevant features on the final prediction can be done as follows: "
   ]
  },
  {
   "cell_type": "code",
   "execution_count": 41,
   "metadata": {
    "collapsed": true
   },
   "outputs": [],
   "source": [
    "pos_one_pc_df = percent_change_impact(final_model_processed_no_null_test_features, \n",
    "                                      relevant_columns, \n",
    "                                      1, \n",
    "                                      final_gb_model, \n",
    "                                      original_predictions)"
   ]
  },
  {
   "cell_type": "markdown",
   "metadata": {},
   "source": [
    "This data frame looks something like this (this is a abridged view to show you how the dataframe looks like; in reality it's a lot bigger!')"
   ]
  },
  {
   "cell_type": "code",
   "execution_count": 42,
   "metadata": {},
   "outputs": [
    {
     "data": {
      "text/html": [
       "<div>\n",
       "<style>\n",
       "    .dataframe thead tr:only-child th {\n",
       "        text-align: right;\n",
       "    }\n",
       "\n",
       "    .dataframe thead th {\n",
       "        text-align: left;\n",
       "    }\n",
       "\n",
       "    .dataframe tbody tr th {\n",
       "        vertical-align: top;\n",
       "    }\n",
       "</style>\n",
       "<table border=\"1\" class=\"dataframe\">\n",
       "  <thead>\n",
       "    <tr style=\"text-align: right;\">\n",
       "      <th></th>\n",
       "      <th>Feature</th>\n",
       "      <th>Percent_Change</th>\n",
       "    </tr>\n",
       "  </thead>\n",
       "  <tbody>\n",
       "    <tr>\n",
       "      <th>0</th>\n",
       "      <td>BedroomAbvGr</td>\n",
       "      <td>0.000000</td>\n",
       "    </tr>\n",
       "    <tr>\n",
       "      <th>1</th>\n",
       "      <td>BedroomAbvGr</td>\n",
       "      <td>0.000000</td>\n",
       "    </tr>\n",
       "    <tr>\n",
       "      <th>2</th>\n",
       "      <td>OverallQual</td>\n",
       "      <td>0.000000</td>\n",
       "    </tr>\n",
       "    <tr>\n",
       "      <th>3</th>\n",
       "      <td>OverallQual</td>\n",
       "      <td>0.000000</td>\n",
       "    </tr>\n",
       "    <tr>\n",
       "      <th>4</th>\n",
       "      <td>GarageCars</td>\n",
       "      <td>0.000000</td>\n",
       "    </tr>\n",
       "    <tr>\n",
       "      <th>5</th>\n",
       "      <td>GarageCars</td>\n",
       "      <td>0.000000</td>\n",
       "    </tr>\n",
       "    <tr>\n",
       "      <th>6</th>\n",
       "      <td>LogLotArea</td>\n",
       "      <td>0.301910</td>\n",
       "    </tr>\n",
       "    <tr>\n",
       "      <th>7</th>\n",
       "      <td>LogLotArea</td>\n",
       "      <td>0.000000</td>\n",
       "    </tr>\n",
       "    <tr>\n",
       "      <th>8</th>\n",
       "      <td>LogGrLivArea</td>\n",
       "      <td>0.017469</td>\n",
       "    </tr>\n",
       "    <tr>\n",
       "      <th>9</th>\n",
       "      <td>LogGrLivArea</td>\n",
       "      <td>-0.312258</td>\n",
       "    </tr>\n",
       "    <tr>\n",
       "      <th>10</th>\n",
       "      <td>LogTotalBsmtSF</td>\n",
       "      <td>0.303810</td>\n",
       "    </tr>\n",
       "    <tr>\n",
       "      <th>11</th>\n",
       "      <td>LogTotalBsmtSF</td>\n",
       "      <td>-0.022015</td>\n",
       "    </tr>\n",
       "  </tbody>\n",
       "</table>\n",
       "</div>"
      ],
      "text/plain": [
       "           Feature  Percent_Change\n",
       "0     BedroomAbvGr        0.000000\n",
       "1     BedroomAbvGr        0.000000\n",
       "2      OverallQual        0.000000\n",
       "3      OverallQual        0.000000\n",
       "4       GarageCars        0.000000\n",
       "5       GarageCars        0.000000\n",
       "6       LogLotArea        0.301910\n",
       "7       LogLotArea        0.000000\n",
       "8     LogGrLivArea        0.017469\n",
       "9     LogGrLivArea       -0.312258\n",
       "10  LogTotalBsmtSF        0.303810\n",
       "11  LogTotalBsmtSF       -0.022015"
      ]
     },
     "execution_count": 42,
     "metadata": {},
     "output_type": "execute_result"
    }
   ],
   "source": [
    "pos_one_pc_df.groupby('Feature').head(2).reset_index(drop=True)"
   ]
  },
  {
   "cell_type": "markdown",
   "metadata": {},
   "source": [
    "Now that we have this dataframe, we can pass it directly to the second function to plot boxplots of all the percent differences in predictions for each individual feature."
   ]
  },
  {
   "cell_type": "code",
   "execution_count": 43,
   "metadata": {},
   "outputs": [
    {
     "data": {
      "image/png": "[encoded data removed]",
      "text/plain": [
       "<matplotlib.figure.Figure at 0x102a597f0>"
      ]
     },
     "metadata": {},
     "output_type": "display_data"
    }
   ],
   "source": [
    "plot_boxplot(pos_one_pc_df, '1% increase')"
   ]
  },
  {
   "cell_type": "markdown",
   "metadata": {},
   "source": [
    "So how do we read this plot? The x-axis represents features whose values we perturbed with a 1% increase across the board for every sample. The y-axis represents the percent increase or decrease in prediction value relative to the predictions generated via the unperturbed data. These perturbations were done independently of one another so the box plot of `BedroomAbvGr` only shows you the impact of perturbing that feature _and nothing else_. \n",
    "\n",
    "A robust model is one where a small percentage change has minimal impact on the predicted outcomes which means we want to see boxplots where most of the data is centered around 0 (which means the perturbations on a specific feature basically had no impact on predictions!) \n",
    "\n",
    "Looking at this, we can see that seems to be the case -- for three features all of the values are around zero and the remaining three the majority are between 0 and 0.5% percent increase! "
   ]
  },
  {
   "cell_type": "markdown",
   "metadata": {},
   "source": [
    "The nice thing about creating such generalizable functions is it's very easy to try different values. For example, determining the impact of 1% decrease across different features is as easy as this: "
   ]
  },
  {
   "cell_type": "code",
   "execution_count": 44,
   "metadata": {
    "collapsed": true
   },
   "outputs": [],
   "source": [
    "neg_one_pc_df = percent_change_impact(final_model_processed_no_null_test_features, \n",
    "                                      relevant_columns, \n",
    "                                      -1, \n",
    "                                      final_gb_model, \n",
    "                                      original_predictions)"
   ]
  },
  {
   "cell_type": "code",
   "execution_count": 45,
   "metadata": {},
   "outputs": [
    {
     "data": {
      "image/png": "[encoded data removed]",
      "text/plain": [
       "<matplotlib.figure.Figure at 0x10d81a860>"
      ]
     },
     "metadata": {},
     "output_type": "display_data"
    }
   ],
   "source": [
    "plot_boxplot(neg_one_pc_df, '1% decrease')"
   ]
  },
  {
   "cell_type": "markdown",
   "metadata": {},
   "source": [
    "The results are not as good as the previous one, but they are still generally in the 0-0.5% percent change range, which is awesome! \n",
    "\n",
    "Let's take it one step further and do 5% increase and 5% decrease: "
   ]
  },
  {
   "cell_type": "code",
   "execution_count": 46,
   "metadata": {
    "collapsed": true
   },
   "outputs": [],
   "source": [
    "pos_five_pc_df = percent_change_impact(final_model_processed_no_null_test_features, \n",
    "                                      relevant_columns, \n",
    "                                      5, \n",
    "                                      final_gb_model, \n",
    "                                      original_predictions)"
   ]
  },
  {
   "cell_type": "code",
   "execution_count": 47,
   "metadata": {},
   "outputs": [
    {
     "data": {
      "image/png": "[encoded data removed]",
      "text/plain": [
       "<matplotlib.figure.Figure at 0x102a595f8>"
      ]
     },
     "metadata": {},
     "output_type": "display_data"
    }
   ],
   "source": [
    "plot_boxplot(pos_five_pc_df, '5% increase')"
   ]
  },
  {
   "cell_type": "code",
   "execution_count": 48,
   "metadata": {
    "collapsed": true
   },
   "outputs": [],
   "source": [
    "neg_five_pc_df = percent_change_impact(final_model_processed_no_null_test_features, \n",
    "                                      relevant_columns, \n",
    "                                      -5, \n",
    "                                      final_gb_model, \n",
    "                                      original_predictions)"
   ]
  },
  {
   "cell_type": "code",
   "execution_count": 49,
   "metadata": {},
   "outputs": [
    {
     "data": {
      "image/png": "[encoded data removed]",
      "text/plain": [
       "<matplotlib.figure.Figure at 0x110e109e8>"
      ]
     },
     "metadata": {},
     "output_type": "display_data"
    }
   ],
   "source": [
    "plot_boxplot(neg_five_pc_df, '5% decrease')"
   ]
  },
  {
   "cell_type": "markdown",
   "metadata": {},
   "source": [
    "Once again, I would argue that these plots indicate that the model is quite robust to small perturbations. Even when I cause a 5% change to all the values of a feature, the percent change in final predictions is still between 0 to 1% percent change, which is pretty good! "
   ]
  },
  {
   "cell_type": "markdown",
   "metadata": {},
   "source": [
    "Thus, based on the results of my imputation test and my percent change test, I believe my model is quite robust. "
   ]
  },
  {
   "cell_type": "markdown",
   "metadata": {},
   "source": [
    "# Statistical significance\n",
    "\n",
    "The next thing I had to focus on was determining whether my new model was statistically significant better than the initial benchmark. But how do I do that if I currently only have one RMSE value--0.15922--to go off of? The answer is that I can create my own distribution! \n",
    "\n",
    "But how? The answer, as it turns out, is by using graident boosting's randomness to my advantage. If you remember from before, I have always used `random_state=39` to pin down the gradient boosting model so that I don't have to worry about data changing if I need to rerun the kernel. By changing the `random_state`, however, I can get slightly different predictions. In turn, I can use these different predictions to get slightly different test RMSE values and ultimately create a group distribution. Once I have that distribution, I can run a t-test between the group's results and the benchmark value."
   ]
  },
  {
   "cell_type": "markdown",
   "metadata": {},
   "source": [
    "## Test data prep\n",
    "\n",
    "As always, we need to make sure the test data is properly processed and processed the same way I did previously"
   ]
  },
  {
   "cell_type": "code",
   "execution_count": 50,
   "metadata": {},
   "outputs": [
    {
     "data": {
      "text/html": [
       "<div>\n",
       "<style>\n",
       "    .dataframe thead tr:only-child th {\n",
       "        text-align: right;\n",
       "    }\n",
       "\n",
       "    .dataframe thead th {\n",
       "        text-align: left;\n",
       "    }\n",
       "\n",
       "    .dataframe tbody tr th {\n",
       "        vertical-align: top;\n",
       "    }\n",
       "</style>\n",
       "<table border=\"1\" class=\"dataframe\">\n",
       "  <thead>\n",
       "    <tr style=\"text-align: right;\">\n",
       "      <th></th>\n",
       "      <th>BedroomAbvGr</th>\n",
       "      <th>MoSold</th>\n",
       "      <th>YrSold</th>\n",
       "      <th>OverallQual</th>\n",
       "      <th>GarageCars</th>\n",
       "      <th>LogLotArea</th>\n",
       "      <th>LogGrLivArea</th>\n",
       "      <th>LogTotalBsmtSF</th>\n",
       "      <th>Neighborhood_Blmngtn</th>\n",
       "      <th>Neighborhood_Blueste</th>\n",
       "      <th>...</th>\n",
       "      <th>ExterQual_Gd</th>\n",
       "      <th>ExterQual_TA</th>\n",
       "      <th>BsmtQual_Ex</th>\n",
       "      <th>BsmtQual_Fa</th>\n",
       "      <th>BsmtQual_Gd</th>\n",
       "      <th>BsmtQual_TA</th>\n",
       "      <th>KitchenQual_Ex</th>\n",
       "      <th>KitchenQual_Fa</th>\n",
       "      <th>KitchenQual_Gd</th>\n",
       "      <th>KitchenQual_TA</th>\n",
       "    </tr>\n",
       "  </thead>\n",
       "  <tbody>\n",
       "    <tr>\n",
       "      <th>0</th>\n",
       "      <td>2</td>\n",
       "      <td>6</td>\n",
       "      <td>2010</td>\n",
       "      <td>5</td>\n",
       "      <td>1.0</td>\n",
       "      <td>9.360741</td>\n",
       "      <td>6.799056</td>\n",
       "      <td>6.783325</td>\n",
       "      <td>0</td>\n",
       "      <td>0</td>\n",
       "      <td>...</td>\n",
       "      <td>0</td>\n",
       "      <td>1</td>\n",
       "      <td>0</td>\n",
       "      <td>0</td>\n",
       "      <td>0</td>\n",
       "      <td>1</td>\n",
       "      <td>0</td>\n",
       "      <td>0</td>\n",
       "      <td>0</td>\n",
       "      <td>1</td>\n",
       "    </tr>\n",
       "    <tr>\n",
       "      <th>1</th>\n",
       "      <td>3</td>\n",
       "      <td>6</td>\n",
       "      <td>2010</td>\n",
       "      <td>6</td>\n",
       "      <td>1.0</td>\n",
       "      <td>9.565775</td>\n",
       "      <td>7.192934</td>\n",
       "      <td>7.192934</td>\n",
       "      <td>0</td>\n",
       "      <td>0</td>\n",
       "      <td>...</td>\n",
       "      <td>0</td>\n",
       "      <td>1</td>\n",
       "      <td>0</td>\n",
       "      <td>0</td>\n",
       "      <td>0</td>\n",
       "      <td>1</td>\n",
       "      <td>0</td>\n",
       "      <td>0</td>\n",
       "      <td>1</td>\n",
       "      <td>0</td>\n",
       "    </tr>\n",
       "    <tr>\n",
       "      <th>2</th>\n",
       "      <td>3</td>\n",
       "      <td>3</td>\n",
       "      <td>2010</td>\n",
       "      <td>5</td>\n",
       "      <td>2.0</td>\n",
       "      <td>9.534668</td>\n",
       "      <td>7.396335</td>\n",
       "      <td>6.834109</td>\n",
       "      <td>0</td>\n",
       "      <td>0</td>\n",
       "      <td>...</td>\n",
       "      <td>0</td>\n",
       "      <td>1</td>\n",
       "      <td>0</td>\n",
       "      <td>0</td>\n",
       "      <td>1</td>\n",
       "      <td>0</td>\n",
       "      <td>0</td>\n",
       "      <td>0</td>\n",
       "      <td>0</td>\n",
       "      <td>1</td>\n",
       "    </tr>\n",
       "    <tr>\n",
       "      <th>3</th>\n",
       "      <td>3</td>\n",
       "      <td>6</td>\n",
       "      <td>2010</td>\n",
       "      <td>6</td>\n",
       "      <td>2.0</td>\n",
       "      <td>9.208238</td>\n",
       "      <td>7.380879</td>\n",
       "      <td>6.831954</td>\n",
       "      <td>0</td>\n",
       "      <td>0</td>\n",
       "      <td>...</td>\n",
       "      <td>0</td>\n",
       "      <td>1</td>\n",
       "      <td>0</td>\n",
       "      <td>0</td>\n",
       "      <td>0</td>\n",
       "      <td>1</td>\n",
       "      <td>0</td>\n",
       "      <td>0</td>\n",
       "      <td>1</td>\n",
       "      <td>0</td>\n",
       "    </tr>\n",
       "    <tr>\n",
       "      <th>4</th>\n",
       "      <td>2</td>\n",
       "      <td>1</td>\n",
       "      <td>2010</td>\n",
       "      <td>8</td>\n",
       "      <td>2.0</td>\n",
       "      <td>8.518392</td>\n",
       "      <td>7.155396</td>\n",
       "      <td>7.155396</td>\n",
       "      <td>0</td>\n",
       "      <td>0</td>\n",
       "      <td>...</td>\n",
       "      <td>1</td>\n",
       "      <td>0</td>\n",
       "      <td>0</td>\n",
       "      <td>0</td>\n",
       "      <td>1</td>\n",
       "      <td>0</td>\n",
       "      <td>0</td>\n",
       "      <td>0</td>\n",
       "      <td>1</td>\n",
       "      <td>0</td>\n",
       "    </tr>\n",
       "  </tbody>\n",
       "</table>\n",
       "<p>5 rows × 45 columns</p>\n",
       "</div>"
      ],
      "text/plain": [
       "   BedroomAbvGr  MoSold  YrSold  OverallQual  GarageCars  LogLotArea  \\\n",
       "0             2       6    2010            5         1.0    9.360741   \n",
       "1             3       6    2010            6         1.0    9.565775   \n",
       "2             3       3    2010            5         2.0    9.534668   \n",
       "3             3       6    2010            6         2.0    9.208238   \n",
       "4             2       1    2010            8         2.0    8.518392   \n",
       "\n",
       "   LogGrLivArea  LogTotalBsmtSF  Neighborhood_Blmngtn  Neighborhood_Blueste  \\\n",
       "0      6.799056        6.783325                     0                     0   \n",
       "1      7.192934        7.192934                     0                     0   \n",
       "2      7.396335        6.834109                     0                     0   \n",
       "3      7.380879        6.831954                     0                     0   \n",
       "4      7.155396        7.155396                     0                     0   \n",
       "\n",
       "        ...        ExterQual_Gd  ExterQual_TA  BsmtQual_Ex  BsmtQual_Fa  \\\n",
       "0       ...                   0             1            0            0   \n",
       "1       ...                   0             1            0            0   \n",
       "2       ...                   0             1            0            0   \n",
       "3       ...                   0             1            0            0   \n",
       "4       ...                   1             0            0            0   \n",
       "\n",
       "   BsmtQual_Gd  BsmtQual_TA  KitchenQual_Ex  KitchenQual_Fa  KitchenQual_Gd  \\\n",
       "0            0            1               0               0               0   \n",
       "1            0            1               0               0               1   \n",
       "2            1            0               0               0               0   \n",
       "3            0            1               0               0               1   \n",
       "4            1            0               0               0               1   \n",
       "\n",
       "   KitchenQual_TA  \n",
       "0               1  \n",
       "1               0  \n",
       "2               1  \n",
       "3               0  \n",
       "4               0  \n",
       "\n",
       "[5 rows x 45 columns]"
      ]
     },
     "execution_count": 50,
     "metadata": {},
     "output_type": "execute_result"
    }
   ],
   "source": [
    "final_model_test_features = test_data[['LotArea', 'BedroomAbvGr', 'MoSold', 'YrSold', \n",
    "                                       'OverallQual', 'GrLivArea', 'Neighborhood', \n",
    "                                       'TotalBsmtSF', 'GarageCars', 'ExterQual', \n",
    "                                       'BsmtQual', 'KitchenQual']]\n",
    "\n",
    "final_model_fillna_features = final_model_test_features.fillna(final_model_test_features.mean())\n",
    "final_model_fillna_features['KitchenQual'] = final_model_test_features['KitchenQual'].fillna('TA')\n",
    "final_model_fillna_features.isnull().sum()\n",
    "\n",
    "# TotalBsmtSF can sometimes be 0 so we must add 1\n",
    "final_model_processed_test_cont_features = log_transform_features(final_model_fillna_features, \n",
    "                                                                  ['LotArea', 'GrLivArea', 'TotalBsmtSF'], \n",
    "                                                                 add_value=True)\n",
    "final_model_processed_test_features = pd.get_dummies(final_model_processed_test_cont_features)\n",
    "final_model_processed_test_features.head()"
   ]
  },
  {
   "cell_type": "markdown",
   "metadata": {},
   "source": [
    "## Testing \n",
    "\n",
    "Now that I have the test data correctly preprocessed, it's now time to change the `random_state` of the model for each iteration, make predictions on the test data and then submit to Kaggle. Of course, every time we create a new model we first must refit it on the training data and then make predictions.\n",
    "\n",
    "To make this process as straightforward as possible, I have created two helper functions. "
   ]
  },
  {
   "cell_type": "code",
   "execution_count": 51,
   "metadata": {
    "collapsed": true
   },
   "outputs": [],
   "source": [
    "def transform_and_save_predictions(predictions, filepath):\n",
    "    # You have to un-log transform the predictions!\n",
    "    prediction_data = {'Id': range(1461, 1461+len(predictions)), 'SalePrice': np.exp(predictions)}\n",
    "    predictions_df = pd.DataFrame(prediction_data)\n",
    "    predictions_df.to_csv(filepath, index=False)\n",
    "    \n",
    "def new_predictions(random_ints, train_features, train_target, test_feature):\n",
    "    for i, r in enumerate(random_ints): \n",
    "        # Create a \"new\" model using a different random seed\n",
    "        new_model = GradientBoostingRegressor(loss='lad', max_depth=3, min_samples_leaf=1, \n",
    "                                     learning_rate=0.1, random_state=r, n_estimators=700)\n",
    "        new_model.fit(train_features, train_target)\n",
    "        predicted_test_results = new_model.predict(test_feature)\n",
    "        transform_and_save_predictions(predicted_test_results, './data/stat-sig/{}-{}result.csv'.format(i, r))"
   ]
  },
  {
   "cell_type": "code",
   "execution_count": 52,
   "metadata": {
    "collapsed": true
   },
   "outputs": [],
   "source": [
    "# https://stackoverflow.com/questions/22842289/generate-n-unique-random-numbers-within-a-range\n",
    "import random\n",
    "\n",
    "# random.sample(range(1, 100), 10) <-- used this function to generate 10 random ints\n",
    "random_int_list = [29, 28, 66, 33, 95, 70, 16, 79, 49, 56] # <-- these were the ints that were generated. "
   ]
  },
  {
   "cell_type": "markdown",
   "metadata": {},
   "source": [
    "Now that we have the list of random seeds let's generate 10 sets of new predictions. I will then have to submit each prediction set to Kaggle. "
   ]
  },
  {
   "cell_type": "code",
   "execution_count": 53,
   "metadata": {
    "collapsed": true
   },
   "outputs": [],
   "source": [
    "new_predictions(random_int_list, \n",
    "                final_model_processed_features, \n",
    "                final_model_processed_target, \n",
    "                final_model_processed_test_features)"
   ]
  },
  {
   "cell_type": "markdown",
   "metadata": {},
   "source": [
    "After submitting to Kaggle, I got 10 different test RMSE listed below, which I will save into this numpy array. Again, the only thing I change in each iteration was a random_state so the RMSE should be similar to one another.  "
   ]
  },
  {
   "cell_type": "code",
   "execution_count": 54,
   "metadata": {
    "collapsed": true
   },
   "outputs": [],
   "source": [
    "test_RMSE = np.array([0.16231, 0.15852, 0.15896, .16077, 0.15942, 0.16110, 0.16191, 0.16191, 0.16086, 0.15980])"
   ]
  },
  {
   "cell_type": "code",
   "execution_count": 55,
   "metadata": {},
   "outputs": [
    {
     "name": "stdout",
     "output_type": "stream",
     "text": [
      "0.160556\n",
      "0.00125426631941\n"
     ]
    }
   ],
   "source": [
    "print(test_RMSE.mean())\n",
    "print(test_RMSE.std())"
   ]
  },
  {
   "cell_type": "markdown",
   "metadata": {},
   "source": [
    "Now that I have this, I can easily run a one-sample t-test to see if my model's performance is statistically significant to the benchmark. "
   ]
  },
  {
   "cell_type": "code",
   "execution_count": 56,
   "metadata": {},
   "outputs": [
    {
     "data": {
      "text/plain": [
       "Ttest_1sampResult(statistic=-593.99825098704025, pvalue=5.5304314980902093e-22)"
      ]
     },
     "execution_count": 56,
     "metadata": {},
     "output_type": "execute_result"
    }
   ],
   "source": [
    "# https://docs.scipy.org/doc/scipy-0.14.0/reference/generated/scipy.stats.ttest_1samp.html\n",
    "\n",
    "from scipy import stats\n",
    "\n",
    "stats.ttest_1samp(test_RMSE,0.40890)"
   ]
  },
  {
   "cell_type": "raw",
   "metadata": {},
   "source": [
    "The answer is that my model's performance is statistically significant better to the initial benchmark. I can say that because the t-score has p value that is basically 5.5e-22 (basically 0), which is DEFINITELY less than the normal threshold of p < 0.05!"
   ]
  },
  {
   "cell_type": "markdown",
   "metadata": {},
   "source": [
    "# Free form visualizations\n",
    "\n",
    "For the free form visualization section, I have two things I wanted to explore: seasonality and train v. test set feature distributions. Together these two plots could suggest next directions to improve my model further.  "
   ]
  },
  {
   "cell_type": "markdown",
   "metadata": {},
   "source": [
    "## Seasonality \n",
    "\n",
    "The first thing I wanted to explore is seasonality. Based on my previous experience I hear that house prices generally go up over time and that certain months of the year are better than others to sell a house. Although we include month and year as features in our model, could we potentially need to use more complex methods to properly handle them? A simple timeseries can help here. \n",
    "\n",
    "First, we need to create a dataframe that makes accessing this information easy and straightforward. "
   ]
  },
  {
   "cell_type": "code",
   "execution_count": 57,
   "metadata": {},
   "outputs": [
    {
     "data": {
      "text/html": [
       "<div>\n",
       "<style>\n",
       "    .dataframe thead tr:only-child th {\n",
       "        text-align: right;\n",
       "    }\n",
       "\n",
       "    .dataframe thead th {\n",
       "        text-align: left;\n",
       "    }\n",
       "\n",
       "    .dataframe tbody tr th {\n",
       "        vertical-align: top;\n",
       "    }\n",
       "</style>\n",
       "<table border=\"1\" class=\"dataframe\">\n",
       "  <thead>\n",
       "    <tr style=\"text-align: right;\">\n",
       "      <th></th>\n",
       "      <th></th>\n",
       "      <th>SalePrice</th>\n",
       "    </tr>\n",
       "    <tr>\n",
       "      <th>YrSold</th>\n",
       "      <th>MoSold</th>\n",
       "      <th></th>\n",
       "    </tr>\n",
       "  </thead>\n",
       "  <tbody>\n",
       "    <tr>\n",
       "      <th rowspan=\"12\" valign=\"top\">2006</th>\n",
       "      <th>1</th>\n",
       "      <td>201090.000000</td>\n",
       "    </tr>\n",
       "    <tr>\n",
       "      <th>2</th>\n",
       "      <td>194322.222222</td>\n",
       "    </tr>\n",
       "    <tr>\n",
       "      <th>3</th>\n",
       "      <td>184982.200000</td>\n",
       "    </tr>\n",
       "    <tr>\n",
       "      <th>4</th>\n",
       "      <td>174312.814815</td>\n",
       "    </tr>\n",
       "    <tr>\n",
       "      <th>5</th>\n",
       "      <td>158928.289474</td>\n",
       "    </tr>\n",
       "    <tr>\n",
       "      <th>6</th>\n",
       "      <td>172283.333333</td>\n",
       "    </tr>\n",
       "    <tr>\n",
       "      <th>7</th>\n",
       "      <td>183211.059701</td>\n",
       "    </tr>\n",
       "    <tr>\n",
       "      <th>8</th>\n",
       "      <td>196239.956522</td>\n",
       "    </tr>\n",
       "    <tr>\n",
       "      <th>9</th>\n",
       "      <td>223768.866667</td>\n",
       "    </tr>\n",
       "    <tr>\n",
       "      <th>10</th>\n",
       "      <td>172356.708333</td>\n",
       "    </tr>\n",
       "    <tr>\n",
       "      <th>11</th>\n",
       "      <td>213285.000000</td>\n",
       "    </tr>\n",
       "    <tr>\n",
       "      <th>12</th>\n",
       "      <td>185545.000000</td>\n",
       "    </tr>\n",
       "    <tr>\n",
       "      <th rowspan=\"12\" valign=\"top\">2007</th>\n",
       "      <th>1</th>\n",
       "      <td>183234.615385</td>\n",
       "    </tr>\n",
       "    <tr>\n",
       "      <th>2</th>\n",
       "      <td>176301.750000</td>\n",
       "    </tr>\n",
       "    <tr>\n",
       "      <th>3</th>\n",
       "      <td>176567.782609</td>\n",
       "    </tr>\n",
       "    <tr>\n",
       "      <th>4</th>\n",
       "      <td>170772.608696</td>\n",
       "    </tr>\n",
       "    <tr>\n",
       "      <th>5</th>\n",
       "      <td>169873.511628</td>\n",
       "    </tr>\n",
       "    <tr>\n",
       "      <th>6</th>\n",
       "      <td>179725.813559</td>\n",
       "    </tr>\n",
       "    <tr>\n",
       "      <th>7</th>\n",
       "      <td>195396.843137</td>\n",
       "    </tr>\n",
       "    <tr>\n",
       "      <th>8</th>\n",
       "      <td>183941.075000</td>\n",
       "    </tr>\n",
       "    <tr>\n",
       "      <th>9</th>\n",
       "      <td>195533.818182</td>\n",
       "    </tr>\n",
       "    <tr>\n",
       "      <th>10</th>\n",
       "      <td>215428.812500</td>\n",
       "    </tr>\n",
       "    <tr>\n",
       "      <th>11</th>\n",
       "      <td>197709.333333</td>\n",
       "    </tr>\n",
       "    <tr>\n",
       "      <th>12</th>\n",
       "      <td>214414.500000</td>\n",
       "    </tr>\n",
       "    <tr>\n",
       "      <th rowspan=\"12\" valign=\"top\">2008</th>\n",
       "      <th>1</th>\n",
       "      <td>178504.692308</td>\n",
       "    </tr>\n",
       "    <tr>\n",
       "      <th>2</th>\n",
       "      <td>159370.000000</td>\n",
       "    </tr>\n",
       "    <tr>\n",
       "      <th>3</th>\n",
       "      <td>178505.277778</td>\n",
       "    </tr>\n",
       "    <tr>\n",
       "      <th>4</th>\n",
       "      <td>159293.346154</td>\n",
       "    </tr>\n",
       "    <tr>\n",
       "      <th>5</th>\n",
       "      <td>188334.473684</td>\n",
       "    </tr>\n",
       "    <tr>\n",
       "      <th>6</th>\n",
       "      <td>169730.941176</td>\n",
       "    </tr>\n",
       "    <tr>\n",
       "      <th>7</th>\n",
       "      <td>174562.653061</td>\n",
       "    </tr>\n",
       "    <tr>\n",
       "      <th>8</th>\n",
       "      <td>196076.965517</td>\n",
       "    </tr>\n",
       "    <tr>\n",
       "      <th>9</th>\n",
       "      <td>169626.470588</td>\n",
       "    </tr>\n",
       "    <tr>\n",
       "      <th>10</th>\n",
       "      <td>166690.636364</td>\n",
       "    </tr>\n",
       "    <tr>\n",
       "      <th>11</th>\n",
       "      <td>210981.058824</td>\n",
       "    </tr>\n",
       "    <tr>\n",
       "      <th>12</th>\n",
       "      <td>175600.000000</td>\n",
       "    </tr>\n",
       "    <tr>\n",
       "      <th rowspan=\"12\" valign=\"top\">2009</th>\n",
       "      <th>1</th>\n",
       "      <td>189735.500000</td>\n",
       "    </tr>\n",
       "    <tr>\n",
       "      <th>2</th>\n",
       "      <td>187450.000000</td>\n",
       "    </tr>\n",
       "    <tr>\n",
       "      <th>3</th>\n",
       "      <td>171547.368421</td>\n",
       "    </tr>\n",
       "    <tr>\n",
       "      <th>4</th>\n",
       "      <td>181680.769231</td>\n",
       "    </tr>\n",
       "    <tr>\n",
       "      <th>5</th>\n",
       "      <td>164482.945946</td>\n",
       "    </tr>\n",
       "    <tr>\n",
       "      <th>6</th>\n",
       "      <td>183260.932203</td>\n",
       "    </tr>\n",
       "    <tr>\n",
       "      <th>7</th>\n",
       "      <td>197984.409836</td>\n",
       "    </tr>\n",
       "    <tr>\n",
       "      <th>8</th>\n",
       "      <td>165670.966667</td>\n",
       "    </tr>\n",
       "    <tr>\n",
       "      <th>9</th>\n",
       "      <td>196849.350000</td>\n",
       "    </tr>\n",
       "    <tr>\n",
       "      <th>10</th>\n",
       "      <td>175206.592593</td>\n",
       "    </tr>\n",
       "    <tr>\n",
       "      <th>11</th>\n",
       "      <td>156381.818182</td>\n",
       "    </tr>\n",
       "    <tr>\n",
       "      <th>12</th>\n",
       "      <td>164014.533333</td>\n",
       "    </tr>\n",
       "    <tr>\n",
       "      <th rowspan=\"7\" valign=\"top\">2010</th>\n",
       "      <th>1</th>\n",
       "      <td>163852.600000</td>\n",
       "    </tr>\n",
       "    <tr>\n",
       "      <th>2</th>\n",
       "      <td>174823.333333</td>\n",
       "    </tr>\n",
       "    <tr>\n",
       "      <th>3</th>\n",
       "      <td>203181.285714</td>\n",
       "    </tr>\n",
       "    <tr>\n",
       "      <th>4</th>\n",
       "      <td>171344.025641</td>\n",
       "    </tr>\n",
       "    <tr>\n",
       "      <th>5</th>\n",
       "      <td>178422.250000</td>\n",
       "    </tr>\n",
       "    <tr>\n",
       "      <th>6</th>\n",
       "      <td>181639.583333</td>\n",
       "    </tr>\n",
       "    <tr>\n",
       "      <th>7</th>\n",
       "      <td>121750.000000</td>\n",
       "    </tr>\n",
       "  </tbody>\n",
       "</table>\n",
       "</div>"
      ],
      "text/plain": [
       "                   SalePrice\n",
       "YrSold MoSold               \n",
       "2006   1       201090.000000\n",
       "       2       194322.222222\n",
       "       3       184982.200000\n",
       "       4       174312.814815\n",
       "       5       158928.289474\n",
       "       6       172283.333333\n",
       "       7       183211.059701\n",
       "       8       196239.956522\n",
       "       9       223768.866667\n",
       "       10      172356.708333\n",
       "       11      213285.000000\n",
       "       12      185545.000000\n",
       "2007   1       183234.615385\n",
       "       2       176301.750000\n",
       "       3       176567.782609\n",
       "       4       170772.608696\n",
       "       5       169873.511628\n",
       "       6       179725.813559\n",
       "       7       195396.843137\n",
       "       8       183941.075000\n",
       "       9       195533.818182\n",
       "       10      215428.812500\n",
       "       11      197709.333333\n",
       "       12      214414.500000\n",
       "2008   1       178504.692308\n",
       "       2       159370.000000\n",
       "       3       178505.277778\n",
       "       4       159293.346154\n",
       "       5       188334.473684\n",
       "       6       169730.941176\n",
       "       7       174562.653061\n",
       "       8       196076.965517\n",
       "       9       169626.470588\n",
       "       10      166690.636364\n",
       "       11      210981.058824\n",
       "       12      175600.000000\n",
       "2009   1       189735.500000\n",
       "       2       187450.000000\n",
       "       3       171547.368421\n",
       "       4       181680.769231\n",
       "       5       164482.945946\n",
       "       6       183260.932203\n",
       "       7       197984.409836\n",
       "       8       165670.966667\n",
       "       9       196849.350000\n",
       "       10      175206.592593\n",
       "       11      156381.818182\n",
       "       12      164014.533333\n",
       "2010   1       163852.600000\n",
       "       2       174823.333333\n",
       "       3       203181.285714\n",
       "       4       171344.025641\n",
       "       5       178422.250000\n",
       "       6       181639.583333\n",
       "       7       121750.000000"
      ]
     },
     "execution_count": 57,
     "metadata": {},
     "output_type": "execute_result"
    }
   ],
   "source": [
    "seasonality = train_data[['MoSold', 'YrSold', 'SalePrice']].groupby(['YrSold','MoSold']).mean()\n",
    "seasonality"
   ]
  },
  {
   "cell_type": "markdown",
   "metadata": {},
   "source": [
    "Now that we have that, let's compute some summary statistics for both month and year. "
   ]
  },
  {
   "cell_type": "code",
   "execution_count": 58,
   "metadata": {},
   "outputs": [
    {
     "data": {
      "text/html": [
       "<div>\n",
       "<style>\n",
       "    .dataframe thead tr:only-child th {\n",
       "        text-align: right;\n",
       "    }\n",
       "\n",
       "    .dataframe thead th {\n",
       "        text-align: left;\n",
       "    }\n",
       "\n",
       "    .dataframe tbody tr th {\n",
       "        vertical-align: top;\n",
       "    }\n",
       "</style>\n",
       "<table border=\"1\" class=\"dataframe\">\n",
       "  <thead>\n",
       "    <tr>\n",
       "      <th></th>\n",
       "      <th colspan=\"2\" halign=\"left\">SalePrice</th>\n",
       "    </tr>\n",
       "    <tr>\n",
       "      <th></th>\n",
       "      <th>mean</th>\n",
       "      <th>median</th>\n",
       "    </tr>\n",
       "    <tr>\n",
       "      <th>MoSold</th>\n",
       "      <th></th>\n",
       "      <th></th>\n",
       "    </tr>\n",
       "  </thead>\n",
       "  <tbody>\n",
       "    <tr>\n",
       "      <th>1</th>\n",
       "      <td>183283.481538</td>\n",
       "      <td>183234.615385</td>\n",
       "    </tr>\n",
       "    <tr>\n",
       "      <th>2</th>\n",
       "      <td>178453.461111</td>\n",
       "      <td>176301.750000</td>\n",
       "    </tr>\n",
       "    <tr>\n",
       "      <th>3</th>\n",
       "      <td>182956.782904</td>\n",
       "      <td>178505.277778</td>\n",
       "    </tr>\n",
       "    <tr>\n",
       "      <th>4</th>\n",
       "      <td>171480.712907</td>\n",
       "      <td>171344.025641</td>\n",
       "    </tr>\n",
       "    <tr>\n",
       "      <th>5</th>\n",
       "      <td>172008.294146</td>\n",
       "      <td>169873.511628</td>\n",
       "    </tr>\n",
       "    <tr>\n",
       "      <th>6</th>\n",
       "      <td>177328.120721</td>\n",
       "      <td>179725.813559</td>\n",
       "    </tr>\n",
       "    <tr>\n",
       "      <th>7</th>\n",
       "      <td>174580.993147</td>\n",
       "      <td>183211.059701</td>\n",
       "    </tr>\n",
       "    <tr>\n",
       "      <th>8</th>\n",
       "      <td>185482.240926</td>\n",
       "      <td>190009.020259</td>\n",
       "    </tr>\n",
       "    <tr>\n",
       "      <th>9</th>\n",
       "      <td>196444.626359</td>\n",
       "      <td>196191.584091</td>\n",
       "    </tr>\n",
       "    <tr>\n",
       "      <th>10</th>\n",
       "      <td>182420.687447</td>\n",
       "      <td>173781.650463</td>\n",
       "    </tr>\n",
       "    <tr>\n",
       "      <th>11</th>\n",
       "      <td>194589.302585</td>\n",
       "      <td>204345.196078</td>\n",
       "    </tr>\n",
       "    <tr>\n",
       "      <th>12</th>\n",
       "      <td>184893.508333</td>\n",
       "      <td>180572.500000</td>\n",
       "    </tr>\n",
       "  </tbody>\n",
       "</table>\n",
       "</div>"
      ],
      "text/plain": [
       "            SalePrice               \n",
       "                 mean         median\n",
       "MoSold                              \n",
       "1       183283.481538  183234.615385\n",
       "2       178453.461111  176301.750000\n",
       "3       182956.782904  178505.277778\n",
       "4       171480.712907  171344.025641\n",
       "5       172008.294146  169873.511628\n",
       "6       177328.120721  179725.813559\n",
       "7       174580.993147  183211.059701\n",
       "8       185482.240926  190009.020259\n",
       "9       196444.626359  196191.584091\n",
       "10      182420.687447  173781.650463\n",
       "11      194589.302585  204345.196078\n",
       "12      184893.508333  180572.500000"
      ]
     },
     "execution_count": 58,
     "metadata": {},
     "output_type": "execute_result"
    }
   ],
   "source": [
    "seasonality.groupby('MoSold').agg(['mean', 'median'])"
   ]
  },
  {
   "cell_type": "code",
   "execution_count": 59,
   "metadata": {},
   "outputs": [
    {
     "data": {
      "text/html": [
       "<div>\n",
       "<style>\n",
       "    .dataframe thead tr:only-child th {\n",
       "        text-align: right;\n",
       "    }\n",
       "\n",
       "    .dataframe thead th {\n",
       "        text-align: left;\n",
       "    }\n",
       "\n",
       "    .dataframe tbody tr th {\n",
       "        vertical-align: top;\n",
       "    }\n",
       "</style>\n",
       "<table border=\"1\" class=\"dataframe\">\n",
       "  <thead>\n",
       "    <tr>\n",
       "      <th></th>\n",
       "      <th colspan=\"2\" halign=\"left\">SalePrice</th>\n",
       "    </tr>\n",
       "    <tr>\n",
       "      <th></th>\n",
       "      <th>mean</th>\n",
       "      <th>median</th>\n",
       "    </tr>\n",
       "    <tr>\n",
       "      <th>YrSold</th>\n",
       "      <th></th>\n",
       "      <th></th>\n",
       "    </tr>\n",
       "  </thead>\n",
       "  <tbody>\n",
       "    <tr>\n",
       "      <th>2006</th>\n",
       "      <td>188360.454256</td>\n",
       "      <td>185263.600000</td>\n",
       "    </tr>\n",
       "    <tr>\n",
       "      <th>2007</th>\n",
       "      <td>188241.705336</td>\n",
       "      <td>183587.845192</td>\n",
       "    </tr>\n",
       "    <tr>\n",
       "      <th>2008</th>\n",
       "      <td>177273.042954</td>\n",
       "      <td>175081.326531</td>\n",
       "    </tr>\n",
       "    <tr>\n",
       "      <th>2009</th>\n",
       "      <td>177855.432201</td>\n",
       "      <td>178443.680912</td>\n",
       "    </tr>\n",
       "    <tr>\n",
       "      <th>2010</th>\n",
       "      <td>170716.154003</td>\n",
       "      <td>174823.333333</td>\n",
       "    </tr>\n",
       "  </tbody>\n",
       "</table>\n",
       "</div>"
      ],
      "text/plain": [
       "            SalePrice               \n",
       "                 mean         median\n",
       "YrSold                              \n",
       "2006    188360.454256  185263.600000\n",
       "2007    188241.705336  183587.845192\n",
       "2008    177273.042954  175081.326531\n",
       "2009    177855.432201  178443.680912\n",
       "2010    170716.154003  174823.333333"
      ]
     },
     "execution_count": 59,
     "metadata": {},
     "output_type": "execute_result"
    }
   ],
   "source": [
    "seasonality.groupby('YrSold').agg(['mean', 'median'])"
   ]
  },
  {
   "cell_type": "markdown",
   "metadata": {},
   "source": [
    "Just by looking at these two tables it does appear that both month and year seem to have an impact on mean and median `SalePrice`. \n",
    "\n",
    "Now lets make that timeseries plot. Unforunately, I had to get a little creative with getting the x-axis to be better labeled. The whole process is below: "
   ]
  },
  {
   "cell_type": "code",
   "execution_count": 60,
   "metadata": {
    "collapsed": true
   },
   "outputs": [],
   "source": [
    "from datetime import datetime\n",
    "\n",
    "def create_labels(): \n",
    "    time_label = []\n",
    "    for yr in range(6, 11):\n",
    "        for mo in range(1, 13):\n",
    "            if yr < 10:\n",
    "                nyr = '0' + str(yr)\n",
    "            else:\n",
    "                nyr = str(yr)\n",
    "            \n",
    "            if mo < 10: \n",
    "                nmo = '0' + str(mo)\n",
    "            else:\n",
    "                nmo = str(mo)\n",
    "                \n",
    "            time_label.append('{}-{}'.format(nmo, nyr))\n",
    "    return time_label"
   ]
  },
  {
   "cell_type": "code",
   "execution_count": 61,
   "metadata": {
    "collapsed": true
   },
   "outputs": [],
   "source": [
    "time_labels = create_labels()[:-5]"
   ]
  },
  {
   "cell_type": "code",
   "execution_count": 62,
   "metadata": {},
   "outputs": [
    {
     "name": "stderr",
     "output_type": "stream",
     "text": [
      "/Users/mihaimsirbu/anaconda/envs/capstone/lib/python3.6/site-packages/seaborn/timeseries.py:183: UserWarning: The tsplot function is deprecated and will be removed or replaced (in a substantially altered version) in a future release.\n",
      "  warnings.warn(msg, UserWarning)\n"
     ]
    },
    {
     "data": {
      "text/plain": [
       "<matplotlib.text.Text at 0x1111af358>"
      ]
     },
     "execution_count": 62,
     "metadata": {},
     "output_type": "execute_result"
    },
    {
     "data": {
      "image/png": "[encoded data removed]",
      "text/plain": [
       "<matplotlib.figure.Figure at 0x1111a33c8>"
      ]
     },
     "metadata": {},
     "output_type": "display_data"
    }
   ],
   "source": [
    "# https://stackoverflow.com/questions/49227504/valueerror-could-not-convert-string-to-float-sns-tsplot-time-using-strings\n",
    "# https://stackoverflow.com/questions/27986268/how-can-i-set-multiple-markers-with-tsplot\n",
    "\n",
    "plt.xticks(range(0, 55, 5),time_labels[0:55:5])\n",
    "sns.tsplot(seasonality['SalePrice'], marker=\"o\").set_title('Mean house sale prices a function of time')\n",
    "plt.xlabel('Date (Month & Year)')\n",
    "plt.ylabel('Mean house price')\n"
   ]
  },
  {
   "cell_type": "markdown",
   "metadata": {},
   "source": [
    "So what can we see here? Well it appears that the differences noted in the summary statistics are also in play here. Specifically, we can see a slight decrease in house prices over time just by looking at the year. At the same time, we if look within a year, the pattern of house prices going up between June and September and then decreasing afterward seems consistent year to year. Thus, seasonslity does appear to be present. "
   ]
  },
  {
   "cell_type": "markdown",
   "metadata": {},
   "source": [
    "## Train vs Test Feature Distribution\n",
    "\n",
    "The second question I wanted to know whas whether the training and test sets had different underlying distributions for continous features. This is important because if the train and test set are radically different than model performance could really suffer. This not only could explain why my model didn't perform as well as it could have but it also could indicate that I would need to do more sophisticated preprocessing to handle these differences between train and test sets. \n",
    "\n",
    "To make my life easier, I focused on continous variables columns. Once again I identified them programatically. "
   ]
  },
  {
   "cell_type": "code",
   "execution_count": 63,
   "metadata": {},
   "outputs": [
    {
     "data": {
      "text/plain": [
       "BedroomAbvGr              int64\n",
       "MoSold                    int64\n",
       "YrSold                    int64\n",
       "OverallQual               int64\n",
       "GarageCars                int64\n",
       "LogLotArea              float64\n",
       "LogGrLivArea            float64\n",
       "LogTotalBsmtSF          float64\n",
       "Neighborhood_Blmngtn      uint8\n",
       "Neighborhood_Blueste      uint8\n",
       "Neighborhood_BrDale       uint8\n",
       "Neighborhood_BrkSide      uint8\n",
       "Neighborhood_ClearCr      uint8\n",
       "Neighborhood_CollgCr      uint8\n",
       "Neighborhood_Crawfor      uint8\n",
       "Neighborhood_Edwards      uint8\n",
       "Neighborhood_Gilbert      uint8\n",
       "Neighborhood_IDOTRR       uint8\n",
       "Neighborhood_MeadowV      uint8\n",
       "Neighborhood_Mitchel      uint8\n",
       "Neighborhood_NAmes        uint8\n",
       "Neighborhood_NPkVill      uint8\n",
       "Neighborhood_NWAmes       uint8\n",
       "Neighborhood_NoRidge      uint8\n",
       "Neighborhood_NridgHt      uint8\n",
       "Neighborhood_OldTown      uint8\n",
       "Neighborhood_SWISU        uint8\n",
       "Neighborhood_Sawyer       uint8\n",
       "Neighborhood_SawyerW      uint8\n",
       "Neighborhood_Somerst      uint8\n",
       "Neighborhood_StoneBr      uint8\n",
       "Neighborhood_Timber       uint8\n",
       "Neighborhood_Veenker      uint8\n",
       "ExterQual_Ex              uint8\n",
       "ExterQual_Fa              uint8\n",
       "ExterQual_Gd              uint8\n",
       "ExterQual_TA              uint8\n",
       "BsmtQual_Ex               uint8\n",
       "BsmtQual_Fa               uint8\n",
       "BsmtQual_Gd               uint8\n",
       "BsmtQual_TA               uint8\n",
       "KitchenQual_Ex            uint8\n",
       "KitchenQual_Fa            uint8\n",
       "KitchenQual_Gd            uint8\n",
       "KitchenQual_TA            uint8\n",
       "dtype: object"
      ]
     },
     "execution_count": 63,
     "metadata": {},
     "output_type": "execute_result"
    }
   ],
   "source": [
    "final_model_processed_features.dtypes"
   ]
  },
  {
   "cell_type": "markdown",
   "metadata": {},
   "source": [
    "Thus to only get the continuous features I can use the following check: "
   ]
  },
  {
   "cell_type": "code",
   "execution_count": 64,
   "metadata": {},
   "outputs": [
    {
     "data": {
      "text/plain": [
       "Index(['BedroomAbvGr', 'MoSold', 'YrSold', 'OverallQual', 'GarageCars',\n",
       "       'LogLotArea', 'LogGrLivArea', 'LogTotalBsmtSF'],\n",
       "      dtype='object')"
      ]
     },
     "execution_count": 64,
     "metadata": {},
     "output_type": "execute_result"
    }
   ],
   "source": [
    "final_model_processed_features.dtypes[final_model_processed_features.dtypes != 'uint8'].index"
   ]
  },
  {
   "cell_type": "markdown",
   "metadata": {},
   "source": [
    "Now to visualize this information, I need to create a plot where every subplot compares the train and test distribution for a specific feature. To make it even more powerful, the train and test distribution should be on the same plot to make overlapping as clear as possible. \n",
    "\n",
    "Achieving this took a lot of time but I was able to do this with the following function "
   ]
  },
  {
   "cell_type": "code",
   "execution_count": 65,
   "metadata": {
    "collapsed": true
   },
   "outputs": [],
   "source": [
    "from math import floor \n",
    "\n",
    "# https://seaborn.pydata.org/examples/distplot_options.html\n",
    "# https://python-graph-gallery.com/25-histogram-with-several-variables-seaborn/\n",
    "# https://matplotlib.org/gallery/subplots_axes_and_figures/subplots_demo.html\n",
    "# https://matplotlib.org/gallery/subplots_axes_and_figures/figure_title.html#sphx-glr-gallery-subplots-axes-and-figures-figure-title-py\n",
    "# https://stackoverflow.com/questions/8248467/matplotlib-tight-layout-doesnt-take-into-account-figure-suptitle\n",
    "\n",
    "def plot_train_test_distributions(train_df, test_df):\n",
    "    # Filter out non continuous features\n",
    "    columns = train_df.dtypes[train_df.dtypes != 'uint8'].index\n",
    "    \n",
    "    \n",
    "    f, ax = plt.subplots(int(len(columns) / 2), 2, figsize=(15,20))\n",
    "    \n",
    "    # Go through each feature and plot the train and test set distribution on the same subplot\n",
    "    for i, c in enumerate(columns):\n",
    "        sns.distplot(train_df[c], \n",
    "                     color=\"skyblue\", \n",
    "                     label=\"{} (Train)\".format(c), \n",
    "                     ax=ax[floor(i/2), i % 2])\n",
    "        sns.distplot(test_df[c], \n",
    "                     color=\"red\", \n",
    "                     label=\"{} (Test)\".format(c),  \n",
    "                     ax=ax[floor(i/2), i % 2])\n",
    "        ax[floor(i/2), i % 2].set(ylabel='Probability Density')\n",
    "        ax[floor(i/2), i % 2].legend()\n",
    "        ax[floor(i/2), i % 2].set_title('Train & Test Distribution for Feature {}'.format(c))\n",
    "        \n",
    "    # Some nice plot formatting.     \n",
    "    plt.suptitle('Feature Distributions Across Train and Test datasets', fontsize=14)\n",
    "    plt.tight_layout()\n",
    "    plt.subplots_adjust(top=0.95)\n",
    "    plt.show()"
   ]
  },
  {
   "cell_type": "markdown",
   "metadata": {},
   "source": [
    "Running the function produced the following plot: "
   ]
  },
  {
   "cell_type": "code",
   "execution_count": 66,
   "metadata": {},
   "outputs": [
    {
     "data": {
      "image/png": "[encoded data removed]",
      "text/plain": [
       "<matplotlib.figure.Figure at 0x111175278>"
      ]
     },
     "metadata": {},
     "output_type": "display_data"
    }
   ],
   "source": [
    "plot_train_test_distributions(final_model_processed_features, final_model_processed_test_features)"
   ]
  },
  {
   "cell_type": "markdown",
   "metadata": {},
   "source": [
    "As you can see, the answer is obvious and clear: the train and test set distributions for these 8 features are basically identical so this is not a problem for me and this _not_ impact my model's performance. "
   ]
  },
  {
   "cell_type": "markdown",
   "metadata": {},
   "source": [
    "# Conclusions \n",
    "\n",
    "In this notebook we did several important things. From top to bottom I: \n",
    "    \n",
    "* Showed how my model was robust to small perturbations\n",
    "* Showed that my model had statistically significant better performance (measured via test RMSE) to the initial benchmark \n",
    "* Created two visualizations that showed that seasonality could be something future models could better address and that the a feature's distribution in the training set was basically identical to that feature's distribution in the test set, which is something we definitely wanted! "
   ]
  }
 ],
 "metadata": {
  "kernelspec": {
   "display_name": "Python 3",
   "language": "python",
   "name": "python3"
  },
  "language_info": {
   "codemirror_mode": {
    "name": "ipython",
    "version": 3
   },
   "file_extension": ".py",
   "mimetype": "text/x-python",
   "name": "python",
   "nbconvert_exporter": "python",
   "pygments_lexer": "ipython3",
   "version": "3.6.2"
  }
 },
 "nbformat": 4,
 "nbformat_minor": 2
}
