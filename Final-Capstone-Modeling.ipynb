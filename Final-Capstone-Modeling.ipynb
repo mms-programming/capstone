{
 "cells": [
  {
   "cell_type": "markdown",
   "metadata": {},
   "source": [
    "# Intro \n",
    "\n",
    "This notebook showcases my modeling for the capstone project. It is broken up into three sections, each one representing an iteration of the project. "
   ]
  },
  {
   "cell_type": "code",
   "execution_count": 1,
   "metadata": {
    "collapsed": true
   },
   "outputs": [],
   "source": [
    "import pandas as pd\n",
    "import matplotlib.pyplot as plt\n",
    "import seaborn as sns\n",
    "import numpy as np\n",
    "\n",
    "%matplotlib inline"
   ]
  },
  {
   "cell_type": "markdown",
   "metadata": {},
   "source": [
    "The first thing to do is to read both the training data and the test data. One thing to note about the test data: we don't actually have the right answers. Instead you must submit your answers to Kaggle in order to see what your RMSE between the log of you predicted answers and the log of the actual answers is."
   ]
  },
  {
   "cell_type": "code",
   "execution_count": 2,
   "metadata": {
    "collapsed": true
   },
   "outputs": [],
   "source": [
    "train_data = pd.read_csv('./data/train.csv')\n",
    "test_data = pd.read_csv('./data/test.csv')"
   ]
  },
  {
   "cell_type": "markdown",
   "metadata": {},
   "source": [
    "Now that we have our data it's time to generate our first models!"
   ]
  },
  {
   "cell_type": "markdown",
   "metadata": {},
   "source": [
    "# First Iteration Models"
   ]
  },
  {
   "cell_type": "markdown",
   "metadata": {},
   "source": [
    "Because Kaggle already tells us about their benchmark model (linear regression with `LotArea`, `BedroomAbvGr`, `MoSold`, and `YrSold`) I thought it made sense to start with my four algorithms only using those four features. This process is detailed below."
   ]
  },
  {
   "cell_type": "markdown",
   "metadata": {},
   "source": [
    "First step, let's grab the relevant features, create the feature set and the target set, and examine their relationship and distributions"
   ]
  },
  {
   "cell_type": "code",
   "execution_count": 3,
   "metadata": {
    "collapsed": true
   },
   "outputs": [],
   "source": [
    "# Helper function to make splitting features and target easy!\n",
    "def split_features_target(data): \n",
    "    return data.drop('SalePrice', axis=1), data['SalePrice']"
   ]
  },
  {
   "cell_type": "code",
   "execution_count": 4,
   "metadata": {
    "collapsed": true
   },
   "outputs": [],
   "source": [
    "first_model_data = train_data[['LotArea', 'BedroomAbvGr', 'MoSold', 'YrSold', 'SalePrice']]\n",
    "first_model_features, first_model_target = split_features_target(first_model_data)"
   ]
  },
  {
   "cell_type": "code",
   "execution_count": 5,
   "metadata": {},
   "outputs": [
    {
     "data": {
      "text/html": [
       "<div>\n",
       "<style>\n",
       "    .dataframe thead tr:only-child th {\n",
       "        text-align: right;\n",
       "    }\n",
       "\n",
       "    .dataframe thead th {\n",
       "        text-align: left;\n",
       "    }\n",
       "\n",
       "    .dataframe tbody tr th {\n",
       "        vertical-align: top;\n",
       "    }\n",
       "</style>\n",
       "<table border=\"1\" class=\"dataframe\">\n",
       "  <thead>\n",
       "    <tr style=\"text-align: right;\">\n",
       "      <th></th>\n",
       "      <th>LotArea</th>\n",
       "      <th>BedroomAbvGr</th>\n",
       "      <th>MoSold</th>\n",
       "      <th>YrSold</th>\n",
       "      <th>SalePrice</th>\n",
       "    </tr>\n",
       "  </thead>\n",
       "  <tbody>\n",
       "    <tr>\n",
       "      <th>0</th>\n",
       "      <td>8450</td>\n",
       "      <td>3</td>\n",
       "      <td>2</td>\n",
       "      <td>2008</td>\n",
       "      <td>208500</td>\n",
       "    </tr>\n",
       "    <tr>\n",
       "      <th>1</th>\n",
       "      <td>9600</td>\n",
       "      <td>3</td>\n",
       "      <td>5</td>\n",
       "      <td>2007</td>\n",
       "      <td>181500</td>\n",
       "    </tr>\n",
       "    <tr>\n",
       "      <th>2</th>\n",
       "      <td>11250</td>\n",
       "      <td>3</td>\n",
       "      <td>9</td>\n",
       "      <td>2008</td>\n",
       "      <td>223500</td>\n",
       "    </tr>\n",
       "    <tr>\n",
       "      <th>3</th>\n",
       "      <td>9550</td>\n",
       "      <td>3</td>\n",
       "      <td>2</td>\n",
       "      <td>2006</td>\n",
       "      <td>140000</td>\n",
       "    </tr>\n",
       "    <tr>\n",
       "      <th>4</th>\n",
       "      <td>14260</td>\n",
       "      <td>4</td>\n",
       "      <td>12</td>\n",
       "      <td>2008</td>\n",
       "      <td>250000</td>\n",
       "    </tr>\n",
       "  </tbody>\n",
       "</table>\n",
       "</div>"
      ],
      "text/plain": [
       "   LotArea  BedroomAbvGr  MoSold  YrSold  SalePrice\n",
       "0     8450             3       2    2008     208500\n",
       "1     9600             3       5    2007     181500\n",
       "2    11250             3       9    2008     223500\n",
       "3     9550             3       2    2006     140000\n",
       "4    14260             4      12    2008     250000"
      ]
     },
     "execution_count": 5,
     "metadata": {},
     "output_type": "execute_result"
    }
   ],
   "source": [
    "first_model_data.head()"
   ]
  },
  {
   "cell_type": "code",
   "execution_count": 6,
   "metadata": {},
   "outputs": [
    {
     "data": {
      "text/plain": [
       "<matplotlib.text.Text at 0x113a476d8>"
      ]
     },
     "execution_count": 6,
     "metadata": {},
     "output_type": "execute_result"
    },
    {
     "data": {
      "image/png": "[encoded data removed]",
      "text/plain": [
       "<matplotlib.figure.Figure at 0x113a47710>"
      ]
     },
     "metadata": {},
     "output_type": "display_data"
    }
   ],
   "source": [
    "g = sns.pairplot(first_model_data, diag_kind=\"kde\", kind='reg')\n",
    "g.fig.suptitle(\"Pairplot of selected features and target variable showing regression and kde\", y=1.01, fontsize=16)"
   ]
  },
  {
   "cell_type": "markdown",
   "metadata": {},
   "source": [
    "As you can see, it appears that `LotArea` and `SalePrice` are the two variables that would benefit from a log transform. Let's go ahead and do that now."
   ]
  },
  {
   "cell_type": "code",
   "execution_count": 7,
   "metadata": {
    "collapsed": true
   },
   "outputs": [],
   "source": [
    "first_model_features['LogLotArea'] = np.log(first_model_features['LotArea'])\n",
    "first_model_processed_features = first_model_features.drop('LotArea', axis=1)\n",
    "\n",
    "first_model_processed_target = np.log(first_model_target)"
   ]
  },
  {
   "cell_type": "code",
   "execution_count": 8,
   "metadata": {},
   "outputs": [
    {
     "data": {
      "text/html": [
       "<div>\n",
       "<style>\n",
       "    .dataframe thead tr:only-child th {\n",
       "        text-align: right;\n",
       "    }\n",
       "\n",
       "    .dataframe thead th {\n",
       "        text-align: left;\n",
       "    }\n",
       "\n",
       "    .dataframe tbody tr th {\n",
       "        vertical-align: top;\n",
       "    }\n",
       "</style>\n",
       "<table border=\"1\" class=\"dataframe\">\n",
       "  <thead>\n",
       "    <tr style=\"text-align: right;\">\n",
       "      <th></th>\n",
       "      <th>BedroomAbvGr</th>\n",
       "      <th>MoSold</th>\n",
       "      <th>YrSold</th>\n",
       "      <th>LogLotArea</th>\n",
       "    </tr>\n",
       "  </thead>\n",
       "  <tbody>\n",
       "    <tr>\n",
       "      <th>0</th>\n",
       "      <td>3</td>\n",
       "      <td>2</td>\n",
       "      <td>2008</td>\n",
       "      <td>9.041922</td>\n",
       "    </tr>\n",
       "    <tr>\n",
       "      <th>1</th>\n",
       "      <td>3</td>\n",
       "      <td>5</td>\n",
       "      <td>2007</td>\n",
       "      <td>9.169518</td>\n",
       "    </tr>\n",
       "    <tr>\n",
       "      <th>2</th>\n",
       "      <td>3</td>\n",
       "      <td>9</td>\n",
       "      <td>2008</td>\n",
       "      <td>9.328123</td>\n",
       "    </tr>\n",
       "    <tr>\n",
       "      <th>3</th>\n",
       "      <td>3</td>\n",
       "      <td>2</td>\n",
       "      <td>2006</td>\n",
       "      <td>9.164296</td>\n",
       "    </tr>\n",
       "    <tr>\n",
       "      <th>4</th>\n",
       "      <td>4</td>\n",
       "      <td>12</td>\n",
       "      <td>2008</td>\n",
       "      <td>9.565214</td>\n",
       "    </tr>\n",
       "  </tbody>\n",
       "</table>\n",
       "</div>"
      ],
      "text/plain": [
       "   BedroomAbvGr  MoSold  YrSold  LogLotArea\n",
       "0             3       2    2008    9.041922\n",
       "1             3       5    2007    9.169518\n",
       "2             3       9    2008    9.328123\n",
       "3             3       2    2006    9.164296\n",
       "4             4      12    2008    9.565214"
      ]
     },
     "execution_count": 8,
     "metadata": {},
     "output_type": "execute_result"
    }
   ],
   "source": [
    "first_model_processed_features.head()"
   ]
  },
  {
   "cell_type": "code",
   "execution_count": 9,
   "metadata": {},
   "outputs": [
    {
     "data": {
      "text/plain": [
       "0    12.247694\n",
       "1    12.109011\n",
       "2    12.317167\n",
       "3    11.849398\n",
       "4    12.429216\n",
       "Name: SalePrice, dtype: float64"
      ]
     },
     "execution_count": 9,
     "metadata": {},
     "output_type": "execute_result"
    }
   ],
   "source": [
    "first_model_processed_target.head()"
   ]
  },
  {
   "cell_type": "markdown",
   "metadata": {},
   "source": [
    "Yup, it's clear that the log transform has occurred! Now that we have our data transformed, it's time to begin the training. \n",
    "\n",
    "The first thing I need to do is create my metrics/performance function. The performance function will be RMSE so generating it is easy, especially if we start with scikit's MSE function: "
   ]
  },
  {
   "cell_type": "code",
   "execution_count": 10,
   "metadata": {
    "collapsed": true
   },
   "outputs": [],
   "source": [
    "# https://stackoverflow.com/questions/17197492/root-mean-square-error-in-python\n",
    "\n",
    "from sklearn.metrics import mean_squared_error\n",
    "from math import sqrt\n",
    "\n",
    "def performance_metric(y_true, y_predict):\n",
    "    return sqrt(mean_squared_error(y_true, y_predict))"
   ]
  },
  {
   "cell_type": "code",
   "execution_count": 11,
   "metadata": {},
   "outputs": [
    {
     "data": {
      "text/plain": [
       "1.5811388300841898"
      ]
     },
     "execution_count": 11,
     "metadata": {},
     "output_type": "execute_result"
    }
   ],
   "source": [
    "# Quick test to make sure it works -- it does!\n",
    "performance_metric([1, 2], [0, 0])"
   ]
  },
  {
   "cell_type": "markdown",
   "metadata": {},
   "source": [
    "Now that we have our performance metric, I created different functions for the various models that we are training. In particular, the function for linear regression was a lot easier to write than the one for the other models as there were no hyperparamters to train. Nevertheless, I still had a validation set (using 20% of the training data) in order to measure an estimated RMSE for the test set as well as compare it with the results from my other models. "
   ]
  },
  {
   "cell_type": "code",
   "execution_count": 12,
   "metadata": {
    "collapsed": true
   },
   "outputs": [],
   "source": [
    "from sklearn import linear_model\n",
    "from sklearn.model_selection import train_test_split\n",
    "\n",
    "def train_linear_regression(X, y):\n",
    "    X_train, X_validate, y_train, y_validate = train_test_split(X, y, test_size=0.20, random_state=26)\n",
    "    \n",
    "    lr = linear_model.LinearRegression()\n",
    "    lr.fit(X_train, y_train)\n",
    "    \n",
    "    y_pred = lr.predict(X_validate)\n",
    "    \n",
    "    return performance_metric(y_validate, y_pred)"
   ]
  },
  {
   "cell_type": "code",
   "execution_count": 13,
   "metadata": {},
   "outputs": [
    {
     "name": "stdout",
     "output_type": "stream",
     "text": [
      "Amount of time it took to train model was: 0:00:00.004381\n"
     ]
    }
   ],
   "source": [
    "import datetime\n",
    "\n",
    "start = datetime.datetime.now()\n",
    "lr_result = train_linear_regression(first_model_processed_features, first_model_processed_target)\n",
    "stop = datetime.datetime.now()\n",
    "\n",
    "print(\"Amount of time it took to train model was: %s\" % (stop - start))"
   ]
  },
  {
   "cell_type": "code",
   "execution_count": 14,
   "metadata": {},
   "outputs": [
    {
     "data": {
      "text/plain": [
       "0.3546942201290472"
      ]
     },
     "execution_count": 14,
     "metadata": {},
     "output_type": "execute_result"
    }
   ],
   "source": [
    "lr_result"
   ]
  },
  {
   "cell_type": "markdown",
   "metadata": {},
   "source": [
    "The RMSE on the validation set for linear regression using these features was 0.35. "
   ]
  },
  {
   "cell_type": "markdown",
   "metadata": {},
   "source": [
    "The next function I wrote is the general function used to train decision trees, random forest, and gradient boosting regressor. The nice thing about scikit learn is once you have this setup, it is easy to generalize across many different models. (Thus I was only required to create one function). This function followed the same general pattern as the functino we had to implement for finding doners. It begins with a scoring function followed by splitting the training data into a training set and a validation set. The split used is _exactly the same_ as the one used in linear regression (this will become very important later on). After we have set these properties, we then feed this information along with the model and the parameters to GridSearchCV to find the optimal hyperparameters. We end by returning the best model along with the best score. NOTE: Because we set `greater_is_better=False` the value returned will be negative. That's okay -- we'll just need to multiply by -1 to get the actual RMSE.   "
   ]
  },
  {
   "cell_type": "code",
   "execution_count": 15,
   "metadata": {
    "collapsed": true
   },
   "outputs": [],
   "source": [
    "from sklearn.metrics import make_scorer\n",
    "from sklearn.tree import DecisionTreeRegressor\n",
    "from sklearn.model_selection import GridSearchCV\n",
    "from sklearn.model_selection import KFold\n",
    "from sklearn.model_selection import ShuffleSplit\n",
    "\n",
    "def train_other_models(X, y, regressor, params, performance_metric): \n",
    "    # Create a scoring function, making sure to set greater_is_better equal to False (we want to MINIMIZE RMSE)\n",
    "    scoring_fnc = make_scorer(performance_metric, greater_is_better=False)\n",
    "    \n",
    "    # Split the training data into a training set and validation set. This is the same as the one used for \n",
    "    # linear regression\n",
    "    rs = ShuffleSplit(n_splits=1, test_size=0.2, train_size=0.8, random_state=26)\n",
    "    \n",
    "    # Using grid search to identify the optimal hyperparameters for a particular model. \n",
    "    # This uses the scoring function and train/validation split defined above. \n",
    "    grid = GridSearchCV(regressor, params, scoring=scoring_fnc, cv=rs.split(X), n_jobs=-1)\n",
    "    grid = grid.fit(X, y)\n",
    "    \n",
    "    return grid.best_estimator_, grid.best_score_"
   ]
  },
  {
   "cell_type": "markdown",
   "metadata": {},
   "source": [
    "The next set of model training follow a same general pattern: I create a dictionary of the hyperparameters first, then I pass the necessary information to the `train_other_models` function. One thing to note is that for every model I set and use the same random_state. I do this to guarantee that if I have to run the code again, I will get the same result--this makes it easier to write the results in my report :)\n",
    "\n",
    "I begin with decision trees."
   ]
  },
  {
   "cell_type": "code",
   "execution_count": 16,
   "metadata": {},
   "outputs": [
    {
     "name": "stdout",
     "output_type": "stream",
     "text": [
      "Amount of time it took to train model and select optimal hyperparamters was: 0:00:00.304132\n"
     ]
    }
   ],
   "source": [
    "dt_hyperparameters = {'max_depth': [depth for depth in range(1, 11)], \n",
    "                                 'min_samples_leaf': [min_samples for min_samples in range(1, 16)]}\n",
    "\n",
    "\n",
    "start = datetime.datetime.now()\n",
    "dt_result = train_other_models(first_model_processed_features, first_model_processed_target, \n",
    "                   DecisionTreeRegressor(random_state=39), dt_hyperparameters, performance_metric)\n",
    "stop = datetime.datetime.now()\n",
    "\n",
    "print(\"Amount of time it took to train model and select optimal hyperparamters was: %s\" % (stop - start))"
   ]
  },
  {
   "cell_type": "code",
   "execution_count": 17,
   "metadata": {},
   "outputs": [
    {
     "data": {
      "text/plain": [
       "(DecisionTreeRegressor(criterion='mse', max_depth=5, max_features=None,\n",
       "            max_leaf_nodes=None, min_impurity_decrease=0.0,\n",
       "            min_impurity_split=None, min_samples_leaf=15,\n",
       "            min_samples_split=2, min_weight_fraction_leaf=0.0,\n",
       "            presort=False, random_state=39, splitter='best'),\n",
       " -0.34628721865754586)"
      ]
     },
     "execution_count": 17,
     "metadata": {},
     "output_type": "execute_result"
    }
   ],
   "source": [
    "dt_result"
   ]
  },
  {
   "cell_type": "markdown",
   "metadata": {},
   "source": [
    "Decision trees took a little bit longer to test (but not by much) and the RMSE was 0.346, which was a slight improvement over the linear regression model. \n",
    "\n",
    "Let us now examine random forests."
   ]
  },
  {
   "cell_type": "code",
   "execution_count": 18,
   "metadata": {},
   "outputs": [
    {
     "name": "stdout",
     "output_type": "stream",
     "text": [
      "Amount of time it took to train model and select optimal hyperparamters was: 0:01:37.215822\n"
     ]
    }
   ],
   "source": [
    "from sklearn.ensemble import RandomForestRegressor\n",
    "\n",
    "rf_hyperparameters = {'n_estimators': [tree for tree in [10, 25, 100, 200, 500, 1000]],\n",
    "              'max_depth': [depth for depth in range(1, 11)], \n",
    "              'min_samples_leaf': [min_samples for min_samples in range(1, 16)]}\n",
    "\n",
    "start = datetime.datetime.now()\n",
    "rf_result = train_other_models(first_model_processed_features, first_model_processed_target, \n",
    "                   RandomForestRegressor(random_state=39), rf_hyperparameters, performance_metric)\n",
    "stop = datetime.datetime.now()\n",
    "\n",
    "print(\"Amount of time it took to train model and select optimal hyperparamters was: %s\" % (stop - start))"
   ]
  },
  {
   "cell_type": "code",
   "execution_count": 19,
   "metadata": {
    "collapsed": true
   },
   "outputs": [],
   "source": [
    "rf_result = train_other_models(X=first_model_processed_features, \n",
    "                               y=first_model_processed_target, \n",
    "                               regressor=RandomForestRegressor(random_state=39), \n",
    "                               params=rf_hyperparameters, \n",
    "                               performance_metric=performance_metric)"
   ]
  },
  {
   "cell_type": "code",
   "execution_count": 20,
   "metadata": {},
   "outputs": [
    {
     "data": {
      "text/plain": [
       "(RandomForestRegressor(bootstrap=True, criterion='mse', max_depth=10,\n",
       "            max_features='auto', max_leaf_nodes=None,\n",
       "            min_impurity_decrease=0.0, min_impurity_split=None,\n",
       "            min_samples_leaf=13, min_samples_split=2,\n",
       "            min_weight_fraction_leaf=0.0, n_estimators=25, n_jobs=1,\n",
       "            oob_score=False, random_state=39, verbose=0, warm_start=False),\n",
       " -0.33765161902197449)"
      ]
     },
     "execution_count": 20,
     "metadata": {},
     "output_type": "execute_result"
    }
   ],
   "source": [
    "rf_result"
   ]
  },
  {
   "cell_type": "markdown",
   "metadata": {},
   "source": [
    "As expected random forest took a lot longer to run than decision trees. This makes sense given we had significantly more hyperparameters to tune. The end result was an RMSE of 0.338, which was again an improvement on our previous best. \n",
    "\n",
    "Let us now conclude with gradient boosting regressor"
   ]
  },
  {
   "cell_type": "code",
   "execution_count": 21,
   "metadata": {},
   "outputs": [
    {
     "name": "stdout",
     "output_type": "stream",
     "text": [
      "Amount of time it took to train model and select optimal hyperparamters was: 0:09:00.793816\n"
     ]
    }
   ],
   "source": [
    "from sklearn.ensemble import GradientBoostingRegressor\n",
    "\n",
    "gb_hyperparameters = {'loss': ['ls', 'lad', 'huber'],\n",
    "                      'learning_rate': [0.01, 0.1, 1],\n",
    "                      'n_estimators': [100, 200, 500],\n",
    "                      'max_depth': [depth for depth in range(1, 11)], \n",
    "                      'min_samples_leaf': [min_samples for min_samples in range(1, 16)]}\n",
    "\n",
    "start = datetime.datetime.now()\n",
    "gb_result = train_other_models(first_model_processed_features, first_model_processed_target, \n",
    "                   GradientBoostingRegressor(random_state=39), gb_hyperparameters, performance_metric)\n",
    "stop = datetime.datetime.now()\n",
    "\n",
    "print(\"Amount of time it took to train model and select optimal hyperparamters was: %s\" % (stop - start))"
   ]
  },
  {
   "cell_type": "code",
   "execution_count": 22,
   "metadata": {},
   "outputs": [
    {
     "data": {
      "text/plain": [
       "(GradientBoostingRegressor(alpha=0.9, criterion='friedman_mse', init=None,\n",
       "              learning_rate=0.01, loss='lad', max_depth=7,\n",
       "              max_features=None, max_leaf_nodes=None,\n",
       "              min_impurity_decrease=0.0, min_impurity_split=None,\n",
       "              min_samples_leaf=14, min_samples_split=2,\n",
       "              min_weight_fraction_leaf=0.0, n_estimators=500,\n",
       "              presort='auto', random_state=39, subsample=1.0, verbose=0,\n",
       "              warm_start=False), -0.33375280957714815)"
      ]
     },
     "execution_count": 22,
     "metadata": {},
     "output_type": "execute_result"
    }
   ],
   "source": [
    "gb_result"
   ]
  },
  {
   "cell_type": "markdown",
   "metadata": {},
   "source": [
    "Given that gradient boosting regressor had even more hyperparameters than random forests, it should be no surprise that grid search took even longer. In the end the RMSE was 0.334, which was marginally better than our previous best. Thus, I decided to select this model as my initial benchmark. "
   ]
  },
  {
   "cell_type": "markdown",
   "metadata": {},
   "source": [
    "Now that I had this inital model, I decided to go back and train the model on the entire dataset. "
   ]
  },
  {
   "cell_type": "code",
   "execution_count": 23,
   "metadata": {},
   "outputs": [
    {
     "data": {
      "text/plain": [
       "GradientBoostingRegressor(alpha=0.9, criterion='friedman_mse', init=None,\n",
       "             learning_rate=0.1, loss='lad', max_depth=7, max_features=None,\n",
       "             max_leaf_nodes=None, min_impurity_decrease=0.0,\n",
       "             min_impurity_split=None, min_samples_leaf=14,\n",
       "             min_samples_split=2, min_weight_fraction_leaf=0.0,\n",
       "             n_estimators=500, presort='auto', random_state=39,\n",
       "             subsample=1.0, verbose=0, warm_start=False)"
      ]
     },
     "execution_count": 23,
     "metadata": {},
     "output_type": "execute_result"
    }
   ],
   "source": [
    "gb_model = GradientBoostingRegressor(alpha=0.9, loss='lad', max_depth=7, min_samples_leaf=14, \n",
    "                                     learning_rate=0.1, random_state=39, n_estimators=500)\n",
    "gb_model.fit(first_model_processed_features, first_model_processed_target)"
   ]
  },
  {
   "cell_type": "markdown",
   "metadata": {},
   "source": [
    "From there, I used the model to predict the log(SalePrice) of the test data. To do that, I had to extract the correct features and log transform `LotArea` as well. "
   ]
  },
  {
   "cell_type": "code",
   "execution_count": 24,
   "metadata": {},
   "outputs": [
    {
     "name": "stderr",
     "output_type": "stream",
     "text": [
      "/Users/mihaimsirbu/anaconda/envs/capstone/lib/python3.6/site-packages/ipykernel_launcher.py:3: SettingWithCopyWarning: \n",
      "A value is trying to be set on a copy of a slice from a DataFrame.\n",
      "Try using .loc[row_indexer,col_indexer] = value instead\n",
      "\n",
      "See the caveats in the documentation: http://pandas.pydata.org/pandas-docs/stable/indexing.html#indexing-view-versus-copy\n",
      "  This is separate from the ipykernel package so we can avoid doing imports until\n"
     ]
    }
   ],
   "source": [
    "first_model_test_features = test_data[['LotArea', 'BedroomAbvGr', 'MoSold', 'YrSold']]\n",
    "\n",
    "first_model_test_features['LogLotArea'] = np.log(first_model_test_features['LotArea'])\n",
    "first_model_processed_test_features = first_model_test_features.drop('LotArea', axis=1)"
   ]
  },
  {
   "cell_type": "code",
   "execution_count": 25,
   "metadata": {},
   "outputs": [
    {
     "data": {
      "text/html": [
       "<div>\n",
       "<style>\n",
       "    .dataframe thead tr:only-child th {\n",
       "        text-align: right;\n",
       "    }\n",
       "\n",
       "    .dataframe thead th {\n",
       "        text-align: left;\n",
       "    }\n",
       "\n",
       "    .dataframe tbody tr th {\n",
       "        vertical-align: top;\n",
       "    }\n",
       "</style>\n",
       "<table border=\"1\" class=\"dataframe\">\n",
       "  <thead>\n",
       "    <tr style=\"text-align: right;\">\n",
       "      <th></th>\n",
       "      <th>BedroomAbvGr</th>\n",
       "      <th>MoSold</th>\n",
       "      <th>YrSold</th>\n",
       "      <th>LogLotArea</th>\n",
       "    </tr>\n",
       "  </thead>\n",
       "  <tbody>\n",
       "    <tr>\n",
       "      <th>0</th>\n",
       "      <td>2</td>\n",
       "      <td>6</td>\n",
       "      <td>2010</td>\n",
       "      <td>9.360655</td>\n",
       "    </tr>\n",
       "    <tr>\n",
       "      <th>1</th>\n",
       "      <td>3</td>\n",
       "      <td>6</td>\n",
       "      <td>2010</td>\n",
       "      <td>9.565704</td>\n",
       "    </tr>\n",
       "    <tr>\n",
       "      <th>2</th>\n",
       "      <td>3</td>\n",
       "      <td>3</td>\n",
       "      <td>2010</td>\n",
       "      <td>9.534595</td>\n",
       "    </tr>\n",
       "    <tr>\n",
       "      <th>3</th>\n",
       "      <td>3</td>\n",
       "      <td>6</td>\n",
       "      <td>2010</td>\n",
       "      <td>9.208138</td>\n",
       "    </tr>\n",
       "    <tr>\n",
       "      <th>4</th>\n",
       "      <td>2</td>\n",
       "      <td>1</td>\n",
       "      <td>2010</td>\n",
       "      <td>8.518193</td>\n",
       "    </tr>\n",
       "  </tbody>\n",
       "</table>\n",
       "</div>"
      ],
      "text/plain": [
       "   BedroomAbvGr  MoSold  YrSold  LogLotArea\n",
       "0             2       6    2010    9.360655\n",
       "1             3       6    2010    9.565704\n",
       "2             3       3    2010    9.534595\n",
       "3             3       6    2010    9.208138\n",
       "4             2       1    2010    8.518193"
      ]
     },
     "execution_count": 25,
     "metadata": {},
     "output_type": "execute_result"
    }
   ],
   "source": [
    "first_model_processed_test_features.head()"
   ]
  },
  {
   "cell_type": "markdown",
   "metadata": {},
   "source": [
    "From there, I used it to predict the log(SalePrice) of the test data. "
   ]
  },
  {
   "cell_type": "code",
   "execution_count": 26,
   "metadata": {
    "collapsed": true
   },
   "outputs": [],
   "source": [
    "predicted_test_results = gb_model.predict(first_model_processed_test_features)"
   ]
  },
  {
   "cell_type": "markdown",
   "metadata": {},
   "source": [
    "Because Kaggle requires the results to be in actual dollar amounts, I had to untransform my predictions. I then wrote those predictions to a csv and submitted it to Kaggle. As always, let's generalize this function for our own sanity!"
   ]
  },
  {
   "cell_type": "code",
   "execution_count": 27,
   "metadata": {
    "collapsed": true
   },
   "outputs": [],
   "source": [
    "def transform_and_save_predictions(predictions, filepath):\n",
    "    # You have to un-log transform the predictions!\n",
    "    prediction_data = {'Id': range(1461, 1461+len(predictions)), 'SalePrice': np.exp(predictions)}\n",
    "    predictions_df = pd.DataFrame(prediction_data)\n",
    "    predictions_df.to_csv(filepath, index=False)"
   ]
  },
  {
   "cell_type": "code",
   "execution_count": 28,
   "metadata": {
    "collapsed": true
   },
   "outputs": [],
   "source": [
    "transform_and_save_predictions(predicted_test_results, './data/first_model_prediction.csv')"
   ]
  },
  {
   "cell_type": "code",
   "execution_count": 29,
   "metadata": {},
   "outputs": [
    {
     "name": "stdout",
     "output_type": "stream",
     "text": [
      "Id,SalePrice\n",
      "1461,146385.32795032076\n",
      "1462,236896.8068924356\n",
      "1463,233873.3512595826\n",
      "1464,163009.10744909276\n",
      "1465,164232.95088840046\n",
      "1466,165567.49571445712\n",
      "1467,139783.668897826\n",
      "1468,145842.08547168004\n",
      "1469,143598.42774726736\n"
     ]
    }
   ],
   "source": [
    "%%bash \n",
    "\n",
    "head ./data/first_model_prediction.csv"
   ]
  },
  {
   "cell_type": "markdown",
   "metadata": {},
   "source": [
    "Looks good to me! When I submitted it to Kaggle, my RMSE between the log of my predictions and the log of the actual answer was 0.37041, which was an improvement from 0.40890!"
   ]
  },
  {
   "cell_type": "markdown",
   "metadata": {},
   "source": [
    "# Refinement"
   ]
  },
  {
   "cell_type": "markdown",
   "metadata": {},
   "source": [
    "Although we had made improvement, I still felt like I could do a better job. Thus, it was time to refine the model. To do this, I made several changes. First, I decided to stop using linear regression as a potential model; this was done because I felt linear regression had too high bias for this problem. Second, I added a few more values to certain hyperparameters within random forest and gradient boosting regressors. You will see the difference below. Third, I decided to add more features. \n",
    "\n",
    "The first feature I decided to add was `Neighborhood`, which is a categorical feature. This was done based on EDA and my intution of certain neighborhoods being desirable. To be able to include it, however, I had to perform one-hot enconding; this will be seen later on. \n",
    "\n",
    "The second set of features I wanted to add was the top 4 or 5 features that were most correlated with `SalePrice`. In order to _properly_ identify such features, I made sure to determine correlations only using the same training set as my model training functions. In other words, I did NOT determine correlations using the entire training set but rather with the new training set (80% of the original) after the train/validate split. For reasons why this is the correct way of doing things, check out [this video](https://www.youtube.com/watch?v=S06JpVoNaA0)"
   ]
  },
  {
   "cell_type": "code",
   "execution_count": 30,
   "metadata": {},
   "outputs": [
    {
     "data": {
      "text/html": [
       "<div>\n",
       "<style>\n",
       "    .dataframe thead tr:only-child th {\n",
       "        text-align: right;\n",
       "    }\n",
       "\n",
       "    .dataframe thead th {\n",
       "        text-align: left;\n",
       "    }\n",
       "\n",
       "    .dataframe tbody tr th {\n",
       "        vertical-align: top;\n",
       "    }\n",
       "</style>\n",
       "<table border=\"1\" class=\"dataframe\">\n",
       "  <thead>\n",
       "    <tr style=\"text-align: right;\">\n",
       "      <th></th>\n",
       "      <th>MSSubClass</th>\n",
       "      <th>LotFrontage</th>\n",
       "      <th>LotArea</th>\n",
       "      <th>OverallQual</th>\n",
       "      <th>OverallCond</th>\n",
       "      <th>YearBuilt</th>\n",
       "      <th>YearRemodAdd</th>\n",
       "      <th>MasVnrArea</th>\n",
       "      <th>BsmtFinSF1</th>\n",
       "      <th>BsmtFinSF2</th>\n",
       "      <th>...</th>\n",
       "      <th>WoodDeckSF</th>\n",
       "      <th>OpenPorchSF</th>\n",
       "      <th>EnclosedPorch</th>\n",
       "      <th>3SsnPorch</th>\n",
       "      <th>ScreenPorch</th>\n",
       "      <th>PoolArea</th>\n",
       "      <th>MiscVal</th>\n",
       "      <th>MoSold</th>\n",
       "      <th>YrSold</th>\n",
       "      <th>SalePrice</th>\n",
       "    </tr>\n",
       "  </thead>\n",
       "  <tbody>\n",
       "    <tr>\n",
       "      <th>0</th>\n",
       "      <td>60</td>\n",
       "      <td>65.0</td>\n",
       "      <td>8450</td>\n",
       "      <td>7</td>\n",
       "      <td>5</td>\n",
       "      <td>2003</td>\n",
       "      <td>2003</td>\n",
       "      <td>196.0</td>\n",
       "      <td>706</td>\n",
       "      <td>0</td>\n",
       "      <td>...</td>\n",
       "      <td>0</td>\n",
       "      <td>61</td>\n",
       "      <td>0</td>\n",
       "      <td>0</td>\n",
       "      <td>0</td>\n",
       "      <td>0</td>\n",
       "      <td>0</td>\n",
       "      <td>2</td>\n",
       "      <td>2008</td>\n",
       "      <td>208500</td>\n",
       "    </tr>\n",
       "    <tr>\n",
       "      <th>1</th>\n",
       "      <td>20</td>\n",
       "      <td>80.0</td>\n",
       "      <td>9600</td>\n",
       "      <td>6</td>\n",
       "      <td>8</td>\n",
       "      <td>1976</td>\n",
       "      <td>1976</td>\n",
       "      <td>0.0</td>\n",
       "      <td>978</td>\n",
       "      <td>0</td>\n",
       "      <td>...</td>\n",
       "      <td>298</td>\n",
       "      <td>0</td>\n",
       "      <td>0</td>\n",
       "      <td>0</td>\n",
       "      <td>0</td>\n",
       "      <td>0</td>\n",
       "      <td>0</td>\n",
       "      <td>5</td>\n",
       "      <td>2007</td>\n",
       "      <td>181500</td>\n",
       "    </tr>\n",
       "    <tr>\n",
       "      <th>2</th>\n",
       "      <td>60</td>\n",
       "      <td>68.0</td>\n",
       "      <td>11250</td>\n",
       "      <td>7</td>\n",
       "      <td>5</td>\n",
       "      <td>2001</td>\n",
       "      <td>2002</td>\n",
       "      <td>162.0</td>\n",
       "      <td>486</td>\n",
       "      <td>0</td>\n",
       "      <td>...</td>\n",
       "      <td>0</td>\n",
       "      <td>42</td>\n",
       "      <td>0</td>\n",
       "      <td>0</td>\n",
       "      <td>0</td>\n",
       "      <td>0</td>\n",
       "      <td>0</td>\n",
       "      <td>9</td>\n",
       "      <td>2008</td>\n",
       "      <td>223500</td>\n",
       "    </tr>\n",
       "    <tr>\n",
       "      <th>3</th>\n",
       "      <td>70</td>\n",
       "      <td>60.0</td>\n",
       "      <td>9550</td>\n",
       "      <td>7</td>\n",
       "      <td>5</td>\n",
       "      <td>1915</td>\n",
       "      <td>1970</td>\n",
       "      <td>0.0</td>\n",
       "      <td>216</td>\n",
       "      <td>0</td>\n",
       "      <td>...</td>\n",
       "      <td>0</td>\n",
       "      <td>35</td>\n",
       "      <td>272</td>\n",
       "      <td>0</td>\n",
       "      <td>0</td>\n",
       "      <td>0</td>\n",
       "      <td>0</td>\n",
       "      <td>2</td>\n",
       "      <td>2006</td>\n",
       "      <td>140000</td>\n",
       "    </tr>\n",
       "    <tr>\n",
       "      <th>4</th>\n",
       "      <td>60</td>\n",
       "      <td>84.0</td>\n",
       "      <td>14260</td>\n",
       "      <td>8</td>\n",
       "      <td>5</td>\n",
       "      <td>2000</td>\n",
       "      <td>2000</td>\n",
       "      <td>350.0</td>\n",
       "      <td>655</td>\n",
       "      <td>0</td>\n",
       "      <td>...</td>\n",
       "      <td>192</td>\n",
       "      <td>84</td>\n",
       "      <td>0</td>\n",
       "      <td>0</td>\n",
       "      <td>0</td>\n",
       "      <td>0</td>\n",
       "      <td>0</td>\n",
       "      <td>12</td>\n",
       "      <td>2008</td>\n",
       "      <td>250000</td>\n",
       "    </tr>\n",
       "  </tbody>\n",
       "</table>\n",
       "<p>5 rows × 37 columns</p>\n",
       "</div>"
      ],
      "text/plain": [
       "   MSSubClass  LotFrontage  LotArea  OverallQual  OverallCond  YearBuilt  \\\n",
       "0          60         65.0     8450            7            5       2003   \n",
       "1          20         80.0     9600            6            8       1976   \n",
       "2          60         68.0    11250            7            5       2001   \n",
       "3          70         60.0     9550            7            5       1915   \n",
       "4          60         84.0    14260            8            5       2000   \n",
       "\n",
       "   YearRemodAdd  MasVnrArea  BsmtFinSF1  BsmtFinSF2    ...      WoodDeckSF  \\\n",
       "0          2003       196.0         706           0    ...               0   \n",
       "1          1976         0.0         978           0    ...             298   \n",
       "2          2002       162.0         486           0    ...               0   \n",
       "3          1970         0.0         216           0    ...               0   \n",
       "4          2000       350.0         655           0    ...             192   \n",
       "\n",
       "   OpenPorchSF  EnclosedPorch  3SsnPorch  ScreenPorch  PoolArea  MiscVal  \\\n",
       "0           61              0          0            0         0        0   \n",
       "1            0              0          0            0         0        0   \n",
       "2           42              0          0            0         0        0   \n",
       "3           35            272          0            0         0        0   \n",
       "4           84              0          0            0         0        0   \n",
       "\n",
       "   MoSold  YrSold  SalePrice  \n",
       "0       2    2008     208500  \n",
       "1       5    2007     181500  \n",
       "2       9    2008     223500  \n",
       "3       2    2006     140000  \n",
       "4      12    2008     250000  \n",
       "\n",
       "[5 rows x 37 columns]"
      ]
     },
     "execution_count": 30,
     "metadata": {},
     "output_type": "execute_result"
    }
   ],
   "source": [
    "# First get only the continuous columns (drop Id)\n",
    "continuous_cols = train_data.columns[train_data.dtypes != object]\n",
    "continuous_data = train_data[continuous_cols]\n",
    "continuous_data = continuous_data.drop('Id', axis=1)\n",
    "\n",
    "continuous_data.head()"
   ]
  },
  {
   "cell_type": "markdown",
   "metadata": {},
   "source": [
    "Although we had the continuous data, we were not done. We had to now extract only the data that was associated with our new train set (80% of the original training data). To do that I created a helper function to do just that. First, I split the data into features and target. Then I run the `train_test_split` function. Once I have the components, I then stitch X_train and y_train back together and return the new create new training subset data. The output of this function will be used on more than one occasion. "
   ]
  },
  {
   "cell_type": "code",
   "execution_count": 31,
   "metadata": {
    "collapsed": true
   },
   "outputs": [],
   "source": [
    "def create_new_train_subset(data): \n",
    "    X = data.drop('SalePrice', axis=1)\n",
    "    y = data['SalePrice']\n",
    "    \n",
    "    X_train, X_validate, y_train, y_validate = train_test_split(X, y, test_size=0.20, random_state=26)\n",
    "    new_train_subset = X_train.copy(deep=True)\n",
    "    \n",
    "    # Includes all continuous features and the target variable\n",
    "    new_train_subset['SalePrice'] = y_train\n",
    "    \n",
    "    return new_train_subset"
   ]
  },
  {
   "cell_type": "markdown",
   "metadata": {},
   "source": [
    " From here, creating a correlation matrix was straightforward"
   ]
  },
  {
   "cell_type": "code",
   "execution_count": 32,
   "metadata": {},
   "outputs": [
    {
     "data": {
      "text/plain": [
       "SalePrice        1.000000\n",
       "OverallQual      0.797377\n",
       "GrLivArea        0.718194\n",
       "TotalBsmtSF      0.651546\n",
       "GarageCars       0.647715\n",
       "GarageArea       0.639467\n",
       "1stFlrSF         0.628965\n",
       "FullBath         0.565811\n",
       "YearBuilt        0.541140\n",
       "TotRmsAbvGrd     0.538015\n",
       "YearRemodAdd     0.516331\n",
       "GarageYrBlt      0.500987\n",
       "MasVnrArea       0.482830\n",
       "Fireplaces       0.466124\n",
       "BsmtFinSF1       0.407889\n",
       "LotFrontage      0.360956\n",
       "WoodDeckSF       0.309869\n",
       "2ndFlrSF         0.305539\n",
       "OpenPorchSF      0.279858\n",
       "HalfBath         0.266104\n",
       "LotArea          0.255151\n",
       "BsmtUnfSF        0.219645\n",
       "BsmtFullBath     0.212919\n",
       "BedroomAbvGr     0.164985\n",
       "PoolArea         0.106169\n",
       "ScreenPorch      0.101591\n",
       "3SsnPorch        0.038541\n",
       "MoSold           0.038228\n",
       "BsmtFinSF2      -0.004927\n",
       "BsmtHalfBath    -0.023287\n",
       "MiscVal         -0.028023\n",
       "YrSold          -0.037429\n",
       "LowQualFinSF    -0.067444\n",
       "OverallCond     -0.100032\n",
       "MSSubClass      -0.104662\n",
       "EnclosedPorch   -0.123270\n",
       "KitchenAbvGr    -0.143213\n",
       "Name: SalePrice, dtype: float64"
      ]
     },
     "execution_count": 32,
     "metadata": {},
     "output_type": "execute_result"
    }
   ],
   "source": [
    "continuous_train_data = create_new_train_subset(continuous_data)\n",
    "corr_matrix = continuous_train_data.corr()\n",
    "corr_matrix['SalePrice'].sort_values(ascending=False)"
   ]
  },
  {
   "cell_type": "markdown",
   "metadata": {},
   "source": [
    "(Related aside: This might not be easy to see, but if you compared this result with the correlations using the entire training set, the order is slightly different! Here the top five correlated features with `SalePrice` are, in order of highest to lowest correlation, `OverallQual`, `GrLivArea`, `TotalBsmtSF`, `GarageCars`, `GarageArea`. On the other hand, if you examine the correlations using the entire training set the top five correlated features with `SalePrice` are, in order of highest to lowest correlation, `OverallQual`, `GrLivArea`, `GarageCars`, `GarageArea`, and `TotalBsmtSF`)"
   ]
  },
  {
   "cell_type": "markdown",
   "metadata": {},
   "source": [
    "Based upon this I decided to add the two features whose correlations were above 0.7, which were `OverallQual` and `GrLivArea`. Before continuing with our actual model training, however, there were two additional things to examine. First, was whether either feature required log transformation. I determined this by using pairplots "
   ]
  },
  {
   "cell_type": "code",
   "execution_count": 33,
   "metadata": {
    "collapsed": true
   },
   "outputs": [],
   "source": [
    "pairplot_test = continuous_train_data[['OverallQual', 'GrLivArea', 'SalePrice']]"
   ]
  },
  {
   "cell_type": "code",
   "execution_count": 34,
   "metadata": {},
   "outputs": [
    {
     "data": {
      "text/plain": [
       "<matplotlib.text.Text at 0x1197abba8>"
      ]
     },
     "execution_count": 34,
     "metadata": {},
     "output_type": "execute_result"
    },
    {
     "data": {
      "image/png": "[encoded data removed]",
      "text/plain": [
       "<matplotlib.figure.Figure at 0x1197abb38>"
      ]
     },
     "metadata": {},
     "output_type": "display_data"
    }
   ],
   "source": [
    "g = sns.pairplot(pairplot_test, diag_kind=\"kde\", kind='reg')\n",
    "g.fig.suptitle(\"Pairplot of selected features and target variable showing regression and kde\", y=1.01, fontsize=16)"
   ]
  },
  {
   "cell_type": "markdown",
   "metadata": {},
   "source": [
    "From this, it appers that `GrLivArea` will need to be log transformed. (SalePrice had already been identified as requiring log transform)\n",
    "\n",
    "Finally, before actually creating the models, I decided to examine the collinearity between all the continuous features that we are planning on using:"
   ]
  },
  {
   "cell_type": "code",
   "execution_count": 35,
   "metadata": {
    "scrolled": false
   },
   "outputs": [
    {
     "data": {
      "text/plain": [
       "<matplotlib.text.Text at 0x113c8a3c8>"
      ]
     },
     "execution_count": 35,
     "metadata": {},
     "output_type": "execute_result"
    },
    {
     "data": {
      "image/png": "[encoded data removed]",
      "text/plain": [
       "<matplotlib.figure.Figure at 0x1197aba20>"
      ]
     },
     "metadata": {},
     "output_type": "display_data"
    }
   ],
   "source": [
    "collinearity_check = continuous_train_data[['LotArea', 'BedroomAbvGr', 'MoSold', 'YrSold', 'OverallQual', 'GrLivArea']]\n",
    "sns.heatmap(collinearity_check.corr(), annot=True).set_title('Heatmap of the correlations between continuous features picked for refinement model') \n",
    "plt.xlabel('Features for Refinement') \n",
    "plt.ylabel('Features for Refinement')"
   ]
  },
  {
   "cell_type": "markdown",
   "metadata": {},
   "source": [
    "The highest correlations were between `OverallQual` and `GrLivArea` (0.59) and `BedroomAbvGr` and `GrLivArea`. However, none of them seemed too troubling so I diecdied to use everything as before. "
   ]
  },
  {
   "cell_type": "markdown",
   "metadata": {},
   "source": [
    "## Refinement model training\n",
    "\n",
    "With that, it was now time to begin the model training process again. The first step was to select the right featuers"
   ]
  },
  {
   "cell_type": "code",
   "execution_count": 36,
   "metadata": {
    "collapsed": true
   },
   "outputs": [],
   "source": [
    "second_model_data = train_data[['LotArea', 'BedroomAbvGr', 'MoSold', 'YrSold', \n",
    "                               'OverallQual', 'GrLivArea', 'Neighborhood', 'SalePrice']]\n",
    "second_model_features, second_model_target = split_features_target(second_model_data)"
   ]
  },
  {
   "cell_type": "markdown",
   "metadata": {},
   "source": [
    "Then it was time to do the necessary data transformations, starting with the log transform. At this point, I decided to create a function. NOTE: The add_value is for cases wehre some values are 0 and we need to add a 1 in order for log transform to work properly."
   ]
  },
  {
   "cell_type": "code",
   "execution_count": 37,
   "metadata": {
    "collapsed": true
   },
   "outputs": [],
   "source": [
    "def log_transform_features(data, columns, add_value=False): \n",
    "    value = 1 if add_value else 0\n",
    "    \n",
    "    for c in columns: \n",
    "        data['Log'+c] = data[c].apply(lambda x: np.log(x + value))\n",
    "        data = data.drop(c, axis=1)\n",
    "        \n",
    "    return data"
   ]
  },
  {
   "cell_type": "code",
   "execution_count": 38,
   "metadata": {
    "collapsed": true
   },
   "outputs": [],
   "source": [
    "second_model_processed_continuous_features = log_transform_features(second_model_features, \n",
    "                                                                    ['LotArea', 'GrLivArea'])"
   ]
  },
  {
   "cell_type": "markdown",
   "metadata": {},
   "source": [
    "We took care of the continuous features, now it's time to take care of the categorical feature, which required one-hot encoding."
   ]
  },
  {
   "cell_type": "code",
   "execution_count": 39,
   "metadata": {},
   "outputs": [
    {
     "data": {
      "text/html": [
       "<div>\n",
       "<style>\n",
       "    .dataframe thead tr:only-child th {\n",
       "        text-align: right;\n",
       "    }\n",
       "\n",
       "    .dataframe thead th {\n",
       "        text-align: left;\n",
       "    }\n",
       "\n",
       "    .dataframe tbody tr th {\n",
       "        vertical-align: top;\n",
       "    }\n",
       "</style>\n",
       "<table border=\"1\" class=\"dataframe\">\n",
       "  <thead>\n",
       "    <tr style=\"text-align: right;\">\n",
       "      <th></th>\n",
       "      <th>BedroomAbvGr</th>\n",
       "      <th>MoSold</th>\n",
       "      <th>YrSold</th>\n",
       "      <th>OverallQual</th>\n",
       "      <th>LogLotArea</th>\n",
       "      <th>LogGrLivArea</th>\n",
       "      <th>Neighborhood_Blmngtn</th>\n",
       "      <th>Neighborhood_Blueste</th>\n",
       "      <th>Neighborhood_BrDale</th>\n",
       "      <th>Neighborhood_BrkSide</th>\n",
       "      <th>...</th>\n",
       "      <th>Neighborhood_NoRidge</th>\n",
       "      <th>Neighborhood_NridgHt</th>\n",
       "      <th>Neighborhood_OldTown</th>\n",
       "      <th>Neighborhood_SWISU</th>\n",
       "      <th>Neighborhood_Sawyer</th>\n",
       "      <th>Neighborhood_SawyerW</th>\n",
       "      <th>Neighborhood_Somerst</th>\n",
       "      <th>Neighborhood_StoneBr</th>\n",
       "      <th>Neighborhood_Timber</th>\n",
       "      <th>Neighborhood_Veenker</th>\n",
       "    </tr>\n",
       "  </thead>\n",
       "  <tbody>\n",
       "    <tr>\n",
       "      <th>0</th>\n",
       "      <td>3</td>\n",
       "      <td>2</td>\n",
       "      <td>2008</td>\n",
       "      <td>7</td>\n",
       "      <td>9.041922</td>\n",
       "      <td>7.444249</td>\n",
       "      <td>0</td>\n",
       "      <td>0</td>\n",
       "      <td>0</td>\n",
       "      <td>0</td>\n",
       "      <td>...</td>\n",
       "      <td>0</td>\n",
       "      <td>0</td>\n",
       "      <td>0</td>\n",
       "      <td>0</td>\n",
       "      <td>0</td>\n",
       "      <td>0</td>\n",
       "      <td>0</td>\n",
       "      <td>0</td>\n",
       "      <td>0</td>\n",
       "      <td>0</td>\n",
       "    </tr>\n",
       "    <tr>\n",
       "      <th>1</th>\n",
       "      <td>3</td>\n",
       "      <td>5</td>\n",
       "      <td>2007</td>\n",
       "      <td>6</td>\n",
       "      <td>9.169518</td>\n",
       "      <td>7.140453</td>\n",
       "      <td>0</td>\n",
       "      <td>0</td>\n",
       "      <td>0</td>\n",
       "      <td>0</td>\n",
       "      <td>...</td>\n",
       "      <td>0</td>\n",
       "      <td>0</td>\n",
       "      <td>0</td>\n",
       "      <td>0</td>\n",
       "      <td>0</td>\n",
       "      <td>0</td>\n",
       "      <td>0</td>\n",
       "      <td>0</td>\n",
       "      <td>0</td>\n",
       "      <td>1</td>\n",
       "    </tr>\n",
       "    <tr>\n",
       "      <th>2</th>\n",
       "      <td>3</td>\n",
       "      <td>9</td>\n",
       "      <td>2008</td>\n",
       "      <td>7</td>\n",
       "      <td>9.328123</td>\n",
       "      <td>7.487734</td>\n",
       "      <td>0</td>\n",
       "      <td>0</td>\n",
       "      <td>0</td>\n",
       "      <td>0</td>\n",
       "      <td>...</td>\n",
       "      <td>0</td>\n",
       "      <td>0</td>\n",
       "      <td>0</td>\n",
       "      <td>0</td>\n",
       "      <td>0</td>\n",
       "      <td>0</td>\n",
       "      <td>0</td>\n",
       "      <td>0</td>\n",
       "      <td>0</td>\n",
       "      <td>0</td>\n",
       "    </tr>\n",
       "    <tr>\n",
       "      <th>3</th>\n",
       "      <td>3</td>\n",
       "      <td>2</td>\n",
       "      <td>2006</td>\n",
       "      <td>7</td>\n",
       "      <td>9.164296</td>\n",
       "      <td>7.448334</td>\n",
       "      <td>0</td>\n",
       "      <td>0</td>\n",
       "      <td>0</td>\n",
       "      <td>0</td>\n",
       "      <td>...</td>\n",
       "      <td>0</td>\n",
       "      <td>0</td>\n",
       "      <td>0</td>\n",
       "      <td>0</td>\n",
       "      <td>0</td>\n",
       "      <td>0</td>\n",
       "      <td>0</td>\n",
       "      <td>0</td>\n",
       "      <td>0</td>\n",
       "      <td>0</td>\n",
       "    </tr>\n",
       "    <tr>\n",
       "      <th>4</th>\n",
       "      <td>4</td>\n",
       "      <td>12</td>\n",
       "      <td>2008</td>\n",
       "      <td>8</td>\n",
       "      <td>9.565214</td>\n",
       "      <td>7.695303</td>\n",
       "      <td>0</td>\n",
       "      <td>0</td>\n",
       "      <td>0</td>\n",
       "      <td>0</td>\n",
       "      <td>...</td>\n",
       "      <td>1</td>\n",
       "      <td>0</td>\n",
       "      <td>0</td>\n",
       "      <td>0</td>\n",
       "      <td>0</td>\n",
       "      <td>0</td>\n",
       "      <td>0</td>\n",
       "      <td>0</td>\n",
       "      <td>0</td>\n",
       "      <td>0</td>\n",
       "    </tr>\n",
       "  </tbody>\n",
       "</table>\n",
       "<p>5 rows × 31 columns</p>\n",
       "</div>"
      ],
      "text/plain": [
       "   BedroomAbvGr  MoSold  YrSold  OverallQual  LogLotArea  LogGrLivArea  \\\n",
       "0             3       2    2008            7    9.041922      7.444249   \n",
       "1             3       5    2007            6    9.169518      7.140453   \n",
       "2             3       9    2008            7    9.328123      7.487734   \n",
       "3             3       2    2006            7    9.164296      7.448334   \n",
       "4             4      12    2008            8    9.565214      7.695303   \n",
       "\n",
       "   Neighborhood_Blmngtn  Neighborhood_Blueste  Neighborhood_BrDale  \\\n",
       "0                     0                     0                    0   \n",
       "1                     0                     0                    0   \n",
       "2                     0                     0                    0   \n",
       "3                     0                     0                    0   \n",
       "4                     0                     0                    0   \n",
       "\n",
       "   Neighborhood_BrkSide          ...           Neighborhood_NoRidge  \\\n",
       "0                     0          ...                              0   \n",
       "1                     0          ...                              0   \n",
       "2                     0          ...                              0   \n",
       "3                     0          ...                              0   \n",
       "4                     0          ...                              1   \n",
       "\n",
       "   Neighborhood_NridgHt  Neighborhood_OldTown  Neighborhood_SWISU  \\\n",
       "0                     0                     0                   0   \n",
       "1                     0                     0                   0   \n",
       "2                     0                     0                   0   \n",
       "3                     0                     0                   0   \n",
       "4                     0                     0                   0   \n",
       "\n",
       "   Neighborhood_Sawyer  Neighborhood_SawyerW  Neighborhood_Somerst  \\\n",
       "0                    0                     0                     0   \n",
       "1                    0                     0                     0   \n",
       "2                    0                     0                     0   \n",
       "3                    0                     0                     0   \n",
       "4                    0                     0                     0   \n",
       "\n",
       "   Neighborhood_StoneBr  Neighborhood_Timber  Neighborhood_Veenker  \n",
       "0                     0                    0                     0  \n",
       "1                     0                    0                     1  \n",
       "2                     0                    0                     0  \n",
       "3                     0                    0                     0  \n",
       "4                     0                    0                     0  \n",
       "\n",
       "[5 rows x 31 columns]"
      ]
     },
     "execution_count": 39,
     "metadata": {},
     "output_type": "execute_result"
    }
   ],
   "source": [
    "second_model_processed_features = pd.get_dummies(second_model_processed_continuous_features)\n",
    "second_model_processed_features.head()"
   ]
  },
  {
   "cell_type": "code",
   "execution_count": 40,
   "metadata": {},
   "outputs": [
    {
     "data": {
      "text/plain": [
       "0    12.247694\n",
       "1    12.109011\n",
       "2    12.317167\n",
       "3    11.849398\n",
       "4    12.429216\n",
       "Name: SalePrice, dtype: float64"
      ]
     },
     "execution_count": 40,
     "metadata": {},
     "output_type": "execute_result"
    }
   ],
   "source": [
    "second_model_processed_target = np.log(second_model_target)\n",
    "second_model_processed_target.head()"
   ]
  },
  {
   "cell_type": "markdown",
   "metadata": {},
   "source": [
    "Preprocessing all done! Now it's time to actually train those model across the various hyperparameters!"
   ]
  },
  {
   "cell_type": "code",
   "execution_count": 41,
   "metadata": {},
   "outputs": [
    {
     "name": "stdout",
     "output_type": "stream",
     "text": [
      "Amount of time it took to train model and select optimal hyperparamters was: 0:00:00.439064\n"
     ]
    }
   ],
   "source": [
    "second_dt_hyperparameters = {'max_depth': [depth for depth in range(1, 11)], \n",
    "                                 'min_samples_leaf': [min_samples for min_samples in range(1, 16)]}\n",
    "\n",
    "\n",
    "start = datetime.datetime.now()\n",
    "second_dt_result = train_other_models(second_model_processed_features, second_model_processed_target, \n",
    "                   DecisionTreeRegressor(random_state=39), second_dt_hyperparameters, performance_metric)\n",
    "stop = datetime.datetime.now()\n",
    "\n",
    "print(\"Amount of time it took to train model and select optimal hyperparamters was: %s\" % (stop - start))"
   ]
  },
  {
   "cell_type": "code",
   "execution_count": 42,
   "metadata": {
    "scrolled": true
   },
   "outputs": [
    {
     "data": {
      "text/plain": [
       "(DecisionTreeRegressor(criterion='mse', max_depth=9, max_features=None,\n",
       "            max_leaf_nodes=None, min_impurity_decrease=0.0,\n",
       "            min_impurity_split=None, min_samples_leaf=15,\n",
       "            min_samples_split=2, min_weight_fraction_leaf=0.0,\n",
       "            presort=False, random_state=39, splitter='best'),\n",
       " -0.20753621627944754)"
      ]
     },
     "execution_count": 42,
     "metadata": {},
     "output_type": "execute_result"
    }
   ],
   "source": [
    "second_dt_result"
   ]
  },
  {
   "cell_type": "markdown",
   "metadata": {},
   "source": [
    "Huzah! By adding these three additional features, our new RMSE for decision trees is 0.207. This appears to be quite the improvement over our last model's decision tree result which had an RMSE of 0.346. Now lets move to using grid search to find the best random forest model. \n",
    "\n",
    "One thing to note here is that we have added some additional values to `n_estimators` hyperparameter for grid search to explore. "
   ]
  },
  {
   "cell_type": "code",
   "execution_count": 43,
   "metadata": {},
   "outputs": [
    {
     "name": "stdout",
     "output_type": "stream",
     "text": [
      "Amount of time it took to train model and select optimal hyperparamters was: 0:02:14.646890\n"
     ]
    }
   ],
   "source": [
    "second_rf_hyperparameters = {'n_estimators': [tree for tree in [10, 25, 50, 75, 100, 200, 500, 1000]],\n",
    "              'max_depth': [depth for depth in range(1, 11)], \n",
    "              'min_samples_leaf': [min_samples for min_samples in range(1, 16)]}\n",
    "\n",
    "start = datetime.datetime.now()\n",
    "second_rf_result = train_other_models(second_model_processed_features, second_model_processed_target, \n",
    "                   RandomForestRegressor(random_state=39), second_rf_hyperparameters, performance_metric)\n",
    "stop = datetime.datetime.now()\n",
    "\n",
    "print(\"Amount of time it took to train model and select optimal hyperparamters was: %s\" % (stop - start))"
   ]
  },
  {
   "cell_type": "code",
   "execution_count": 44,
   "metadata": {},
   "outputs": [
    {
     "data": {
      "text/plain": [
       "(RandomForestRegressor(bootstrap=True, criterion='mse', max_depth=10,\n",
       "            max_features='auto', max_leaf_nodes=None,\n",
       "            min_impurity_decrease=0.0, min_impurity_split=None,\n",
       "            min_samples_leaf=1, min_samples_split=2,\n",
       "            min_weight_fraction_leaf=0.0, n_estimators=25, n_jobs=1,\n",
       "            oob_score=False, random_state=39, verbose=0, warm_start=False),\n",
       " -0.18364244710019687)"
      ]
     },
     "execution_count": 44,
     "metadata": {},
     "output_type": "execute_result"
    }
   ],
   "source": [
    "second_rf_result"
   ]
  },
  {
   "cell_type": "markdown",
   "metadata": {},
   "source": [
    "Like the first case, random forest performed better than a single decision tree with an RMSE of 0.184. This is not surprising. What is impressive, however, is the drop from an RMSE of 0.337 to an RMSE of 0.184 just by using three additional features. "
   ]
  },
  {
   "cell_type": "code",
   "execution_count": 45,
   "metadata": {},
   "outputs": [
    {
     "name": "stdout",
     "output_type": "stream",
     "text": [
      "Amount of time it took to train model and select optimal hyperparamters was: 0:43:05.839456\n"
     ]
    }
   ],
   "source": [
    "second_gb_hyperparameters = {'loss': ['ls', 'lad', 'huber'],\n",
    "                      'learning_rate': [0.01, 0.1, 1],\n",
    "                      'n_estimators': [100, 200, 300, 500, 700, 1000],\n",
    "                      'max_depth': [depth for depth in range(1, 11)], \n",
    "                      'min_samples_leaf': [min_samples for min_samples in range(1, 16)]}\n",
    "\n",
    "start = datetime.datetime.now()\n",
    "second_gb_result = train_other_models(second_model_processed_features, second_model_processed_target, \n",
    "                   GradientBoostingRegressor(random_state=39), second_gb_hyperparameters, performance_metric)\n",
    "stop = datetime.datetime.now()\n",
    "\n",
    "print(\"Amount of time it took to train model and select optimal hyperparamters was: %s\" % (stop - start))"
   ]
  },
  {
   "cell_type": "code",
   "execution_count": 46,
   "metadata": {},
   "outputs": [
    {
     "data": {
      "text/plain": [
       "(GradientBoostingRegressor(alpha=0.9, criterion='friedman_mse', init=None,\n",
       "              learning_rate=0.1, loss='lad', max_depth=4, max_features=None,\n",
       "              max_leaf_nodes=None, min_impurity_decrease=0.0,\n",
       "              min_impurity_split=None, min_samples_leaf=1,\n",
       "              min_samples_split=2, min_weight_fraction_leaf=0.0,\n",
       "              n_estimators=200, presort='auto', random_state=39,\n",
       "              subsample=1.0, verbose=0, warm_start=False),\n",
       " -0.16492291492837186)"
      ]
     },
     "execution_count": 46,
     "metadata": {},
     "output_type": "execute_result"
    }
   ],
   "source": [
    "second_gb_result"
   ]
  },
  {
   "cell_type": "markdown",
   "metadata": {},
   "source": [
    "This took significantly longer than I expected but, then again, we added more features and more values for `n_estimators`. In any event, like the other two models, the RMSE did decrease dramatically from the first gradient boosting iteration. RMSE dropped from 0.334 to 0.165! \n",
    "\n",
    "Once again, the best graident boosting regressor model was the best model relative to random forests and decision trees so I went ahead and chose this model. Thus, like before, I went back and trained the model on the entire training dataset (making sure to do the necessary preprocessing), predicted on the test set and submitted my results to Kaggle."
   ]
  },
  {
   "cell_type": "code",
   "execution_count": 47,
   "metadata": {},
   "outputs": [
    {
     "data": {
      "text/plain": [
       "GradientBoostingRegressor(alpha=0.9, criterion='friedman_mse', init=None,\n",
       "             learning_rate=0.1, loss='lad', max_depth=4, max_features=None,\n",
       "             max_leaf_nodes=None, min_impurity_decrease=0.0,\n",
       "             min_impurity_split=None, min_samples_leaf=1,\n",
       "             min_samples_split=2, min_weight_fraction_leaf=0.0,\n",
       "             n_estimators=200, presort='auto', random_state=39,\n",
       "             subsample=1.0, verbose=0, warm_start=False)"
      ]
     },
     "execution_count": 47,
     "metadata": {},
     "output_type": "execute_result"
    }
   ],
   "source": [
    "gb_model = GradientBoostingRegressor(alpha=0.9, loss='lad', max_depth=4, min_samples_leaf=1, \n",
    "                                     learning_rate=0.1, random_state=39, n_estimators=200)\n",
    "gb_model.fit(second_model_processed_features, second_model_processed_target)"
   ]
  },
  {
   "cell_type": "code",
   "execution_count": 48,
   "metadata": {},
   "outputs": [
    {
     "name": "stderr",
     "output_type": "stream",
     "text": [
      "/Users/mihaimsirbu/anaconda/envs/capstone/lib/python3.6/site-packages/ipykernel_launcher.py:5: SettingWithCopyWarning: \n",
      "A value is trying to be set on a copy of a slice from a DataFrame.\n",
      "Try using .loc[row_indexer,col_indexer] = value instead\n",
      "\n",
      "See the caveats in the documentation: http://pandas.pydata.org/pandas-docs/stable/indexing.html#indexing-view-versus-copy\n",
      "  \"\"\"\n"
     ]
    },
    {
     "data": {
      "text/html": [
       "<div>\n",
       "<style>\n",
       "    .dataframe thead tr:only-child th {\n",
       "        text-align: right;\n",
       "    }\n",
       "\n",
       "    .dataframe thead th {\n",
       "        text-align: left;\n",
       "    }\n",
       "\n",
       "    .dataframe tbody tr th {\n",
       "        vertical-align: top;\n",
       "    }\n",
       "</style>\n",
       "<table border=\"1\" class=\"dataframe\">\n",
       "  <thead>\n",
       "    <tr style=\"text-align: right;\">\n",
       "      <th></th>\n",
       "      <th>BedroomAbvGr</th>\n",
       "      <th>MoSold</th>\n",
       "      <th>YrSold</th>\n",
       "      <th>OverallQual</th>\n",
       "      <th>LogLotArea</th>\n",
       "      <th>LogGrLivArea</th>\n",
       "      <th>Neighborhood_Blmngtn</th>\n",
       "      <th>Neighborhood_Blueste</th>\n",
       "      <th>Neighborhood_BrDale</th>\n",
       "      <th>Neighborhood_BrkSide</th>\n",
       "      <th>...</th>\n",
       "      <th>Neighborhood_NoRidge</th>\n",
       "      <th>Neighborhood_NridgHt</th>\n",
       "      <th>Neighborhood_OldTown</th>\n",
       "      <th>Neighborhood_SWISU</th>\n",
       "      <th>Neighborhood_Sawyer</th>\n",
       "      <th>Neighborhood_SawyerW</th>\n",
       "      <th>Neighborhood_Somerst</th>\n",
       "      <th>Neighborhood_StoneBr</th>\n",
       "      <th>Neighborhood_Timber</th>\n",
       "      <th>Neighborhood_Veenker</th>\n",
       "    </tr>\n",
       "  </thead>\n",
       "  <tbody>\n",
       "    <tr>\n",
       "      <th>0</th>\n",
       "      <td>2</td>\n",
       "      <td>6</td>\n",
       "      <td>2010</td>\n",
       "      <td>5</td>\n",
       "      <td>9.360655</td>\n",
       "      <td>6.797940</td>\n",
       "      <td>0</td>\n",
       "      <td>0</td>\n",
       "      <td>0</td>\n",
       "      <td>0</td>\n",
       "      <td>...</td>\n",
       "      <td>0</td>\n",
       "      <td>0</td>\n",
       "      <td>0</td>\n",
       "      <td>0</td>\n",
       "      <td>0</td>\n",
       "      <td>0</td>\n",
       "      <td>0</td>\n",
       "      <td>0</td>\n",
       "      <td>0</td>\n",
       "      <td>0</td>\n",
       "    </tr>\n",
       "    <tr>\n",
       "      <th>1</th>\n",
       "      <td>3</td>\n",
       "      <td>6</td>\n",
       "      <td>2010</td>\n",
       "      <td>6</td>\n",
       "      <td>9.565704</td>\n",
       "      <td>7.192182</td>\n",
       "      <td>0</td>\n",
       "      <td>0</td>\n",
       "      <td>0</td>\n",
       "      <td>0</td>\n",
       "      <td>...</td>\n",
       "      <td>0</td>\n",
       "      <td>0</td>\n",
       "      <td>0</td>\n",
       "      <td>0</td>\n",
       "      <td>0</td>\n",
       "      <td>0</td>\n",
       "      <td>0</td>\n",
       "      <td>0</td>\n",
       "      <td>0</td>\n",
       "      <td>0</td>\n",
       "    </tr>\n",
       "    <tr>\n",
       "      <th>2</th>\n",
       "      <td>3</td>\n",
       "      <td>3</td>\n",
       "      <td>2010</td>\n",
       "      <td>5</td>\n",
       "      <td>9.534595</td>\n",
       "      <td>7.395722</td>\n",
       "      <td>0</td>\n",
       "      <td>0</td>\n",
       "      <td>0</td>\n",
       "      <td>0</td>\n",
       "      <td>...</td>\n",
       "      <td>0</td>\n",
       "      <td>0</td>\n",
       "      <td>0</td>\n",
       "      <td>0</td>\n",
       "      <td>0</td>\n",
       "      <td>0</td>\n",
       "      <td>0</td>\n",
       "      <td>0</td>\n",
       "      <td>0</td>\n",
       "      <td>0</td>\n",
       "    </tr>\n",
       "    <tr>\n",
       "      <th>3</th>\n",
       "      <td>3</td>\n",
       "      <td>6</td>\n",
       "      <td>2010</td>\n",
       "      <td>6</td>\n",
       "      <td>9.208138</td>\n",
       "      <td>7.380256</td>\n",
       "      <td>0</td>\n",
       "      <td>0</td>\n",
       "      <td>0</td>\n",
       "      <td>0</td>\n",
       "      <td>...</td>\n",
       "      <td>0</td>\n",
       "      <td>0</td>\n",
       "      <td>0</td>\n",
       "      <td>0</td>\n",
       "      <td>0</td>\n",
       "      <td>0</td>\n",
       "      <td>0</td>\n",
       "      <td>0</td>\n",
       "      <td>0</td>\n",
       "      <td>0</td>\n",
       "    </tr>\n",
       "    <tr>\n",
       "      <th>4</th>\n",
       "      <td>2</td>\n",
       "      <td>1</td>\n",
       "      <td>2010</td>\n",
       "      <td>8</td>\n",
       "      <td>8.518193</td>\n",
       "      <td>7.154615</td>\n",
       "      <td>0</td>\n",
       "      <td>0</td>\n",
       "      <td>0</td>\n",
       "      <td>0</td>\n",
       "      <td>...</td>\n",
       "      <td>0</td>\n",
       "      <td>0</td>\n",
       "      <td>0</td>\n",
       "      <td>0</td>\n",
       "      <td>0</td>\n",
       "      <td>0</td>\n",
       "      <td>0</td>\n",
       "      <td>1</td>\n",
       "      <td>0</td>\n",
       "      <td>0</td>\n",
       "    </tr>\n",
       "  </tbody>\n",
       "</table>\n",
       "<p>5 rows × 31 columns</p>\n",
       "</div>"
      ],
      "text/plain": [
       "   BedroomAbvGr  MoSold  YrSold  OverallQual  LogLotArea  LogGrLivArea  \\\n",
       "0             2       6    2010            5    9.360655      6.797940   \n",
       "1             3       6    2010            6    9.565704      7.192182   \n",
       "2             3       3    2010            5    9.534595      7.395722   \n",
       "3             3       6    2010            6    9.208138      7.380256   \n",
       "4             2       1    2010            8    8.518193      7.154615   \n",
       "\n",
       "   Neighborhood_Blmngtn  Neighborhood_Blueste  Neighborhood_BrDale  \\\n",
       "0                     0                     0                    0   \n",
       "1                     0                     0                    0   \n",
       "2                     0                     0                    0   \n",
       "3                     0                     0                    0   \n",
       "4                     0                     0                    0   \n",
       "\n",
       "   Neighborhood_BrkSide          ...           Neighborhood_NoRidge  \\\n",
       "0                     0          ...                              0   \n",
       "1                     0          ...                              0   \n",
       "2                     0          ...                              0   \n",
       "3                     0          ...                              0   \n",
       "4                     0          ...                              0   \n",
       "\n",
       "   Neighborhood_NridgHt  Neighborhood_OldTown  Neighborhood_SWISU  \\\n",
       "0                     0                     0                   0   \n",
       "1                     0                     0                   0   \n",
       "2                     0                     0                   0   \n",
       "3                     0                     0                   0   \n",
       "4                     0                     0                   0   \n",
       "\n",
       "   Neighborhood_Sawyer  Neighborhood_SawyerW  Neighborhood_Somerst  \\\n",
       "0                    0                     0                     0   \n",
       "1                    0                     0                     0   \n",
       "2                    0                     0                     0   \n",
       "3                    0                     0                     0   \n",
       "4                    0                     0                     0   \n",
       "\n",
       "   Neighborhood_StoneBr  Neighborhood_Timber  Neighborhood_Veenker  \n",
       "0                     0                    0                     0  \n",
       "1                     0                    0                     0  \n",
       "2                     0                    0                     0  \n",
       "3                     0                    0                     0  \n",
       "4                     1                    0                     0  \n",
       "\n",
       "[5 rows x 31 columns]"
      ]
     },
     "execution_count": 48,
     "metadata": {},
     "output_type": "execute_result"
    }
   ],
   "source": [
    "second_model_test_features = test_data[['LotArea', 'BedroomAbvGr', 'MoSold', 'YrSold', \n",
    "                               'OverallQual', 'GrLivArea', 'Neighborhood']]\n",
    "\n",
    "second_model_processed_test_cont_features = log_transform_features(second_model_test_features, ['LotArea', 'GrLivArea'])\n",
    "second_model_processed_test_features = pd.get_dummies(second_model_processed_test_cont_features)\n",
    "\n",
    "second_model_processed_test_features.head()"
   ]
  },
  {
   "cell_type": "code",
   "execution_count": 49,
   "metadata": {
    "collapsed": true
   },
   "outputs": [],
   "source": [
    "predicted_second_test_results = gb_model.predict(second_model_processed_test_features)\n",
    "transform_and_save_predictions(predicted_second_test_results, './data/second_model_prediction.csv')"
   ]
  },
  {
   "cell_type": "code",
   "execution_count": 50,
   "metadata": {},
   "outputs": [
    {
     "name": "stdout",
     "output_type": "stream",
     "text": [
      "Id,SalePrice\n",
      "1461,125773.5649270249\n",
      "1462,163483.51897126198\n",
      "1463,155115.04423417107\n",
      "1464,177935.90225907348\n",
      "1465,201881.0980200685\n",
      "1466,176436.8105387248\n",
      "1467,152001.94301229934\n",
      "1468,172093.68522900506\n",
      "1469,185448.9520800501\n"
     ]
    }
   ],
   "source": [
    "%%bash \n",
    "\n",
    "head ./data/second_model_prediction.csv"
   ]
  },
  {
   "cell_type": "markdown",
   "metadata": {},
   "source": [
    "Everything looks good! After submitting my results to Kaggle, I got a final test RMSE of 0.17588, a major improvement from my initial benchmark and the Kaggle benchmark! "
   ]
  },
  {
   "cell_type": "markdown",
   "metadata": {},
   "source": [
    "# Second Refinement \n",
    "\n",
    "While my refined model had major improvement over my initial model, I still felt I could do better with minimal tweaks. Thus, I decided to add more features. Based on my EDA, I decided to add three more categorical features: `ExterQual`, `BsmtQual`, `KitchenQual`. These features, like `Neighborhood` would need to be transformed via one-hot encoding. \n",
    "\n",
    "Now one thing that was different about these three features relative to the other one was there `BsmtQual` actually had some null values associated with it. "
   ]
  },
  {
   "cell_type": "code",
   "execution_count": 51,
   "metadata": {},
   "outputs": [
    {
     "data": {
      "text/plain": [
       "ExterQual       0\n",
       "BsmtQual       31\n",
       "KitchenQual     0\n",
       "SalePrice       0\n",
       "dtype: int64"
      ]
     },
     "execution_count": 51,
     "metadata": {},
     "output_type": "execute_result"
    }
   ],
   "source": [
    "# Number of null values in the training subset (80% of the original training set)\n",
    "cat_train_data = create_new_train_subset(train_data[['ExterQual', 'BsmtQual', 'KitchenQual', 'SalePrice']])\n",
    "cat_train_data.isnull().sum()"
   ]
  },
  {
   "cell_type": "code",
   "execution_count": 52,
   "metadata": {},
   "outputs": [
    {
     "data": {
      "text/plain": [
       "ExterQual       0\n",
       "BsmtQual       37\n",
       "KitchenQual     0\n",
       "dtype: int64"
      ]
     },
     "execution_count": 52,
     "metadata": {},
     "output_type": "execute_result"
    }
   ],
   "source": [
    "# Number of nulls across the entire training set\n",
    "train_data[['ExterQual', 'BsmtQual', 'KitchenQual']].isnull().sum()"
   ]
  },
  {
   "cell_type": "markdown",
   "metadata": {},
   "source": [
    "In this case I have decided to let the null serve as an additional level in the cateogrical feature. \n",
    "\n",
    "Besides categorical features, I also decided to add all continuous features that had a correlation higher than 0.60 with `SalePrice` from the training subset (e.g. 80% of the original training data). This included `TotalBsmtSF`, `GarageCars`, `GarageArea`, and `1stFlrSF`. Of course, before throwing them into my model I had to check two things: (1) whether any of the features required log transformation, and (2) whether there were any issues with collinearity. "
   ]
  },
  {
   "cell_type": "markdown",
   "metadata": {},
   "source": [
    "To check if any new continuous features required log transformation, I used the same method as before--namely looking at the distibutions via a pairplot. "
   ]
  },
  {
   "cell_type": "code",
   "execution_count": 53,
   "metadata": {
    "collapsed": true
   },
   "outputs": [],
   "source": [
    "pairplot_test = continuous_train_data[['TotalBsmtSF', 'GarageCars', 'GarageArea', '1stFlrSF', 'SalePrice']]"
   ]
  },
  {
   "cell_type": "code",
   "execution_count": 54,
   "metadata": {},
   "outputs": [
    {
     "data": {
      "text/plain": [
       "<matplotlib.text.Text at 0x11a032cc0>"
      ]
     },
     "execution_count": 54,
     "metadata": {},
     "output_type": "execute_result"
    },
    {
     "data": {
      "image/png": "[encoded data removed]",
      "text/plain": [
       "<matplotlib.figure.Figure at 0x11a032e48>"
      ]
     },
     "metadata": {},
     "output_type": "display_data"
    }
   ],
   "source": [
    "g = sns.pairplot(pairplot_test, diag_kind=\"kde\", kind='reg')\n",
    "g.fig.suptitle(\"Pairplot of selected features and target variable showing regression and kde\", y=1.01, fontsize=16)"
   ]
  },
  {
   "cell_type": "markdown",
   "metadata": {},
   "source": [
    "Based on this pairplot, it appears that `1stFlrSF` and `TotalBsmtSF` require log transformation. \n",
    "\n",
    "And what about collinearity? Again, to check that we can plot a heatmap of the correlations, again making sure to ONLY USING THE TRAINING SUBSET (80% of the original training data) to avoid leakage. "
   ]
  },
  {
   "cell_type": "code",
   "execution_count": 55,
   "metadata": {},
   "outputs": [
    {
     "data": {
      "text/plain": [
       "<matplotlib.text.Text at 0x11af51ba8>"
      ]
     },
     "execution_count": 55,
     "metadata": {},
     "output_type": "execute_result"
    },
    {
     "data": {
      "image/png": "[encoded data removed]",
      "text/plain": [
       "<matplotlib.figure.Figure at 0x11afe3358>"
      ]
     },
     "metadata": {},
     "output_type": "display_data"
    }
   ],
   "source": [
    "collinearity_check = continuous_train_data[['LotArea', 'BedroomAbvGr', 'MoSold', 'YrSold', 'OverallQual', \n",
    "                                           'GrLivArea', 'TotalBsmtSF', 'GarageCars', 'GarageArea', '1stFlrSF']]\n",
    "\n",
    "sns.heatmap(collinearity_check.corr(), annot=True).set_title('Heatmap of the correlations between continious features picked for second refinement model') \n",
    "plt.xlabel('Features for Second Refinement Model') \n",
    "plt.ylabel('Features for Second Refinement Model')"
   ]
  },
  {
   "cell_type": "markdown",
   "metadata": {},
   "source": [
    "Based on this correlation matrix, it appreas that `TotalBsmtSF` and `1stFlrSF` are highly correlated (0.8) as are `GarageCars` and `GarageArea` (0.89). Given this, I do not believe it makes sense to include all four features in my model. Thus, I will only include the one feature from each pair that has the highest correlation with `SalePrice`. From the calculation done above, that would be `TotalBsmtSF` and `GarageCars`. \n",
    "\n",
    "Now that we have identified the features we wish to add, it is now time to actually prepare the data for model training and hyperparameter tuning."
   ]
  },
  {
   "cell_type": "code",
   "execution_count": 56,
   "metadata": {
    "collapsed": true
   },
   "outputs": [],
   "source": [
    "third_model_data = train_data[['LotArea', 'BedroomAbvGr', 'MoSold', 'YrSold', \n",
    "                               'OverallQual', 'GrLivArea', 'Neighborhood', \n",
    "                               'TotalBsmtSF', 'GarageCars', 'ExterQual', \n",
    "                               'BsmtQual', 'KitchenQual', 'SalePrice']]\n",
    "third_model_features, third_model_target = split_features_target(third_model_data)"
   ]
  },
  {
   "cell_type": "code",
   "execution_count": 57,
   "metadata": {},
   "outputs": [
    {
     "data": {
      "text/html": [
       "<div>\n",
       "<style>\n",
       "    .dataframe thead tr:only-child th {\n",
       "        text-align: right;\n",
       "    }\n",
       "\n",
       "    .dataframe thead th {\n",
       "        text-align: left;\n",
       "    }\n",
       "\n",
       "    .dataframe tbody tr th {\n",
       "        vertical-align: top;\n",
       "    }\n",
       "</style>\n",
       "<table border=\"1\" class=\"dataframe\">\n",
       "  <thead>\n",
       "    <tr style=\"text-align: right;\">\n",
       "      <th></th>\n",
       "      <th>BedroomAbvGr</th>\n",
       "      <th>MoSold</th>\n",
       "      <th>YrSold</th>\n",
       "      <th>OverallQual</th>\n",
       "      <th>GarageCars</th>\n",
       "      <th>LogLotArea</th>\n",
       "      <th>LogGrLivArea</th>\n",
       "      <th>LogTotalBsmtSF</th>\n",
       "      <th>Neighborhood_Blmngtn</th>\n",
       "      <th>Neighborhood_Blueste</th>\n",
       "      <th>...</th>\n",
       "      <th>ExterQual_Gd</th>\n",
       "      <th>ExterQual_TA</th>\n",
       "      <th>BsmtQual_Ex</th>\n",
       "      <th>BsmtQual_Fa</th>\n",
       "      <th>BsmtQual_Gd</th>\n",
       "      <th>BsmtQual_TA</th>\n",
       "      <th>KitchenQual_Ex</th>\n",
       "      <th>KitchenQual_Fa</th>\n",
       "      <th>KitchenQual_Gd</th>\n",
       "      <th>KitchenQual_TA</th>\n",
       "    </tr>\n",
       "  </thead>\n",
       "  <tbody>\n",
       "    <tr>\n",
       "      <th>0</th>\n",
       "      <td>3</td>\n",
       "      <td>2</td>\n",
       "      <td>2008</td>\n",
       "      <td>7</td>\n",
       "      <td>2</td>\n",
       "      <td>9.042040</td>\n",
       "      <td>7.444833</td>\n",
       "      <td>6.753438</td>\n",
       "      <td>0</td>\n",
       "      <td>0</td>\n",
       "      <td>...</td>\n",
       "      <td>1</td>\n",
       "      <td>0</td>\n",
       "      <td>0</td>\n",
       "      <td>0</td>\n",
       "      <td>1</td>\n",
       "      <td>0</td>\n",
       "      <td>0</td>\n",
       "      <td>0</td>\n",
       "      <td>1</td>\n",
       "      <td>0</td>\n",
       "    </tr>\n",
       "    <tr>\n",
       "      <th>1</th>\n",
       "      <td>3</td>\n",
       "      <td>5</td>\n",
       "      <td>2007</td>\n",
       "      <td>6</td>\n",
       "      <td>2</td>\n",
       "      <td>9.169623</td>\n",
       "      <td>7.141245</td>\n",
       "      <td>7.141245</td>\n",
       "      <td>0</td>\n",
       "      <td>0</td>\n",
       "      <td>...</td>\n",
       "      <td>0</td>\n",
       "      <td>1</td>\n",
       "      <td>0</td>\n",
       "      <td>0</td>\n",
       "      <td>1</td>\n",
       "      <td>0</td>\n",
       "      <td>0</td>\n",
       "      <td>0</td>\n",
       "      <td>0</td>\n",
       "      <td>1</td>\n",
       "    </tr>\n",
       "    <tr>\n",
       "      <th>2</th>\n",
       "      <td>3</td>\n",
       "      <td>9</td>\n",
       "      <td>2008</td>\n",
       "      <td>7</td>\n",
       "      <td>2</td>\n",
       "      <td>9.328212</td>\n",
       "      <td>7.488294</td>\n",
       "      <td>6.825460</td>\n",
       "      <td>0</td>\n",
       "      <td>0</td>\n",
       "      <td>...</td>\n",
       "      <td>1</td>\n",
       "      <td>0</td>\n",
       "      <td>0</td>\n",
       "      <td>0</td>\n",
       "      <td>1</td>\n",
       "      <td>0</td>\n",
       "      <td>0</td>\n",
       "      <td>0</td>\n",
       "      <td>1</td>\n",
       "      <td>0</td>\n",
       "    </tr>\n",
       "    <tr>\n",
       "      <th>3</th>\n",
       "      <td>3</td>\n",
       "      <td>2</td>\n",
       "      <td>2006</td>\n",
       "      <td>7</td>\n",
       "      <td>3</td>\n",
       "      <td>9.164401</td>\n",
       "      <td>7.448916</td>\n",
       "      <td>6.629363</td>\n",
       "      <td>0</td>\n",
       "      <td>0</td>\n",
       "      <td>...</td>\n",
       "      <td>0</td>\n",
       "      <td>1</td>\n",
       "      <td>0</td>\n",
       "      <td>0</td>\n",
       "      <td>0</td>\n",
       "      <td>1</td>\n",
       "      <td>0</td>\n",
       "      <td>0</td>\n",
       "      <td>1</td>\n",
       "      <td>0</td>\n",
       "    </tr>\n",
       "    <tr>\n",
       "      <th>4</th>\n",
       "      <td>4</td>\n",
       "      <td>12</td>\n",
       "      <td>2008</td>\n",
       "      <td>8</td>\n",
       "      <td>3</td>\n",
       "      <td>9.565284</td>\n",
       "      <td>7.695758</td>\n",
       "      <td>7.044033</td>\n",
       "      <td>0</td>\n",
       "      <td>0</td>\n",
       "      <td>...</td>\n",
       "      <td>1</td>\n",
       "      <td>0</td>\n",
       "      <td>0</td>\n",
       "      <td>0</td>\n",
       "      <td>1</td>\n",
       "      <td>0</td>\n",
       "      <td>0</td>\n",
       "      <td>0</td>\n",
       "      <td>1</td>\n",
       "      <td>0</td>\n",
       "    </tr>\n",
       "  </tbody>\n",
       "</table>\n",
       "<p>5 rows × 45 columns</p>\n",
       "</div>"
      ],
      "text/plain": [
       "   BedroomAbvGr  MoSold  YrSold  OverallQual  GarageCars  LogLotArea  \\\n",
       "0             3       2    2008            7           2    9.042040   \n",
       "1             3       5    2007            6           2    9.169623   \n",
       "2             3       9    2008            7           2    9.328212   \n",
       "3             3       2    2006            7           3    9.164401   \n",
       "4             4      12    2008            8           3    9.565284   \n",
       "\n",
       "   LogGrLivArea  LogTotalBsmtSF  Neighborhood_Blmngtn  Neighborhood_Blueste  \\\n",
       "0      7.444833        6.753438                     0                     0   \n",
       "1      7.141245        7.141245                     0                     0   \n",
       "2      7.488294        6.825460                     0                     0   \n",
       "3      7.448916        6.629363                     0                     0   \n",
       "4      7.695758        7.044033                     0                     0   \n",
       "\n",
       "        ...        ExterQual_Gd  ExterQual_TA  BsmtQual_Ex  BsmtQual_Fa  \\\n",
       "0       ...                   1             0            0            0   \n",
       "1       ...                   0             1            0            0   \n",
       "2       ...                   1             0            0            0   \n",
       "3       ...                   0             1            0            0   \n",
       "4       ...                   1             0            0            0   \n",
       "\n",
       "   BsmtQual_Gd  BsmtQual_TA  KitchenQual_Ex  KitchenQual_Fa  KitchenQual_Gd  \\\n",
       "0            1            0               0               0               1   \n",
       "1            1            0               0               0               0   \n",
       "2            1            0               0               0               1   \n",
       "3            0            1               0               0               1   \n",
       "4            1            0               0               0               1   \n",
       "\n",
       "   KitchenQual_TA  \n",
       "0               0  \n",
       "1               1  \n",
       "2               0  \n",
       "3               0  \n",
       "4               0  \n",
       "\n",
       "[5 rows x 45 columns]"
      ]
     },
     "execution_count": 57,
     "metadata": {},
     "output_type": "execute_result"
    }
   ],
   "source": [
    "# Because of the new feature `TotalBsmtSF`, we had to add +1 because some of those values are 0 to properly do\n",
    "# log conversion!\n",
    "third_model_processed_continuous_features = log_transform_features(third_model_features, \n",
    "                                                                   ['LotArea', 'GrLivArea', 'TotalBsmtSF'], \n",
    "                                                                  add_value=True)\n",
    "third_model_processed_features = pd.get_dummies(third_model_processed_continuous_features)\n",
    "third_model_processed_features.head()"
   ]
  },
  {
   "cell_type": "code",
   "execution_count": 58,
   "metadata": {},
   "outputs": [
    {
     "data": {
      "text/plain": [
       "0    12.247694\n",
       "1    12.109011\n",
       "2    12.317167\n",
       "3    11.849398\n",
       "4    12.429216\n",
       "Name: SalePrice, dtype: float64"
      ]
     },
     "execution_count": 58,
     "metadata": {},
     "output_type": "execute_result"
    }
   ],
   "source": [
    "third_model_processed_target = np.log(third_model_target)\n",
    "third_model_processed_target.head()"
   ]
  },
  {
   "cell_type": "markdown",
   "metadata": {},
   "source": [
    "Preprocessing all done! Now it's time to actually train those model with this data across the various hyperparameters!"
   ]
  },
  {
   "cell_type": "code",
   "execution_count": 59,
   "metadata": {},
   "outputs": [
    {
     "name": "stdout",
     "output_type": "stream",
     "text": [
      "Amount of time it took to train model and select optimal hyperparamters was: 0:00:00.525335\n"
     ]
    }
   ],
   "source": [
    "third_dt_hyperparameters = {'max_depth': [depth for depth in range(1, 11)], \n",
    "                            'min_samples_leaf': [min_samples for min_samples in range(1, 16)]}\n",
    "\n",
    "\n",
    "start = datetime.datetime.now()\n",
    "third_dt_result = train_other_models(third_model_processed_features, third_model_processed_target, \n",
    "                   DecisionTreeRegressor(random_state=39), third_dt_hyperparameters, performance_metric)\n",
    "stop = datetime.datetime.now()\n",
    "\n",
    "print(\"Amount of time it took to train model and select optimal hyperparamters was: %s\" % (stop - start))"
   ]
  },
  {
   "cell_type": "code",
   "execution_count": 60,
   "metadata": {},
   "outputs": [
    {
     "data": {
      "text/plain": [
       "(DecisionTreeRegressor(criterion='mse', max_depth=9, max_features=None,\n",
       "            max_leaf_nodes=None, min_impurity_decrease=0.0,\n",
       "            min_impurity_split=None, min_samples_leaf=9,\n",
       "            min_samples_split=2, min_weight_fraction_leaf=0.0,\n",
       "            presort=False, random_state=39, splitter='best'),\n",
       " -0.19275205273508908)"
      ]
     },
     "execution_count": 60,
     "metadata": {},
     "output_type": "execute_result"
    }
   ],
   "source": [
    "third_dt_result"
   ]
  },
  {
   "cell_type": "markdown",
   "metadata": {},
   "source": [
    "The updated features brought the RMSE for decision trees from 0.207 to 0.193. Although better, this improvement is much less then when we added `Neighborhood`, `OverallQual`, and `GrLivArea` the first time around. It is also _higher_ than our previous best solution. Training the model was very quick though. "
   ]
  },
  {
   "cell_type": "code",
   "execution_count": 61,
   "metadata": {},
   "outputs": [
    {
     "name": "stdout",
     "output_type": "stream",
     "text": [
      "Amount of time it took to train model and select optimal hyperparamters was: 0:02:41.419349\n"
     ]
    }
   ],
   "source": [
    "third_rf_hyperparameters = {'n_estimators': [tree for tree in [10, 25, 50, 75, 100, 200, 500, 1000]],\n",
    "              'max_depth': [depth for depth in range(1, 11)], \n",
    "              'min_samples_leaf': [min_samples for min_samples in range(1, 16)]}\n",
    "\n",
    "start = datetime.datetime.now()\n",
    "third_rf_result = train_other_models(third_model_processed_features, third_model_processed_target, \n",
    "                   RandomForestRegressor(random_state=39), third_rf_hyperparameters, performance_metric)\n",
    "stop = datetime.datetime.now()\n",
    "\n",
    "print(\"Amount of time it took to train model and select optimal hyperparamters was: %s\" % (stop - start))"
   ]
  },
  {
   "cell_type": "code",
   "execution_count": 62,
   "metadata": {},
   "outputs": [
    {
     "data": {
      "text/plain": [
       "(RandomForestRegressor(bootstrap=True, criterion='mse', max_depth=9,\n",
       "            max_features='auto', max_leaf_nodes=None,\n",
       "            min_impurity_decrease=0.0, min_impurity_split=None,\n",
       "            min_samples_leaf=1, min_samples_split=2,\n",
       "            min_weight_fraction_leaf=0.0, n_estimators=200, n_jobs=1,\n",
       "            oob_score=False, random_state=39, verbose=0, warm_start=False),\n",
       " -0.17405605595364254)"
      ]
     },
     "execution_count": 62,
     "metadata": {},
     "output_type": "execute_result"
    }
   ],
   "source": [
    "third_rf_result"
   ]
  },
  {
   "cell_type": "markdown",
   "metadata": {},
   "source": [
    "The updated features brough the RMSE for random forest from 0.184 to 0.174. This is the same general pattern as decision trees: specifically, this model showed improvement than the previous one but the improvement from first refined model to second refined model is much less than when we want from our initial model to to the first model. Additionally, like with decision dtrees, this model also appears to be _worse_ than our previous best solution via gradient boosting regressor.  "
   ]
  },
  {
   "cell_type": "code",
   "execution_count": 63,
   "metadata": {},
   "outputs": [
    {
     "name": "stdout",
     "output_type": "stream",
     "text": [
      "Amount of time it took to train model and select optimal hyperparamters was: 0:52:59.941771\n"
     ]
    }
   ],
   "source": [
    "third_gb_hyperparameters = {'loss': ['ls', 'lad', 'huber'],\n",
    "                      'learning_rate': [0.01, 0.1, 1],\n",
    "                      'n_estimators': [100, 200, 300, 500, 700, 1000],\n",
    "                      'max_depth': [depth for depth in range(1, 11)], \n",
    "                      'min_samples_leaf': [min_samples for min_samples in range(1, 16)]}\n",
    "\n",
    "start = datetime.datetime.now()\n",
    "third_gb_result = train_other_models(third_model_processed_features, third_model_processed_target, \n",
    "                   GradientBoostingRegressor(random_state=39), third_gb_hyperparameters, performance_metric)\n",
    "stop = datetime.datetime.now()\n",
    "\n",
    "print(\"Amount of time it took to train model and select optimal hyperparamters was: %s\" % (stop - start))"
   ]
  },
  {
   "cell_type": "code",
   "execution_count": 64,
   "metadata": {},
   "outputs": [
    {
     "data": {
      "text/plain": [
       "(GradientBoostingRegressor(alpha=0.9, criterion='friedman_mse', init=None,\n",
       "              learning_rate=0.1, loss='lad', max_depth=3, max_features=None,\n",
       "              max_leaf_nodes=None, min_impurity_decrease=0.0,\n",
       "              min_impurity_split=None, min_samples_leaf=1,\n",
       "              min_samples_split=2, min_weight_fraction_leaf=0.0,\n",
       "              n_estimators=700, presort='auto', random_state=39,\n",
       "              subsample=1.0, verbose=0, warm_start=False),\n",
       " -0.14715954627261341)"
      ]
     },
     "execution_count": 64,
     "metadata": {},
     "output_type": "execute_result"
    }
   ],
   "source": [
    "third_gb_result"
   ]
  },
  {
   "cell_type": "markdown",
   "metadata": {},
   "source": [
    "Like the other two models, this new gradient boosting model was an improvement from the previous one; validation RMSE dropped from 0.165 to 0.147. Unlike the other two models, however, this model _was_ the best model result of all the model training, tuning, and refinement!\n",
    "\n",
    "Of the three model testing in this iteration, this was the best one. More importantly, however, this was the best result across all three model iterations. Based on the results, we decided to use the this new updated model as my new model moving forward. Like the two previous iterations, I trained this model -- with these hyperparameters -- on the entire training data and then used the model on the testing data. I then converted my predictions to a csv file and then submitted the results to Kaggle.  "
   ]
  },
  {
   "cell_type": "code",
   "execution_count": 65,
   "metadata": {},
   "outputs": [
    {
     "data": {
      "text/plain": [
       "GradientBoostingRegressor(alpha=0.9, criterion='friedman_mse', init=None,\n",
       "             learning_rate=0.1, loss='lad', max_depth=3, max_features=None,\n",
       "             max_leaf_nodes=None, min_impurity_decrease=0.0,\n",
       "             min_impurity_split=None, min_samples_leaf=1,\n",
       "             min_samples_split=2, min_weight_fraction_leaf=0.0,\n",
       "             n_estimators=700, presort='auto', random_state=39,\n",
       "             subsample=1.0, verbose=0, warm_start=False)"
      ]
     },
     "execution_count": 65,
     "metadata": {},
     "output_type": "execute_result"
    }
   ],
   "source": [
    "third_gb_model = GradientBoostingRegressor(loss='lad', max_depth=3, min_samples_leaf=1, \n",
    "                                     learning_rate=0.1, random_state=39, n_estimators=700)\n",
    "third_gb_model.fit(third_model_processed_features, third_model_processed_target)"
   ]
  },
  {
   "cell_type": "markdown",
   "metadata": {},
   "source": [
    "Now you might think this is the way to do this, but you'd be wrong: "
   ]
  },
  {
   "cell_type": "code",
   "execution_count": 66,
   "metadata": {},
   "outputs": [
    {
     "name": "stderr",
     "output_type": "stream",
     "text": [
      "/Users/mihaimsirbu/anaconda/envs/capstone/lib/python3.6/site-packages/ipykernel_launcher.py:5: SettingWithCopyWarning: \n",
      "A value is trying to be set on a copy of a slice from a DataFrame.\n",
      "Try using .loc[row_indexer,col_indexer] = value instead\n",
      "\n",
      "See the caveats in the documentation: http://pandas.pydata.org/pandas-docs/stable/indexing.html#indexing-view-versus-copy\n",
      "  \"\"\"\n"
     ]
    },
    {
     "data": {
      "text/html": [
       "<div>\n",
       "<style>\n",
       "    .dataframe thead tr:only-child th {\n",
       "        text-align: right;\n",
       "    }\n",
       "\n",
       "    .dataframe thead th {\n",
       "        text-align: left;\n",
       "    }\n",
       "\n",
       "    .dataframe tbody tr th {\n",
       "        vertical-align: top;\n",
       "    }\n",
       "</style>\n",
       "<table border=\"1\" class=\"dataframe\">\n",
       "  <thead>\n",
       "    <tr style=\"text-align: right;\">\n",
       "      <th></th>\n",
       "      <th>BedroomAbvGr</th>\n",
       "      <th>MoSold</th>\n",
       "      <th>YrSold</th>\n",
       "      <th>OverallQual</th>\n",
       "      <th>GarageCars</th>\n",
       "      <th>LogLotArea</th>\n",
       "      <th>LogGrLivArea</th>\n",
       "      <th>LogTotalBsmtSF</th>\n",
       "      <th>Neighborhood_Blmngtn</th>\n",
       "      <th>Neighborhood_Blueste</th>\n",
       "      <th>...</th>\n",
       "      <th>ExterQual_Gd</th>\n",
       "      <th>ExterQual_TA</th>\n",
       "      <th>BsmtQual_Ex</th>\n",
       "      <th>BsmtQual_Fa</th>\n",
       "      <th>BsmtQual_Gd</th>\n",
       "      <th>BsmtQual_TA</th>\n",
       "      <th>KitchenQual_Ex</th>\n",
       "      <th>KitchenQual_Fa</th>\n",
       "      <th>KitchenQual_Gd</th>\n",
       "      <th>KitchenQual_TA</th>\n",
       "    </tr>\n",
       "  </thead>\n",
       "  <tbody>\n",
       "    <tr>\n",
       "      <th>0</th>\n",
       "      <td>2</td>\n",
       "      <td>6</td>\n",
       "      <td>2010</td>\n",
       "      <td>5</td>\n",
       "      <td>1.0</td>\n",
       "      <td>9.360741</td>\n",
       "      <td>6.799056</td>\n",
       "      <td>6.783325</td>\n",
       "      <td>0</td>\n",
       "      <td>0</td>\n",
       "      <td>...</td>\n",
       "      <td>0</td>\n",
       "      <td>1</td>\n",
       "      <td>0</td>\n",
       "      <td>0</td>\n",
       "      <td>0</td>\n",
       "      <td>1</td>\n",
       "      <td>0</td>\n",
       "      <td>0</td>\n",
       "      <td>0</td>\n",
       "      <td>1</td>\n",
       "    </tr>\n",
       "    <tr>\n",
       "      <th>1</th>\n",
       "      <td>3</td>\n",
       "      <td>6</td>\n",
       "      <td>2010</td>\n",
       "      <td>6</td>\n",
       "      <td>1.0</td>\n",
       "      <td>9.565775</td>\n",
       "      <td>7.192934</td>\n",
       "      <td>7.192934</td>\n",
       "      <td>0</td>\n",
       "      <td>0</td>\n",
       "      <td>...</td>\n",
       "      <td>0</td>\n",
       "      <td>1</td>\n",
       "      <td>0</td>\n",
       "      <td>0</td>\n",
       "      <td>0</td>\n",
       "      <td>1</td>\n",
       "      <td>0</td>\n",
       "      <td>0</td>\n",
       "      <td>1</td>\n",
       "      <td>0</td>\n",
       "    </tr>\n",
       "    <tr>\n",
       "      <th>2</th>\n",
       "      <td>3</td>\n",
       "      <td>3</td>\n",
       "      <td>2010</td>\n",
       "      <td>5</td>\n",
       "      <td>2.0</td>\n",
       "      <td>9.534668</td>\n",
       "      <td>7.396335</td>\n",
       "      <td>6.834109</td>\n",
       "      <td>0</td>\n",
       "      <td>0</td>\n",
       "      <td>...</td>\n",
       "      <td>0</td>\n",
       "      <td>1</td>\n",
       "      <td>0</td>\n",
       "      <td>0</td>\n",
       "      <td>1</td>\n",
       "      <td>0</td>\n",
       "      <td>0</td>\n",
       "      <td>0</td>\n",
       "      <td>0</td>\n",
       "      <td>1</td>\n",
       "    </tr>\n",
       "    <tr>\n",
       "      <th>3</th>\n",
       "      <td>3</td>\n",
       "      <td>6</td>\n",
       "      <td>2010</td>\n",
       "      <td>6</td>\n",
       "      <td>2.0</td>\n",
       "      <td>9.208238</td>\n",
       "      <td>7.380879</td>\n",
       "      <td>6.831954</td>\n",
       "      <td>0</td>\n",
       "      <td>0</td>\n",
       "      <td>...</td>\n",
       "      <td>0</td>\n",
       "      <td>1</td>\n",
       "      <td>0</td>\n",
       "      <td>0</td>\n",
       "      <td>0</td>\n",
       "      <td>1</td>\n",
       "      <td>0</td>\n",
       "      <td>0</td>\n",
       "      <td>1</td>\n",
       "      <td>0</td>\n",
       "    </tr>\n",
       "    <tr>\n",
       "      <th>4</th>\n",
       "      <td>2</td>\n",
       "      <td>1</td>\n",
       "      <td>2010</td>\n",
       "      <td>8</td>\n",
       "      <td>2.0</td>\n",
       "      <td>8.518392</td>\n",
       "      <td>7.155396</td>\n",
       "      <td>7.155396</td>\n",
       "      <td>0</td>\n",
       "      <td>0</td>\n",
       "      <td>...</td>\n",
       "      <td>1</td>\n",
       "      <td>0</td>\n",
       "      <td>0</td>\n",
       "      <td>0</td>\n",
       "      <td>1</td>\n",
       "      <td>0</td>\n",
       "      <td>0</td>\n",
       "      <td>0</td>\n",
       "      <td>1</td>\n",
       "      <td>0</td>\n",
       "    </tr>\n",
       "  </tbody>\n",
       "</table>\n",
       "<p>5 rows × 45 columns</p>\n",
       "</div>"
      ],
      "text/plain": [
       "   BedroomAbvGr  MoSold  YrSold  OverallQual  GarageCars  LogLotArea  \\\n",
       "0             2       6    2010            5         1.0    9.360741   \n",
       "1             3       6    2010            6         1.0    9.565775   \n",
       "2             3       3    2010            5         2.0    9.534668   \n",
       "3             3       6    2010            6         2.0    9.208238   \n",
       "4             2       1    2010            8         2.0    8.518392   \n",
       "\n",
       "   LogGrLivArea  LogTotalBsmtSF  Neighborhood_Blmngtn  Neighborhood_Blueste  \\\n",
       "0      6.799056        6.783325                     0                     0   \n",
       "1      7.192934        7.192934                     0                     0   \n",
       "2      7.396335        6.834109                     0                     0   \n",
       "3      7.380879        6.831954                     0                     0   \n",
       "4      7.155396        7.155396                     0                     0   \n",
       "\n",
       "        ...        ExterQual_Gd  ExterQual_TA  BsmtQual_Ex  BsmtQual_Fa  \\\n",
       "0       ...                   0             1            0            0   \n",
       "1       ...                   0             1            0            0   \n",
       "2       ...                   0             1            0            0   \n",
       "3       ...                   0             1            0            0   \n",
       "4       ...                   1             0            0            0   \n",
       "\n",
       "   BsmtQual_Gd  BsmtQual_TA  KitchenQual_Ex  KitchenQual_Fa  KitchenQual_Gd  \\\n",
       "0            0            1               0               0               0   \n",
       "1            0            1               0               0               1   \n",
       "2            1            0               0               0               0   \n",
       "3            0            1               0               0               1   \n",
       "4            1            0               0               0               1   \n",
       "\n",
       "   KitchenQual_TA  \n",
       "0               1  \n",
       "1               0  \n",
       "2               1  \n",
       "3               0  \n",
       "4               0  \n",
       "\n",
       "[5 rows x 45 columns]"
      ]
     },
     "execution_count": 66,
     "metadata": {},
     "output_type": "execute_result"
    }
   ],
   "source": [
    "third_model_test_features = test_data[['LotArea', 'BedroomAbvGr', 'MoSold', 'YrSold', \n",
    "                                       'OverallQual', 'GrLivArea', 'Neighborhood', \n",
    "                                       'TotalBsmtSF', 'GarageCars', 'ExterQual', \n",
    "                                       'BsmtQual', 'KitchenQual']]\n",
    "\n",
    "# TotalBsmtSF can sometimes be 0 so we must add 1\n",
    "wrong_third_model_processed_test_cont_features = log_transform_features(third_model_test_features, \n",
    "                                                                  ['LotArea', 'GrLivArea', 'TotalBsmtSF'], \n",
    "                                                                 add_value=True)\n",
    "wrong_third_model_processed_test_features = pd.get_dummies(wrong_third_model_processed_test_cont_features)\n",
    "wrong_third_model_processed_test_features.head()"
   ]
  },
  {
   "cell_type": "markdown",
   "metadata": {
    "collapsed": true
   },
   "source": [
    "At this point, we might be tempted to run something like this but this is not correct: "
   ]
  },
  {
   "cell_type": "code",
   "execution_count": 67,
   "metadata": {
    "collapsed": true
   },
   "outputs": [],
   "source": [
    "# This will fail!\n",
    "\n",
    "#predicted_third_test_results = gb_model.predict(third_model_processed_test_features)\n",
    "#transform_and_save_predictions(predicted_third_test_results, './data/third_model_prediction.csv')"
   ]
  },
  {
   "cell_type": "markdown",
   "metadata": {},
   "source": [
    "The reason this won't work is because there are some null values that must be taken care of as shown below. "
   ]
  },
  {
   "cell_type": "code",
   "execution_count": 68,
   "metadata": {},
   "outputs": [
    {
     "data": {
      "text/plain": [
       "TotalBsmtSF     1\n",
       "GarageCars      1\n",
       "BsmtQual       44\n",
       "KitchenQual     1\n",
       "dtype: int64"
      ]
     },
     "execution_count": 68,
     "metadata": {},
     "output_type": "execute_result"
    }
   ],
   "source": [
    "null_counts = third_model_test_features.isnull().sum()\n",
    "null_counts[null_counts > 0]"
   ]
  },
  {
   "cell_type": "markdown",
   "metadata": {},
   "source": [
    "As you can see, `TotalBsmtSF` has 1 null value, `GarageCars` has 1 null value, `BsmtQual` has 44 null values, and `KitchenQual` has 1 null value as well. Of these four, we don't have to worry about `BsmtQual` because null was a potential label that the model saw for that feature (In this case, it would be represented as four zero for the four non-null values). The other three column values must be filled with imputation.\n",
    "\n",
    "Let's start with the continous feature first"
   ]
  },
  {
   "cell_type": "code",
   "execution_count": 69,
   "metadata": {},
   "outputs": [
    {
     "data": {
      "text/html": [
       "<div>\n",
       "<style>\n",
       "    .dataframe thead tr:only-child th {\n",
       "        text-align: right;\n",
       "    }\n",
       "\n",
       "    .dataframe thead th {\n",
       "        text-align: left;\n",
       "    }\n",
       "\n",
       "    .dataframe tbody tr th {\n",
       "        vertical-align: top;\n",
       "    }\n",
       "</style>\n",
       "<table border=\"1\" class=\"dataframe\">\n",
       "  <thead>\n",
       "    <tr style=\"text-align: right;\">\n",
       "      <th></th>\n",
       "      <th>LotArea</th>\n",
       "      <th>BedroomAbvGr</th>\n",
       "      <th>MoSold</th>\n",
       "      <th>YrSold</th>\n",
       "      <th>OverallQual</th>\n",
       "      <th>GrLivArea</th>\n",
       "      <th>Neighborhood</th>\n",
       "      <th>TotalBsmtSF</th>\n",
       "      <th>GarageCars</th>\n",
       "      <th>ExterQual</th>\n",
       "      <th>BsmtQual</th>\n",
       "      <th>KitchenQual</th>\n",
       "      <th>LogLotArea</th>\n",
       "    </tr>\n",
       "  </thead>\n",
       "  <tbody>\n",
       "    <tr>\n",
       "      <th>660</th>\n",
       "      <td>5940</td>\n",
       "      <td>2</td>\n",
       "      <td>4</td>\n",
       "      <td>2008</td>\n",
       "      <td>4</td>\n",
       "      <td>896</td>\n",
       "      <td>BrkSide</td>\n",
       "      <td>NaN</td>\n",
       "      <td>1.0</td>\n",
       "      <td>TA</td>\n",
       "      <td>NaN</td>\n",
       "      <td>TA</td>\n",
       "      <td>8.689633</td>\n",
       "    </tr>\n",
       "    <tr>\n",
       "      <th>1116</th>\n",
       "      <td>9060</td>\n",
       "      <td>3</td>\n",
       "      <td>3</td>\n",
       "      <td>2007</td>\n",
       "      <td>5</td>\n",
       "      <td>1828</td>\n",
       "      <td>IDOTRR</td>\n",
       "      <td>859.0</td>\n",
       "      <td>NaN</td>\n",
       "      <td>TA</td>\n",
       "      <td>Gd</td>\n",
       "      <td>Gd</td>\n",
       "      <td>9.111735</td>\n",
       "    </tr>\n",
       "  </tbody>\n",
       "</table>\n",
       "</div>"
      ],
      "text/plain": [
       "      LotArea  BedroomAbvGr  MoSold  YrSold  OverallQual  GrLivArea  \\\n",
       "660      5940             2       4    2008            4        896   \n",
       "1116     9060             3       3    2007            5       1828   \n",
       "\n",
       "     Neighborhood  TotalBsmtSF  GarageCars ExterQual BsmtQual KitchenQual  \\\n",
       "660       BrkSide          NaN         1.0        TA      NaN          TA   \n",
       "1116       IDOTRR        859.0         NaN        TA       Gd          Gd   \n",
       "\n",
       "      LogLotArea  \n",
       "660     8.689633  \n",
       "1116    9.111735  "
      ]
     },
     "execution_count": 69,
     "metadata": {},
     "output_type": "execute_result"
    }
   ],
   "source": [
    "third_model_test_features[third_model_test_features['GarageCars'].isnull() | \n",
    "                          third_model_test_features['TotalBsmtSF'].isnull()]"
   ]
  },
  {
   "cell_type": "markdown",
   "metadata": {},
   "source": [
    "As you can see, two different rows are plagued by this null. Let's figure out the general statistics for both columns to see how the values vary here. "
   ]
  },
  {
   "cell_type": "code",
   "execution_count": 70,
   "metadata": {},
   "outputs": [
    {
     "data": {
      "text/html": [
       "<div>\n",
       "<style>\n",
       "    .dataframe thead tr:only-child th {\n",
       "        text-align: right;\n",
       "    }\n",
       "\n",
       "    .dataframe thead th {\n",
       "        text-align: left;\n",
       "    }\n",
       "\n",
       "    .dataframe tbody tr th {\n",
       "        vertical-align: top;\n",
       "    }\n",
       "</style>\n",
       "<table border=\"1\" class=\"dataframe\">\n",
       "  <thead>\n",
       "    <tr style=\"text-align: right;\">\n",
       "      <th></th>\n",
       "      <th>GarageCars</th>\n",
       "      <th>TotalBsmtSF</th>\n",
       "    </tr>\n",
       "  </thead>\n",
       "  <tbody>\n",
       "    <tr>\n",
       "      <th>count</th>\n",
       "      <td>1458.000000</td>\n",
       "      <td>1458.000000</td>\n",
       "    </tr>\n",
       "    <tr>\n",
       "      <th>mean</th>\n",
       "      <td>1.766118</td>\n",
       "      <td>1046.117970</td>\n",
       "    </tr>\n",
       "    <tr>\n",
       "      <th>std</th>\n",
       "      <td>0.775945</td>\n",
       "      <td>442.898624</td>\n",
       "    </tr>\n",
       "    <tr>\n",
       "      <th>min</th>\n",
       "      <td>0.000000</td>\n",
       "      <td>0.000000</td>\n",
       "    </tr>\n",
       "    <tr>\n",
       "      <th>25%</th>\n",
       "      <td>1.000000</td>\n",
       "      <td>784.000000</td>\n",
       "    </tr>\n",
       "    <tr>\n",
       "      <th>50%</th>\n",
       "      <td>2.000000</td>\n",
       "      <td>988.000000</td>\n",
       "    </tr>\n",
       "    <tr>\n",
       "      <th>75%</th>\n",
       "      <td>2.000000</td>\n",
       "      <td>1305.000000</td>\n",
       "    </tr>\n",
       "    <tr>\n",
       "      <th>max</th>\n",
       "      <td>5.000000</td>\n",
       "      <td>5095.000000</td>\n",
       "    </tr>\n",
       "  </tbody>\n",
       "</table>\n",
       "</div>"
      ],
      "text/plain": [
       "        GarageCars  TotalBsmtSF\n",
       "count  1458.000000  1458.000000\n",
       "mean      1.766118  1046.117970\n",
       "std       0.775945   442.898624\n",
       "min       0.000000     0.000000\n",
       "25%       1.000000   784.000000\n",
       "50%       2.000000   988.000000\n",
       "75%       2.000000  1305.000000\n",
       "max       5.000000  5095.000000"
      ]
     },
     "execution_count": 70,
     "metadata": {},
     "output_type": "execute_result"
    }
   ],
   "source": [
    "third_model_test_features[['GarageCars', 'TotalBsmtSF']].describe()"
   ]
  },
  {
   "cell_type": "markdown",
   "metadata": {},
   "source": [
    "As you can see, there are a lot of options here. I can use mean, min, median, etc. I personally think that this shouldn't play a huge deal so I am just going to go with mean (but I can test this later on in a different section). However, notice that we were examining the **ORIGINAL** feature distribution. `TotalBsmtSF` is log transformed. Thus we must go back and apply imputation first and then do the log transform. "
   ]
  },
  {
   "cell_type": "markdown",
   "metadata": {
    "collapsed": true
   },
   "source": [
    "Before we get that, however, we also need to examine the row that has a null `KitchenQual`. That row is below:"
   ]
  },
  {
   "cell_type": "code",
   "execution_count": 71,
   "metadata": {},
   "outputs": [
    {
     "data": {
      "text/html": [
       "<div>\n",
       "<style>\n",
       "    .dataframe thead tr:only-child th {\n",
       "        text-align: right;\n",
       "    }\n",
       "\n",
       "    .dataframe thead th {\n",
       "        text-align: left;\n",
       "    }\n",
       "\n",
       "    .dataframe tbody tr th {\n",
       "        vertical-align: top;\n",
       "    }\n",
       "</style>\n",
       "<table border=\"1\" class=\"dataframe\">\n",
       "  <thead>\n",
       "    <tr style=\"text-align: right;\">\n",
       "      <th></th>\n",
       "      <th>LotArea</th>\n",
       "      <th>BedroomAbvGr</th>\n",
       "      <th>MoSold</th>\n",
       "      <th>YrSold</th>\n",
       "      <th>OverallQual</th>\n",
       "      <th>GrLivArea</th>\n",
       "      <th>Neighborhood</th>\n",
       "      <th>TotalBsmtSF</th>\n",
       "      <th>GarageCars</th>\n",
       "      <th>ExterQual</th>\n",
       "      <th>BsmtQual</th>\n",
       "      <th>KitchenQual</th>\n",
       "      <th>LogLotArea</th>\n",
       "    </tr>\n",
       "  </thead>\n",
       "  <tbody>\n",
       "    <tr>\n",
       "      <th>95</th>\n",
       "      <td>10632</td>\n",
       "      <td>3</td>\n",
       "      <td>1</td>\n",
       "      <td>2010</td>\n",
       "      <td>5</td>\n",
       "      <td>1224</td>\n",
       "      <td>ClearCr</td>\n",
       "      <td>689.0</td>\n",
       "      <td>1.0</td>\n",
       "      <td>TA</td>\n",
       "      <td>Gd</td>\n",
       "      <td>NaN</td>\n",
       "      <td>9.271718</td>\n",
       "    </tr>\n",
       "  </tbody>\n",
       "</table>\n",
       "</div>"
      ],
      "text/plain": [
       "    LotArea  BedroomAbvGr  MoSold  YrSold  OverallQual  GrLivArea  \\\n",
       "95    10632             3       1    2010            5       1224   \n",
       "\n",
       "   Neighborhood  TotalBsmtSF  GarageCars ExterQual BsmtQual KitchenQual  \\\n",
       "95      ClearCr        689.0         1.0        TA       Gd         NaN   \n",
       "\n",
       "    LogLotArea  \n",
       "95    9.271718  "
      ]
     },
     "execution_count": 71,
     "metadata": {},
     "output_type": "execute_result"
    }
   ],
   "source": [
    "third_model_test_features[third_model_test_features['KitchenQual'].isnull()]"
   ]
  },
  {
   "cell_type": "markdown",
   "metadata": {},
   "source": [
    "How to fill this null? Well we could again look at the distributions of KitchenQual and see what the most common one is:"
   ]
  },
  {
   "cell_type": "code",
   "execution_count": 72,
   "metadata": {},
   "outputs": [
    {
     "data": {
      "text/plain": [
       "TA    757\n",
       "Gd    565\n",
       "Ex    105\n",
       "Fa     31\n",
       "Name: KitchenQual, dtype: int64"
      ]
     },
     "execution_count": 72,
     "metadata": {},
     "output_type": "execute_result"
    }
   ],
   "source": [
    "third_model_test_features['KitchenQual'].value_counts()"
   ]
  },
  {
   "cell_type": "markdown",
   "metadata": {},
   "source": [
    "It appears that `TA` and `GD` are the most common values. We could apply the most. But could we go one step further? I think we can. Sepcifically, I think we can use the other features to help us narrow down possible options as I will demonstrate below by using additional features to help: "
   ]
  },
  {
   "cell_type": "code",
   "execution_count": 73,
   "metadata": {},
   "outputs": [
    {
     "data": {
      "text/plain": [
       "TA    5\n",
       "Name: KitchenQual, dtype: int64"
      ]
     },
     "execution_count": 73,
     "metadata": {},
     "output_type": "execute_result"
    }
   ],
   "source": [
    "predicate = (third_model_test_features['Neighborhood'] == 'ClearCr') &  \\\n",
    "            (third_model_test_features['ExterQual'] == 'TA') & \\\n",
    "            (third_model_test_features['BedroomAbvGr'] == 3) \n",
    "        \n",
    "filtered_data = third_model_test_features[predicate]\n",
    "filtered_data['KitchenQual'].value_counts()"
   ]
  },
  {
   "cell_type": "markdown",
   "metadata": {},
   "source": [
    "We can now fill in that data with TA! (Seems reasonable given all of the other options)"
   ]
  },
  {
   "cell_type": "code",
   "execution_count": 74,
   "metadata": {
    "collapsed": true
   },
   "outputs": [],
   "source": [
    "third_model_fillna_features = third_model_test_features.fillna(third_model_test_features.mean())\n",
    "third_model_fillna_features['KitchenQual'] = third_model_test_features['KitchenQual'].fillna('TA')"
   ]
  },
  {
   "cell_type": "markdown",
   "metadata": {},
   "source": [
    "With that we can now see how many columns have null (it should only be `BsmtQual` now!)"
   ]
  },
  {
   "cell_type": "code",
   "execution_count": 75,
   "metadata": {},
   "outputs": [
    {
     "data": {
      "text/plain": [
       "LotArea          0\n",
       "BedroomAbvGr     0\n",
       "MoSold           0\n",
       "YrSold           0\n",
       "OverallQual      0\n",
       "GrLivArea        0\n",
       "Neighborhood     0\n",
       "TotalBsmtSF      0\n",
       "GarageCars       0\n",
       "ExterQual        0\n",
       "BsmtQual        44\n",
       "KitchenQual      0\n",
       "LogLotArea       0\n",
       "dtype: int64"
      ]
     },
     "execution_count": 75,
     "metadata": {},
     "output_type": "execute_result"
    }
   ],
   "source": [
    "third_model_fillna_features.isnull().sum()"
   ]
  },
  {
   "cell_type": "markdown",
   "metadata": {},
   "source": [
    "Now it's time for us to go back and actually take care of the log transform and get ready to actually test the model!"
   ]
  },
  {
   "cell_type": "code",
   "execution_count": 76,
   "metadata": {},
   "outputs": [
    {
     "data": {
      "text/html": [
       "<div>\n",
       "<style>\n",
       "    .dataframe thead tr:only-child th {\n",
       "        text-align: right;\n",
       "    }\n",
       "\n",
       "    .dataframe thead th {\n",
       "        text-align: left;\n",
       "    }\n",
       "\n",
       "    .dataframe tbody tr th {\n",
       "        vertical-align: top;\n",
       "    }\n",
       "</style>\n",
       "<table border=\"1\" class=\"dataframe\">\n",
       "  <thead>\n",
       "    <tr style=\"text-align: right;\">\n",
       "      <th></th>\n",
       "      <th>BedroomAbvGr</th>\n",
       "      <th>MoSold</th>\n",
       "      <th>YrSold</th>\n",
       "      <th>OverallQual</th>\n",
       "      <th>GarageCars</th>\n",
       "      <th>LogLotArea</th>\n",
       "      <th>LogGrLivArea</th>\n",
       "      <th>LogTotalBsmtSF</th>\n",
       "      <th>Neighborhood_Blmngtn</th>\n",
       "      <th>Neighborhood_Blueste</th>\n",
       "      <th>...</th>\n",
       "      <th>ExterQual_Gd</th>\n",
       "      <th>ExterQual_TA</th>\n",
       "      <th>BsmtQual_Ex</th>\n",
       "      <th>BsmtQual_Fa</th>\n",
       "      <th>BsmtQual_Gd</th>\n",
       "      <th>BsmtQual_TA</th>\n",
       "      <th>KitchenQual_Ex</th>\n",
       "      <th>KitchenQual_Fa</th>\n",
       "      <th>KitchenQual_Gd</th>\n",
       "      <th>KitchenQual_TA</th>\n",
       "    </tr>\n",
       "  </thead>\n",
       "  <tbody>\n",
       "    <tr>\n",
       "      <th>0</th>\n",
       "      <td>2</td>\n",
       "      <td>6</td>\n",
       "      <td>2010</td>\n",
       "      <td>5</td>\n",
       "      <td>1.0</td>\n",
       "      <td>9.360741</td>\n",
       "      <td>6.799056</td>\n",
       "      <td>6.783325</td>\n",
       "      <td>0</td>\n",
       "      <td>0</td>\n",
       "      <td>...</td>\n",
       "      <td>0</td>\n",
       "      <td>1</td>\n",
       "      <td>0</td>\n",
       "      <td>0</td>\n",
       "      <td>0</td>\n",
       "      <td>1</td>\n",
       "      <td>0</td>\n",
       "      <td>0</td>\n",
       "      <td>0</td>\n",
       "      <td>1</td>\n",
       "    </tr>\n",
       "    <tr>\n",
       "      <th>1</th>\n",
       "      <td>3</td>\n",
       "      <td>6</td>\n",
       "      <td>2010</td>\n",
       "      <td>6</td>\n",
       "      <td>1.0</td>\n",
       "      <td>9.565775</td>\n",
       "      <td>7.192934</td>\n",
       "      <td>7.192934</td>\n",
       "      <td>0</td>\n",
       "      <td>0</td>\n",
       "      <td>...</td>\n",
       "      <td>0</td>\n",
       "      <td>1</td>\n",
       "      <td>0</td>\n",
       "      <td>0</td>\n",
       "      <td>0</td>\n",
       "      <td>1</td>\n",
       "      <td>0</td>\n",
       "      <td>0</td>\n",
       "      <td>1</td>\n",
       "      <td>0</td>\n",
       "    </tr>\n",
       "    <tr>\n",
       "      <th>2</th>\n",
       "      <td>3</td>\n",
       "      <td>3</td>\n",
       "      <td>2010</td>\n",
       "      <td>5</td>\n",
       "      <td>2.0</td>\n",
       "      <td>9.534668</td>\n",
       "      <td>7.396335</td>\n",
       "      <td>6.834109</td>\n",
       "      <td>0</td>\n",
       "      <td>0</td>\n",
       "      <td>...</td>\n",
       "      <td>0</td>\n",
       "      <td>1</td>\n",
       "      <td>0</td>\n",
       "      <td>0</td>\n",
       "      <td>1</td>\n",
       "      <td>0</td>\n",
       "      <td>0</td>\n",
       "      <td>0</td>\n",
       "      <td>0</td>\n",
       "      <td>1</td>\n",
       "    </tr>\n",
       "    <tr>\n",
       "      <th>3</th>\n",
       "      <td>3</td>\n",
       "      <td>6</td>\n",
       "      <td>2010</td>\n",
       "      <td>6</td>\n",
       "      <td>2.0</td>\n",
       "      <td>9.208238</td>\n",
       "      <td>7.380879</td>\n",
       "      <td>6.831954</td>\n",
       "      <td>0</td>\n",
       "      <td>0</td>\n",
       "      <td>...</td>\n",
       "      <td>0</td>\n",
       "      <td>1</td>\n",
       "      <td>0</td>\n",
       "      <td>0</td>\n",
       "      <td>0</td>\n",
       "      <td>1</td>\n",
       "      <td>0</td>\n",
       "      <td>0</td>\n",
       "      <td>1</td>\n",
       "      <td>0</td>\n",
       "    </tr>\n",
       "    <tr>\n",
       "      <th>4</th>\n",
       "      <td>2</td>\n",
       "      <td>1</td>\n",
       "      <td>2010</td>\n",
       "      <td>8</td>\n",
       "      <td>2.0</td>\n",
       "      <td>8.518392</td>\n",
       "      <td>7.155396</td>\n",
       "      <td>7.155396</td>\n",
       "      <td>0</td>\n",
       "      <td>0</td>\n",
       "      <td>...</td>\n",
       "      <td>1</td>\n",
       "      <td>0</td>\n",
       "      <td>0</td>\n",
       "      <td>0</td>\n",
       "      <td>1</td>\n",
       "      <td>0</td>\n",
       "      <td>0</td>\n",
       "      <td>0</td>\n",
       "      <td>1</td>\n",
       "      <td>0</td>\n",
       "    </tr>\n",
       "  </tbody>\n",
       "</table>\n",
       "<p>5 rows × 45 columns</p>\n",
       "</div>"
      ],
      "text/plain": [
       "   BedroomAbvGr  MoSold  YrSold  OverallQual  GarageCars  LogLotArea  \\\n",
       "0             2       6    2010            5         1.0    9.360741   \n",
       "1             3       6    2010            6         1.0    9.565775   \n",
       "2             3       3    2010            5         2.0    9.534668   \n",
       "3             3       6    2010            6         2.0    9.208238   \n",
       "4             2       1    2010            8         2.0    8.518392   \n",
       "\n",
       "   LogGrLivArea  LogTotalBsmtSF  Neighborhood_Blmngtn  Neighborhood_Blueste  \\\n",
       "0      6.799056        6.783325                     0                     0   \n",
       "1      7.192934        7.192934                     0                     0   \n",
       "2      7.396335        6.834109                     0                     0   \n",
       "3      7.380879        6.831954                     0                     0   \n",
       "4      7.155396        7.155396                     0                     0   \n",
       "\n",
       "        ...        ExterQual_Gd  ExterQual_TA  BsmtQual_Ex  BsmtQual_Fa  \\\n",
       "0       ...                   0             1            0            0   \n",
       "1       ...                   0             1            0            0   \n",
       "2       ...                   0             1            0            0   \n",
       "3       ...                   0             1            0            0   \n",
       "4       ...                   1             0            0            0   \n",
       "\n",
       "   BsmtQual_Gd  BsmtQual_TA  KitchenQual_Ex  KitchenQual_Fa  KitchenQual_Gd  \\\n",
       "0            0            1               0               0               0   \n",
       "1            0            1               0               0               1   \n",
       "2            1            0               0               0               0   \n",
       "3            0            1               0               0               1   \n",
       "4            1            0               0               0               1   \n",
       "\n",
       "   KitchenQual_TA  \n",
       "0               1  \n",
       "1               0  \n",
       "2               1  \n",
       "3               0  \n",
       "4               0  \n",
       "\n",
       "[5 rows x 45 columns]"
      ]
     },
     "execution_count": 76,
     "metadata": {},
     "output_type": "execute_result"
    }
   ],
   "source": [
    "# TotalBsmtSF can sometimes be 0 so we must add 1\n",
    "third_model_processed_test_cont_features = log_transform_features(third_model_fillna_features, \n",
    "                                                                  ['LotArea', 'GrLivArea', 'TotalBsmtSF'], \n",
    "                                                                 add_value=True)\n",
    "third_model_processed_test_features = pd.get_dummies(third_model_processed_test_cont_features)\n",
    "third_model_processed_test_features.head()"
   ]
  },
  {
   "cell_type": "code",
   "execution_count": 77,
   "metadata": {
    "collapsed": true
   },
   "outputs": [],
   "source": [
    "predicted_third_test_results = third_gb_model.predict(third_model_processed_test_features)\n",
    "transform_and_save_predictions(predicted_third_test_results, './data/third_model_prediction.csv')"
   ]
  },
  {
   "cell_type": "markdown",
   "metadata": {},
   "source": [
    "When I submitted my results to Kaggle, the test RMSE was 0.15922. This was by far the best performance of all the model iterations that I ran!"
   ]
  },
  {
   "cell_type": "markdown",
   "metadata": {},
   "source": [
    "# Conclusions"
   ]
  },
  {
   "cell_type": "markdown",
   "metadata": {},
   "source": [
    "Over the course of my model creation process I went through three model iterations with various features in each one. Within each iteration, I created three separate models and ran grid search + train/validation to find the best model with the best hyperparameters. Over the course of this process, my model improved repeatedly from an initial test RMSE to 0.37041 to a final test RMSE of 0.16073. In every iteration, the gradient boosting regressor model was the best one. Additionally, the biggest improvement came from the first model iteration to the second. \n",
    "\n",
    "My best model was a gradient boosting regressor with the following features: \n",
    "*`LotArea`, (Log transform) \n",
    "*`BedroomAbvGr`,  \n",
    "*`MoSold`, \n",
    "*`YrSold`, \n",
    "*`OverallQual`, \n",
    "*`GrLivArea`, (Log transform)\n",
    "*`Neighborhood`, \n",
    "*`TotalBsmtSF`, (Log transform)\n",
    "*`GarageCars`, \n",
    "*`ExterQual`, \n",
    "*`BsmtQual`, \n",
    "*`KitchenQual` \n",
    "\n",
    "With the following hyperparameters: \n",
    "* `learing_rate` = 0.1\n",
    "* `loss` = 'lad'\n",
    "* `max_depth` = 3\n",
    "* `n_estimators` = 700\n",
    "* `min_samples_leaf` = 1\n",
    "\n",
    "It's been quite a process but it's been worth it!"
   ]
  }
 ],
 "metadata": {
  "kernelspec": {
   "display_name": "Python 3",
   "language": "python",
   "name": "python3"
  },
  "language_info": {
   "codemirror_mode": {
    "name": "ipython",
    "version": 3
   },
   "file_extension": ".py",
   "mimetype": "text/x-python",
   "name": "python",
   "nbconvert_exporter": "python",
   "pygments_lexer": "ipython3",
   "version": "3.6.2"
  }
 },
 "nbformat": 4,
 "nbformat_minor": 2
}
